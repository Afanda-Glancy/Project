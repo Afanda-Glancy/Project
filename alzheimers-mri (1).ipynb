{
 "cells": [
  {
   "cell_type": "code",
   "execution_count": 2,
   "metadata": {
    "_cell_guid": "b1076dfc-b9ad-4769-8c92-a6c4dae69d19",
    "_uuid": "8f2839f25d086af736a60e9eeb907d3b93b6e0e5",
    "execution": {
     "iopub.execute_input": "2022-04-21T14:28:36.474792Z",
     "iopub.status.busy": "2022-04-21T14:28:36.474427Z",
     "iopub.status.idle": "2022-04-21T14:28:36.500168Z",
     "shell.execute_reply": "2022-04-21T14:28:36.499536Z",
     "shell.execute_reply.started": "2022-04-21T14:28:36.474707Z"
    }
   },
   "outputs": [
    {
     "ename": "ImportError",
     "evalue": "DLL load failed while importing _path: The specified module could not be found.",
     "output_type": "error",
     "traceback": [
      "\u001b[1;31m---------------------------------------------------------------------------\u001b[0m",
      "\u001b[1;31mImportError\u001b[0m                               Traceback (most recent call last)",
      "Cell \u001b[1;32mIn[2], line 4\u001b[0m\n\u001b[0;32m      2\u001b[0m \u001b[38;5;28;01mimport\u001b[39;00m \u001b[38;5;21;01mpandas\u001b[39;00m \u001b[38;5;28;01mas\u001b[39;00m \u001b[38;5;21;01mpd\u001b[39;00m \n\u001b[0;32m      3\u001b[0m \u001b[38;5;28;01mimport\u001b[39;00m \u001b[38;5;21;01mos\u001b[39;00m\n\u001b[1;32m----> 4\u001b[0m \u001b[38;5;28;01mimport\u001b[39;00m \u001b[38;5;21;01mmatplotlib\u001b[39;00m\u001b[38;5;21;01m.\u001b[39;00m\u001b[38;5;21;01mpyplot\u001b[39;00m \u001b[38;5;28;01mas\u001b[39;00m \u001b[38;5;21;01mplt\u001b[39;00m\n\u001b[0;32m      5\u001b[0m \u001b[38;5;28;01mfrom\u001b[39;00m \u001b[38;5;21;01mPIL\u001b[39;00m \u001b[38;5;28;01mimport\u001b[39;00m Image\n",
      "File \u001b[1;32m~\\anaconda3\\lib\\site-packages\\matplotlib\\pyplot.py:52\u001b[0m\n\u001b[0;32m     50\u001b[0m \u001b[38;5;28;01mfrom\u001b[39;00m \u001b[38;5;21;01mcycler\u001b[39;00m \u001b[38;5;28;01mimport\u001b[39;00m cycler\n\u001b[0;32m     51\u001b[0m \u001b[38;5;28;01mimport\u001b[39;00m \u001b[38;5;21;01mmatplotlib\u001b[39;00m\n\u001b[1;32m---> 52\u001b[0m \u001b[38;5;28;01mimport\u001b[39;00m \u001b[38;5;21;01mmatplotlib\u001b[39;00m\u001b[38;5;21;01m.\u001b[39;00m\u001b[38;5;21;01mcolorbar\u001b[39;00m\n\u001b[0;32m     53\u001b[0m \u001b[38;5;28;01mimport\u001b[39;00m \u001b[38;5;21;01mmatplotlib\u001b[39;00m\u001b[38;5;21;01m.\u001b[39;00m\u001b[38;5;21;01mimage\u001b[39;00m\n\u001b[0;32m     54\u001b[0m \u001b[38;5;28;01mfrom\u001b[39;00m \u001b[38;5;21;01mmatplotlib\u001b[39;00m \u001b[38;5;28;01mimport\u001b[39;00m _api\n",
      "File \u001b[1;32m~\\anaconda3\\lib\\site-packages\\matplotlib\\colorbar.py:19\u001b[0m\n\u001b[0;32m     16\u001b[0m \u001b[38;5;28;01mimport\u001b[39;00m \u001b[38;5;21;01mnumpy\u001b[39;00m \u001b[38;5;28;01mas\u001b[39;00m \u001b[38;5;21;01mnp\u001b[39;00m\n\u001b[0;32m     18\u001b[0m \u001b[38;5;28;01mimport\u001b[39;00m \u001b[38;5;21;01mmatplotlib\u001b[39;00m \u001b[38;5;28;01mas\u001b[39;00m \u001b[38;5;21;01mmpl\u001b[39;00m\n\u001b[1;32m---> 19\u001b[0m \u001b[38;5;28;01mfrom\u001b[39;00m \u001b[38;5;21;01mmatplotlib\u001b[39;00m \u001b[38;5;28;01mimport\u001b[39;00m _api, cbook, collections, cm, colors, contour, ticker\n\u001b[0;32m     20\u001b[0m \u001b[38;5;28;01mimport\u001b[39;00m \u001b[38;5;21;01mmatplotlib\u001b[39;00m\u001b[38;5;21;01m.\u001b[39;00m\u001b[38;5;21;01martist\u001b[39;00m \u001b[38;5;28;01mas\u001b[39;00m \u001b[38;5;21;01mmartist\u001b[39;00m\n\u001b[0;32m     21\u001b[0m \u001b[38;5;28;01mimport\u001b[39;00m \u001b[38;5;21;01mmatplotlib\u001b[39;00m\u001b[38;5;21;01m.\u001b[39;00m\u001b[38;5;21;01mpatches\u001b[39;00m \u001b[38;5;28;01mas\u001b[39;00m \u001b[38;5;21;01mmpatches\u001b[39;00m\n",
      "File \u001b[1;32m~\\anaconda3\\lib\\site-packages\\matplotlib\\collections.py:19\u001b[0m\n\u001b[0;32m     16\u001b[0m \u001b[38;5;28;01mimport\u001b[39;00m \u001b[38;5;21;01mnumpy\u001b[39;00m \u001b[38;5;28;01mas\u001b[39;00m \u001b[38;5;21;01mnp\u001b[39;00m\n\u001b[0;32m     18\u001b[0m \u001b[38;5;28;01mimport\u001b[39;00m \u001b[38;5;21;01mmatplotlib\u001b[39;00m \u001b[38;5;28;01mas\u001b[39;00m \u001b[38;5;21;01mmpl\u001b[39;00m\n\u001b[1;32m---> 19\u001b[0m \u001b[38;5;28;01mfrom\u001b[39;00m \u001b[38;5;21;01m.\u001b[39;00m \u001b[38;5;28;01mimport\u001b[39;00m (_api, _path, artist, cbook, cm, colors \u001b[38;5;28;01mas\u001b[39;00m mcolors, _docstring,\n\u001b[0;32m     20\u001b[0m                hatch \u001b[38;5;28;01mas\u001b[39;00m mhatch, lines \u001b[38;5;28;01mas\u001b[39;00m mlines, path \u001b[38;5;28;01mas\u001b[39;00m mpath, transforms)\n\u001b[0;32m     21\u001b[0m \u001b[38;5;28;01mfrom\u001b[39;00m \u001b[38;5;21;01m.\u001b[39;00m\u001b[38;5;21;01m_enums\u001b[39;00m \u001b[38;5;28;01mimport\u001b[39;00m JoinStyle, CapStyle\n\u001b[0;32m     24\u001b[0m \u001b[38;5;66;03m# \"color\" is excluded; it is a compound setter, and its docstring differs\u001b[39;00m\n\u001b[0;32m     25\u001b[0m \u001b[38;5;66;03m# in LineCollection.\u001b[39;00m\n",
      "\u001b[1;31mImportError\u001b[0m: DLL load failed while importing _path: The specified module could not be found."
     ]
    }
   ],
   "source": [
    "import numpy as np \n",
    "import pandas as pd \n",
    "import os\n",
    "import matplotlib.pyplot as plt\n",
    "from PIL import Image"
   ]
  },
  {
   "cell_type": "code",
   "execution_count": 5,
   "metadata": {
    "execution": {
     "iopub.execute_input": "2022-04-21T14:28:36.509975Z",
     "iopub.status.busy": "2022-04-21T14:28:36.509456Z",
     "iopub.status.idle": "2022-04-21T14:28:36.514688Z",
     "shell.execute_reply": "2022-04-21T14:28:36.513902Z",
     "shell.execute_reply.started": "2022-04-21T14:28:36.50994Z"
    }
   },
   "outputs": [],
   "source": [
    "data_src=\"Dataset/\""
   ]
  },
  {
   "cell_type": "code",
   "execution_count": 6,
   "metadata": {
    "execution": {
     "iopub.execute_input": "2022-04-21T14:28:36.517491Z",
     "iopub.status.busy": "2022-04-21T14:28:36.516938Z",
     "iopub.status.idle": "2022-04-21T14:29:27.85935Z",
     "shell.execute_reply": "2022-04-21T14:29:27.858578Z",
     "shell.execute_reply.started": "2022-04-21T14:28:36.517454Z"
    }
   },
   "outputs": [],
   "source": [
    "data=[]\n",
    "y=[]\n",
    "for d in os.listdir(data_src):\n",
    "    for file in os.listdir(data_src+d):\n",
    "        data.append(Image.open(data_src+d+'/'+file))\n",
    "        y.append(d)"
   ]
  },
  {
   "cell_type": "code",
   "execution_count": 7,
   "metadata": {
    "execution": {
     "iopub.execute_input": "2022-04-21T14:29:27.861005Z",
     "iopub.status.busy": "2022-04-21T14:29:27.86074Z",
     "iopub.status.idle": "2022-04-21T14:29:31.633127Z",
     "shell.execute_reply": "2022-04-21T14:29:31.632378Z",
     "shell.execute_reply.started": "2022-04-21T14:29:27.860969Z"
    }
   },
   "outputs": [],
   "source": [
    "X=[]\n",
    "for im in data:\n",
    "    X.append(np.array(im))"
   ]
  },
  {
   "cell_type": "code",
   "execution_count": 8,
   "metadata": {
    "execution": {
     "iopub.execute_input": "2022-04-21T14:29:31.634992Z",
     "iopub.status.busy": "2022-04-21T14:29:31.634501Z",
     "iopub.status.idle": "2022-04-21T14:29:31.705767Z",
     "shell.execute_reply": "2022-04-21T14:29:31.705035Z",
     "shell.execute_reply.started": "2022-04-21T14:29:31.634955Z"
    }
   },
   "outputs": [],
   "source": [
    "X=np.array(X)"
   ]
  },
  {
   "cell_type": "code",
   "execution_count": 9,
   "metadata": {
    "execution": {
     "iopub.execute_input": "2022-04-21T14:29:31.708766Z",
     "iopub.status.busy": "2022-04-21T14:29:31.708264Z",
     "iopub.status.idle": "2022-04-21T14:29:31.717179Z",
     "shell.execute_reply": "2022-04-21T14:29:31.716507Z",
     "shell.execute_reply.started": "2022-04-21T14:29:31.708728Z"
    }
   },
   "outputs": [
    {
     "data": {
      "text/plain": [
       "(6400, 128, 128)"
      ]
     },
     "execution_count": 9,
     "metadata": {},
     "output_type": "execute_result"
    }
   ],
   "source": [
    "X.shape"
   ]
  },
  {
   "cell_type": "code",
   "execution_count": 10,
   "metadata": {
    "execution": {
     "iopub.execute_input": "2022-04-21T14:29:31.720976Z",
     "iopub.status.busy": "2022-04-21T14:29:31.720525Z",
     "iopub.status.idle": "2022-04-21T14:29:31.980936Z",
     "shell.execute_reply": "2022-04-21T14:29:31.980165Z",
     "shell.execute_reply.started": "2022-04-21T14:29:31.720939Z"
    }
   },
   "outputs": [],
   "source": [
    "X=X/255"
   ]
  },
  {
   "cell_type": "code",
   "execution_count": 11,
   "metadata": {
    "execution": {
     "iopub.execute_input": "2022-04-21T14:29:31.982436Z",
     "iopub.status.busy": "2022-04-21T14:29:31.98217Z",
     "iopub.status.idle": "2022-04-21T14:29:32.850894Z",
     "shell.execute_reply": "2022-04-21T14:29:32.850019Z",
     "shell.execute_reply.started": "2022-04-21T14:29:31.982402Z"
    }
   },
   "outputs": [],
   "source": [
    "from sklearn.model_selection import train_test_split"
   ]
  },
  {
   "cell_type": "code",
   "execution_count": 12,
   "metadata": {
    "execution": {
     "iopub.execute_input": "2022-04-21T14:29:32.853327Z",
     "iopub.status.busy": "2022-04-21T14:29:32.852246Z",
     "iopub.status.idle": "2022-04-21T14:29:37.758888Z",
     "shell.execute_reply": "2022-04-21T14:29:37.758129Z",
     "shell.execute_reply.started": "2022-04-21T14:29:32.853269Z"
    }
   },
   "outputs": [],
   "source": [
    "from tensorflow.keras.models import Sequential\n",
    "from tensorflow.keras.layers import Dense,Conv2D,MaxPooling2D,Flatten\n",
    "from tensorflow.keras.utils import to_categorical"
   ]
  },
  {
   "cell_type": "code",
   "execution_count": 13,
   "metadata": {
    "execution": {
     "iopub.execute_input": "2022-04-21T14:29:37.760634Z",
     "iopub.status.busy": "2022-04-21T14:29:37.760386Z",
     "iopub.status.idle": "2022-04-21T14:29:37.774216Z",
     "shell.execute_reply": "2022-04-21T14:29:37.773531Z",
     "shell.execute_reply.started": "2022-04-21T14:29:37.760598Z"
    }
   },
   "outputs": [
    {
     "name": "stdout",
     "output_type": "stream",
     "text": [
      "Non Demented:  3200\n",
      "Very Mild:  2240\n",
      "Moderate:  64\n",
      "Mild : 896\n"
     ]
    }
   ],
   "source": [
    "non=0\n",
    "mild=0\n",
    "mod=0\n",
    "vm=0\n",
    "for cat in y:\n",
    "    if cat==\"Mild_Demented\":\n",
    "        mild+=1\n",
    "    elif cat==\"Moderate_Demented\":\n",
    "        mod+=1\n",
    "    elif cat==\"Non_Demented\":\n",
    "        non+=1\n",
    "    else:\n",
    "        vm+=1\n",
    "print(\"Non Demented: \",non)\n",
    "print(\"Very Mild: \",vm)\n",
    "print(\"Moderate: \",mod)\n",
    "print(\"Mild :\",mild)\n"
   ]
  },
  {
   "cell_type": "code",
   "execution_count": 14,
   "metadata": {
    "execution": {
     "iopub.execute_input": "2022-04-21T14:29:37.775683Z",
     "iopub.status.busy": "2022-04-21T14:29:37.775303Z",
     "iopub.status.idle": "2022-04-21T14:29:37.786472Z",
     "shell.execute_reply": "2022-04-21T14:29:37.785673Z",
     "shell.execute_reply.started": "2022-04-21T14:29:37.775644Z"
    }
   },
   "outputs": [],
   "source": [
    "y_num=[]\n",
    "for cat in y:\n",
    "    if cat==\"Mild_Demented\":\n",
    "        y_num.append(2)\n",
    "    elif cat==\"Moderate_Demented\":\n",
    "        y_num.append(3)\n",
    "    elif cat==\"Non_Demented\":\n",
    "        y_num.append(0)\n",
    "    else:\n",
    "        y_num.append(1)"
   ]
  },
  {
   "cell_type": "code",
   "execution_count": 15,
   "metadata": {
    "execution": {
     "iopub.execute_input": "2022-04-21T14:29:37.788672Z",
     "iopub.status.busy": "2022-04-21T14:29:37.788117Z",
     "iopub.status.idle": "2022-04-21T14:29:37.796147Z",
     "shell.execute_reply": "2022-04-21T14:29:37.79538Z",
     "shell.execute_reply.started": "2022-04-21T14:29:37.788623Z"
    }
   },
   "outputs": [],
   "source": [
    "y=to_categorical(y_num)"
   ]
  },
  {
   "cell_type": "code",
   "execution_count": 16,
   "metadata": {
    "execution": {
     "iopub.execute_input": "2022-04-21T14:29:37.79813Z",
     "iopub.status.busy": "2022-04-21T14:29:37.797749Z",
     "iopub.status.idle": "2022-04-21T14:29:37.804468Z",
     "shell.execute_reply": "2022-04-21T14:29:37.803565Z",
     "shell.execute_reply.started": "2022-04-21T14:29:37.798094Z"
    }
   },
   "outputs": [
    {
     "data": {
      "text/plain": [
       "(6400, 4)"
      ]
     },
     "execution_count": 16,
     "metadata": {},
     "output_type": "execute_result"
    }
   ],
   "source": [
    "y.shape"
   ]
  },
  {
   "cell_type": "code",
   "execution_count": 17,
   "metadata": {
    "execution": {
     "iopub.execute_input": "2022-04-21T14:29:37.806528Z",
     "iopub.status.busy": "2022-04-21T14:29:37.806258Z",
     "iopub.status.idle": "2022-04-21T14:29:37.811879Z",
     "shell.execute_reply": "2022-04-21T14:29:37.811202Z",
     "shell.execute_reply.started": "2022-04-21T14:29:37.806493Z"
    }
   },
   "outputs": [],
   "source": [
    "X=X.reshape(6400,128,128,1)"
   ]
  },
  {
   "cell_type": "code",
   "execution_count": 18,
   "metadata": {
    "execution": {
     "iopub.execute_input": "2022-04-21T14:29:37.813476Z",
     "iopub.status.busy": "2022-04-21T14:29:37.813086Z",
     "iopub.status.idle": "2022-04-21T14:29:38.327474Z",
     "shell.execute_reply": "2022-04-21T14:29:38.326735Z",
     "shell.execute_reply.started": "2022-04-21T14:29:37.813438Z"
    }
   },
   "outputs": [],
   "source": [
    "X_train,X_test,y_train,y_test=train_test_split(X,y,test_size=0.25,random_state=42)"
   ]
  },
  {
   "cell_type": "code",
   "execution_count": 19,
   "metadata": {
    "execution": {
     "iopub.execute_input": "2022-04-21T14:29:38.329114Z",
     "iopub.status.busy": "2022-04-21T14:29:38.328872Z",
     "iopub.status.idle": "2022-04-21T14:29:38.336166Z",
     "shell.execute_reply": "2022-04-21T14:29:38.335447Z",
     "shell.execute_reply.started": "2022-04-21T14:29:38.32908Z"
    }
   },
   "outputs": [
    {
     "name": "stdout",
     "output_type": "stream",
     "text": [
      "(4800, 128, 128, 1) (1600, 128, 128, 1) (4800, 4) (1600, 4)\n"
     ]
    }
   ],
   "source": [
    "print(X_train.shape,X_test.shape,y_train.shape,y_test.shape)"
   ]
  },
  {
   "cell_type": "code",
   "execution_count": 20,
   "metadata": {
    "execution": {
     "iopub.execute_input": "2022-04-21T14:29:38.33849Z",
     "iopub.status.busy": "2022-04-21T14:29:38.337606Z",
     "iopub.status.idle": "2022-04-21T14:29:40.676662Z",
     "shell.execute_reply": "2022-04-21T14:29:40.674919Z",
     "shell.execute_reply.started": "2022-04-21T14:29:38.338452Z"
    }
   },
   "outputs": [],
   "source": [
    "cnn=Sequential()\n",
    "cnn.add(Conv2D(64,(3,3),padding=\"same\",activation='relu',input_shape=X_train.shape[1:]))\n",
    "cnn.add(MaxPooling2D())\n",
    "cnn.add(Conv2D(32,(3,3),padding=\"same\",activation='relu'))\n",
    "cnn.add(MaxPooling2D())\n",
    "cnn.add(Conv2D(32,(2,2),padding=\"same\",activation='relu'))\n",
    "cnn.add(MaxPooling2D())\n",
    "cnn.add(Flatten())\n",
    "cnn.add(Dense(100,activation='relu'))\n",
    "cnn.add(Dense(50,activation='relu'))\n",
    "cnn.add(Dense(4,activation='softmax'))"
   ]
  },
  {
   "cell_type": "code",
   "execution_count": 21,
   "metadata": {
    "execution": {
     "iopub.execute_input": "2022-04-21T14:29:40.68024Z",
     "iopub.status.busy": "2022-04-21T14:29:40.680045Z",
     "iopub.status.idle": "2022-04-21T14:29:40.691783Z",
     "shell.execute_reply": "2022-04-21T14:29:40.690254Z",
     "shell.execute_reply.started": "2022-04-21T14:29:40.680214Z"
    }
   },
   "outputs": [
    {
     "name": "stdout",
     "output_type": "stream",
     "text": [
      "Model: \"sequential\"\n",
      "_________________________________________________________________\n",
      " Layer (type)                Output Shape              Param #   \n",
      "=================================================================\n",
      " conv2d (Conv2D)             (None, 128, 128, 64)      640       \n",
      "                                                                 \n",
      " max_pooling2d (MaxPooling2D  (None, 64, 64, 64)       0         \n",
      " )                                                               \n",
      "                                                                 \n",
      " conv2d_1 (Conv2D)           (None, 64, 64, 32)        18464     \n",
      "                                                                 \n",
      " max_pooling2d_1 (MaxPooling  (None, 32, 32, 32)       0         \n",
      " 2D)                                                             \n",
      "                                                                 \n",
      " conv2d_2 (Conv2D)           (None, 32, 32, 32)        4128      \n",
      "                                                                 \n",
      " max_pooling2d_2 (MaxPooling  (None, 16, 16, 32)       0         \n",
      " 2D)                                                             \n",
      "                                                                 \n",
      " flatten (Flatten)           (None, 8192)              0         \n",
      "                                                                 \n",
      " dense (Dense)               (None, 100)               819300    \n",
      "                                                                 \n",
      " dense_1 (Dense)             (None, 50)                5050      \n",
      "                                                                 \n",
      " dense_2 (Dense)             (None, 4)                 204       \n",
      "                                                                 \n",
      "=================================================================\n",
      "Total params: 847,786\n",
      "Trainable params: 847,786\n",
      "Non-trainable params: 0\n",
      "_________________________________________________________________\n"
     ]
    }
   ],
   "source": [
    "cnn.summary()"
   ]
  },
  {
   "cell_type": "code",
   "execution_count": 22,
   "metadata": {
    "execution": {
     "iopub.execute_input": "2022-04-21T14:29:40.693714Z",
     "iopub.status.busy": "2022-04-21T14:29:40.693453Z",
     "iopub.status.idle": "2022-04-21T14:29:40.706278Z",
     "shell.execute_reply": "2022-04-21T14:29:40.705476Z",
     "shell.execute_reply.started": "2022-04-21T14:29:40.693677Z"
    }
   },
   "outputs": [],
   "source": [
    "cnn.compile(optimizer='adam',loss='categorical_crossentropy',metrics='accuracy')"
   ]
  },
  {
   "cell_type": "code",
   "execution_count": 23,
   "metadata": {
    "execution": {
     "iopub.execute_input": "2022-04-21T14:29:40.7082Z",
     "iopub.status.busy": "2022-04-21T14:29:40.707935Z",
     "iopub.status.idle": "2022-04-21T14:31:03.992645Z",
     "shell.execute_reply": "2022-04-21T14:31:03.991899Z",
     "shell.execute_reply.started": "2022-04-21T14:29:40.708165Z"
    }
   },
   "outputs": [
    {
     "name": "stdout",
     "output_type": "stream",
     "text": [
      "Epoch 1/100\n",
      "150/150 [==============================] - 205s 1s/step - loss: 1.0303 - accuracy: 0.5125 - val_loss: 1.0116 - val_accuracy: 0.5325\n",
      "Epoch 2/100\n",
      "150/150 [==============================] - 183s 1s/step - loss: 0.9020 - accuracy: 0.5788 - val_loss: 0.8734 - val_accuracy: 0.5706\n",
      "Epoch 3/100\n",
      "150/150 [==============================] - 182s 1s/step - loss: 0.7823 - accuracy: 0.6517 - val_loss: 0.7699 - val_accuracy: 0.6463\n",
      "Epoch 4/100\n",
      "150/150 [==============================] - 177s 1s/step - loss: 0.5908 - accuracy: 0.7496 - val_loss: 0.5645 - val_accuracy: 0.7694\n",
      "Epoch 5/100\n",
      "150/150 [==============================] - 172s 1s/step - loss: 0.3781 - accuracy: 0.8558 - val_loss: 0.3983 - val_accuracy: 0.8325\n",
      "Epoch 6/100\n",
      "150/150 [==============================] - 173s 1s/step - loss: 0.2003 - accuracy: 0.9235 - val_loss: 0.2394 - val_accuracy: 0.9031\n",
      "Epoch 7/100\n",
      "150/150 [==============================] - 178s 1s/step - loss: 0.1092 - accuracy: 0.9613 - val_loss: 0.6143 - val_accuracy: 0.7594\n",
      "Epoch 8/100\n",
      "150/150 [==============================] - 179s 1s/step - loss: 0.0820 - accuracy: 0.9710 - val_loss: 0.1552 - val_accuracy: 0.9419\n",
      "Epoch 9/100\n",
      "150/150 [==============================] - 171s 1s/step - loss: 0.0784 - accuracy: 0.9733 - val_loss: 0.1284 - val_accuracy: 0.9569\n",
      "Epoch 10/100\n",
      "150/150 [==============================] - 172s 1s/step - loss: 0.0121 - accuracy: 0.9977 - val_loss: 0.1093 - val_accuracy: 0.9669\n",
      "Epoch 11/100\n",
      "150/150 [==============================] - 171s 1s/step - loss: 0.0160 - accuracy: 0.9956 - val_loss: 0.1278 - val_accuracy: 0.9556\n",
      "Epoch 12/100\n",
      "150/150 [==============================] - 171s 1s/step - loss: 0.0119 - accuracy: 0.9971 - val_loss: 0.1016 - val_accuracy: 0.9700\n",
      "Epoch 13/100\n",
      "150/150 [==============================] - 174s 1s/step - loss: 8.3128e-04 - accuracy: 1.0000 - val_loss: 0.1042 - val_accuracy: 0.9756\n",
      "Epoch 14/100\n",
      "150/150 [==============================] - 172s 1s/step - loss: 4.7931e-04 - accuracy: 1.0000 - val_loss: 0.1141 - val_accuracy: 0.9688\n",
      "Epoch 15/100\n",
      "150/150 [==============================] - 159s 1s/step - loss: 3.1391e-04 - accuracy: 1.0000 - val_loss: 0.1144 - val_accuracy: 0.9725\n",
      "Epoch 16/100\n",
      "150/150 [==============================] - 138s 924ms/step - loss: 2.3222e-04 - accuracy: 1.0000 - val_loss: 0.1173 - val_accuracy: 0.9731\n",
      "Epoch 17/100\n",
      "150/150 [==============================] - 131s 871ms/step - loss: 1.8982e-04 - accuracy: 1.0000 - val_loss: 0.1138 - val_accuracy: 0.9744\n",
      "Epoch 18/100\n",
      "150/150 [==============================] - 134s 893ms/step - loss: 1.5702e-04 - accuracy: 1.0000 - val_loss: 0.1144 - val_accuracy: 0.9750\n",
      "Epoch 19/100\n",
      "150/150 [==============================] - 132s 878ms/step - loss: 1.3201e-04 - accuracy: 1.0000 - val_loss: 0.1172 - val_accuracy: 0.9731\n",
      "Epoch 20/100\n",
      "150/150 [==============================] - 136s 905ms/step - loss: 1.1384e-04 - accuracy: 1.0000 - val_loss: 0.1170 - val_accuracy: 0.9744\n",
      "Epoch 21/100\n",
      "150/150 [==============================] - 132s 881ms/step - loss: 9.8023e-05 - accuracy: 1.0000 - val_loss: 0.1156 - val_accuracy: 0.9737\n",
      "Epoch 22/100\n",
      "150/150 [==============================] - 137s 915ms/step - loss: 8.5402e-05 - accuracy: 1.0000 - val_loss: 0.1217 - val_accuracy: 0.9731\n",
      "Epoch 23/100\n",
      "150/150 [==============================] - 129s 861ms/step - loss: 7.5074e-05 - accuracy: 1.0000 - val_loss: 0.1171 - val_accuracy: 0.9731\n",
      "Epoch 24/100\n",
      "150/150 [==============================] - 127s 848ms/step - loss: 6.7129e-05 - accuracy: 1.0000 - val_loss: 0.1191 - val_accuracy: 0.9731\n",
      "Epoch 25/100\n",
      "150/150 [==============================] - 126s 839ms/step - loss: 5.9161e-05 - accuracy: 1.0000 - val_loss: 0.1212 - val_accuracy: 0.9737\n",
      "Epoch 26/100\n",
      "150/150 [==============================] - 141s 940ms/step - loss: 5.1937e-05 - accuracy: 1.0000 - val_loss: 0.1245 - val_accuracy: 0.9737\n",
      "Epoch 27/100\n",
      "150/150 [==============================] - 156s 1s/step - loss: 4.6709e-05 - accuracy: 1.0000 - val_loss: 0.1217 - val_accuracy: 0.9744\n",
      "Epoch 28/100\n",
      "150/150 [==============================] - 164s 1s/step - loss: 4.1636e-05 - accuracy: 1.0000 - val_loss: 0.1245 - val_accuracy: 0.9737\n",
      "Epoch 29/100\n",
      "150/150 [==============================] - 136s 909ms/step - loss: 3.7343e-05 - accuracy: 1.0000 - val_loss: 0.1248 - val_accuracy: 0.9737\n",
      "Epoch 30/100\n",
      "150/150 [==============================] - 136s 908ms/step - loss: 3.3382e-05 - accuracy: 1.0000 - val_loss: 0.1232 - val_accuracy: 0.9750\n",
      "Epoch 31/100\n",
      "150/150 [==============================] - 163s 1s/step - loss: 3.0457e-05 - accuracy: 1.0000 - val_loss: 0.1246 - val_accuracy: 0.9744\n",
      "Epoch 32/100\n",
      "150/150 [==============================] - 142s 944ms/step - loss: 2.7299e-05 - accuracy: 1.0000 - val_loss: 0.1259 - val_accuracy: 0.9744\n",
      "Epoch 33/100\n",
      "150/150 [==============================] - 140s 930ms/step - loss: 2.4693e-05 - accuracy: 1.0000 - val_loss: 0.1269 - val_accuracy: 0.9744\n",
      "Epoch 34/100\n",
      "150/150 [==============================] - 147s 979ms/step - loss: 2.2250e-05 - accuracy: 1.0000 - val_loss: 0.1291 - val_accuracy: 0.9750\n",
      "Epoch 35/100\n",
      "150/150 [==============================] - 123s 817ms/step - loss: 2.0281e-05 - accuracy: 1.0000 - val_loss: 0.1286 - val_accuracy: 0.9756\n",
      "Epoch 36/100\n",
      "150/150 [==============================] - 119s 794ms/step - loss: 1.8277e-05 - accuracy: 1.0000 - val_loss: 0.1290 - val_accuracy: 0.9750\n",
      "Epoch 37/100\n",
      "150/150 [==============================] - 119s 793ms/step - loss: 1.5929e-05 - accuracy: 1.0000 - val_loss: 0.1334 - val_accuracy: 0.9750\n",
      "Epoch 38/100\n",
      "150/150 [==============================] - 118s 790ms/step - loss: 1.3863e-05 - accuracy: 1.0000 - val_loss: 0.1316 - val_accuracy: 0.9756\n",
      "Epoch 39/100\n",
      "150/150 [==============================] - 127s 849ms/step - loss: 1.2330e-05 - accuracy: 1.0000 - val_loss: 0.1344 - val_accuracy: 0.9769\n",
      "Epoch 40/100\n",
      "150/150 [==============================] - 129s 859ms/step - loss: 1.0752e-05 - accuracy: 1.0000 - val_loss: 0.1375 - val_accuracy: 0.9756\n",
      "Epoch 41/100\n",
      "150/150 [==============================] - 142s 945ms/step - loss: 9.5342e-06 - accuracy: 1.0000 - val_loss: 0.1375 - val_accuracy: 0.9775\n",
      "Epoch 42/100\n",
      "150/150 [==============================] - 128s 855ms/step - loss: 8.3212e-06 - accuracy: 1.0000 - val_loss: 0.1391 - val_accuracy: 0.9756\n",
      "Epoch 43/100\n",
      "150/150 [==============================] - 131s 870ms/step - loss: 7.3405e-06 - accuracy: 1.0000 - val_loss: 0.1399 - val_accuracy: 0.9781\n",
      "Epoch 44/100\n",
      "150/150 [==============================] - 131s 874ms/step - loss: 6.5377e-06 - accuracy: 1.0000 - val_loss: 0.1448 - val_accuracy: 0.9781\n",
      "Epoch 45/100\n",
      "150/150 [==============================] - 139s 928ms/step - loss: 5.8259e-06 - accuracy: 1.0000 - val_loss: 0.1414 - val_accuracy: 0.9775\n",
      "Epoch 46/100\n",
      "150/150 [==============================] - 136s 905ms/step - loss: 5.2514e-06 - accuracy: 1.0000 - val_loss: 0.1431 - val_accuracy: 0.9781\n",
      "Epoch 47/100\n",
      "150/150 [==============================] - 131s 873ms/step - loss: 4.6579e-06 - accuracy: 1.0000 - val_loss: 0.1488 - val_accuracy: 0.9787\n",
      "Epoch 48/100\n",
      "150/150 [==============================] - 126s 838ms/step - loss: 4.1780e-06 - accuracy: 1.0000 - val_loss: 0.1466 - val_accuracy: 0.9781\n",
      "Epoch 49/100\n",
      "150/150 [==============================] - 126s 840ms/step - loss: 3.7749e-06 - accuracy: 1.0000 - val_loss: 0.1487 - val_accuracy: 0.9781\n",
      "Epoch 50/100\n",
      "150/150 [==============================] - 124s 825ms/step - loss: 3.3811e-06 - accuracy: 1.0000 - val_loss: 0.1514 - val_accuracy: 0.9787\n",
      "Epoch 51/100\n",
      "150/150 [==============================] - 124s 825ms/step - loss: 3.0752e-06 - accuracy: 1.0000 - val_loss: 0.1571 - val_accuracy: 0.9787\n",
      "Epoch 52/100\n",
      "150/150 [==============================] - 124s 827ms/step - loss: 2.7980e-06 - accuracy: 1.0000 - val_loss: 0.1556 - val_accuracy: 0.9794\n",
      "Epoch 53/100\n",
      "150/150 [==============================] - 124s 824ms/step - loss: 2.5331e-06 - accuracy: 1.0000 - val_loss: 0.1568 - val_accuracy: 0.9794\n",
      "Epoch 54/100\n",
      "150/150 [==============================] - 123s 823ms/step - loss: 2.2779e-06 - accuracy: 1.0000 - val_loss: 0.1595 - val_accuracy: 0.9781\n",
      "Epoch 55/100\n",
      "150/150 [==============================] - 129s 860ms/step - loss: 2.0452e-06 - accuracy: 1.0000 - val_loss: 0.1601 - val_accuracy: 0.9781\n",
      "Epoch 56/100\n",
      "150/150 [==============================] - 126s 838ms/step - loss: 1.8513e-06 - accuracy: 1.0000 - val_loss: 0.1643 - val_accuracy: 0.9800\n",
      "Epoch 57/100\n",
      "150/150 [==============================] - 121s 811ms/step - loss: 1.6727e-06 - accuracy: 1.0000 - val_loss: 0.1657 - val_accuracy: 0.9787\n",
      "Epoch 58/100\n",
      "150/150 [==============================] - 131s 874ms/step - loss: 1.5089e-06 - accuracy: 1.0000 - val_loss: 0.1658 - val_accuracy: 0.9800\n",
      "Epoch 59/100\n",
      "150/150 [==============================] - 119s 796ms/step - loss: 1.3605e-06 - accuracy: 1.0000 - val_loss: 0.1687 - val_accuracy: 0.9800\n",
      "Epoch 60/100\n",
      "150/150 [==============================] - 120s 800ms/step - loss: 1.2712e-06 - accuracy: 1.0000 - val_loss: 0.1688 - val_accuracy: 0.9812\n",
      "Epoch 61/100\n",
      "150/150 [==============================] - 118s 790ms/step - loss: 1.1317e-06 - accuracy: 1.0000 - val_loss: 0.1704 - val_accuracy: 0.9812\n",
      "Epoch 62/100\n",
      "150/150 [==============================] - 122s 815ms/step - loss: 1.0338e-06 - accuracy: 1.0000 - val_loss: 0.1728 - val_accuracy: 0.9787\n",
      "Epoch 63/100\n",
      "150/150 [==============================] - 119s 794ms/step - loss: 9.3743e-07 - accuracy: 1.0000 - val_loss: 0.1727 - val_accuracy: 0.9806\n",
      "Epoch 64/100\n",
      "150/150 [==============================] - 120s 800ms/step - loss: 8.4042e-07 - accuracy: 1.0000 - val_loss: 0.1768 - val_accuracy: 0.9806\n",
      "Epoch 65/100\n",
      "150/150 [==============================] - 119s 794ms/step - loss: 7.6897e-07 - accuracy: 1.0000 - val_loss: 0.1767 - val_accuracy: 0.9812\n",
      "Epoch 66/100\n",
      "150/150 [==============================] - 127s 851ms/step - loss: 6.9859e-07 - accuracy: 1.0000 - val_loss: 0.1840 - val_accuracy: 0.9794\n",
      "Epoch 67/100\n",
      "150/150 [==============================] - 130s 867ms/step - loss: 6.4398e-07 - accuracy: 1.0000 - val_loss: 0.1823 - val_accuracy: 0.9794\n",
      "Epoch 68/100\n",
      "150/150 [==============================] - 126s 840ms/step - loss: 5.8157e-07 - accuracy: 1.0000 - val_loss: 0.1851 - val_accuracy: 0.9800\n",
      "Epoch 69/100\n",
      "150/150 [==============================] - 121s 811ms/step - loss: 5.2179e-07 - accuracy: 1.0000 - val_loss: 0.1835 - val_accuracy: 0.9800\n",
      "Epoch 70/100\n",
      "150/150 [==============================] - 130s 865ms/step - loss: 4.8011e-07 - accuracy: 1.0000 - val_loss: 0.1856 - val_accuracy: 0.9800\n",
      "Epoch 71/100\n",
      "150/150 [==============================] - 124s 827ms/step - loss: 4.4115e-07 - accuracy: 1.0000 - val_loss: 0.1901 - val_accuracy: 0.9794\n",
      "Epoch 72/100\n",
      "150/150 [==============================] - 120s 803ms/step - loss: 4.0742e-07 - accuracy: 1.0000 - val_loss: 0.1937 - val_accuracy: 0.9794\n",
      "Epoch 73/100\n",
      "150/150 [==============================] - 130s 869ms/step - loss: 3.6808e-07 - accuracy: 1.0000 - val_loss: 0.1909 - val_accuracy: 0.9787\n",
      "Epoch 74/100\n",
      "150/150 [==============================] - 136s 904ms/step - loss: 3.3371e-07 - accuracy: 1.0000 - val_loss: 0.1944 - val_accuracy: 0.9794\n",
      "Epoch 75/100\n",
      "150/150 [==============================] - 132s 881ms/step - loss: 3.0962e-07 - accuracy: 1.0000 - val_loss: 0.1965 - val_accuracy: 0.9794\n",
      "Epoch 76/100\n",
      "150/150 [==============================] - 133s 889ms/step - loss: 2.7791e-07 - accuracy: 1.0000 - val_loss: 0.1949 - val_accuracy: 0.9794\n",
      "Epoch 77/100\n",
      "150/150 [==============================] - 130s 869ms/step - loss: 2.5637e-07 - accuracy: 1.0000 - val_loss: 0.1976 - val_accuracy: 0.9781\n",
      "Epoch 78/100\n",
      "150/150 [==============================] - 129s 863ms/step - loss: 2.3554e-07 - accuracy: 1.0000 - val_loss: 0.1986 - val_accuracy: 0.9787\n",
      "Epoch 79/100\n",
      "150/150 [==============================] - 133s 884ms/step - loss: 2.1927e-07 - accuracy: 1.0000 - val_loss: 0.2002 - val_accuracy: 0.9787\n",
      "Epoch 80/100\n",
      "150/150 [==============================] - 129s 861ms/step - loss: 1.9699e-07 - accuracy: 1.0000 - val_loss: 0.2074 - val_accuracy: 0.9787\n",
      "Epoch 81/100\n",
      "150/150 [==============================] - 125s 834ms/step - loss: 1.8246e-07 - accuracy: 1.0000 - val_loss: 0.2071 - val_accuracy: 0.9781\n",
      "Epoch 82/100\n",
      "150/150 [==============================] - 134s 895ms/step - loss: 1.6679e-07 - accuracy: 1.0000 - val_loss: 0.2054 - val_accuracy: 0.9787\n",
      "Epoch 83/100\n",
      "150/150 [==============================] - 124s 827ms/step - loss: 1.4993e-07 - accuracy: 1.0000 - val_loss: 0.2085 - val_accuracy: 0.9781\n",
      "Epoch 84/100\n",
      "150/150 [==============================] - 145s 966ms/step - loss: 1.4059e-07 - accuracy: 1.0000 - val_loss: 0.2105 - val_accuracy: 0.9781\n",
      "Epoch 85/100\n",
      "150/150 [==============================] - 128s 856ms/step - loss: 1.2788e-07 - accuracy: 1.0000 - val_loss: 0.2114 - val_accuracy: 0.9781\n",
      "Epoch 86/100\n",
      "150/150 [==============================] - 143s 955ms/step - loss: 1.1692e-07 - accuracy: 1.0000 - val_loss: 0.2152 - val_accuracy: 0.9781\n",
      "Epoch 87/100\n",
      "150/150 [==============================] - 141s 940ms/step - loss: 1.0679e-07 - accuracy: 1.0000 - val_loss: 0.2154 - val_accuracy: 0.9775\n",
      "Epoch 88/100\n",
      "150/150 [==============================] - 139s 925ms/step - loss: 9.7205e-08 - accuracy: 1.0000 - val_loss: 0.2167 - val_accuracy: 0.9775\n",
      "Epoch 89/100\n",
      "150/150 [==============================] - 142s 950ms/step - loss: 9.0748e-08 - accuracy: 1.0000 - val_loss: 0.2177 - val_accuracy: 0.9775\n",
      "Epoch 90/100\n",
      "150/150 [==============================] - 152s 1s/step - loss: 8.4639e-08 - accuracy: 1.0000 - val_loss: 0.2202 - val_accuracy: 0.9775\n",
      "Epoch 91/100\n",
      "150/150 [==============================] - 135s 903ms/step - loss: 7.6840e-08 - accuracy: 1.0000 - val_loss: 0.2211 - val_accuracy: 0.9781\n",
      "Epoch 92/100\n",
      "150/150 [==============================] - 137s 913ms/step - loss: 7.0830e-08 - accuracy: 1.0000 - val_loss: 0.2257 - val_accuracy: 0.9775\n",
      "Epoch 93/100\n",
      "150/150 [==============================] - 137s 915ms/step - loss: 6.5813e-08 - accuracy: 1.0000 - val_loss: 0.2240 - val_accuracy: 0.9781\n",
      "Epoch 94/100\n",
      "150/150 [==============================] - 134s 896ms/step - loss: 6.0052e-08 - accuracy: 1.0000 - val_loss: 0.2277 - val_accuracy: 0.9775\n",
      "Epoch 95/100\n",
      "150/150 [==============================] - 138s 917ms/step - loss: 5.4936e-08 - accuracy: 1.0000 - val_loss: 0.2309 - val_accuracy: 0.9775\n",
      "Epoch 96/100\n",
      "150/150 [==============================] - 144s 961ms/step - loss: 5.1185e-08 - accuracy: 1.0000 - val_loss: 0.2299 - val_accuracy: 0.9781\n",
      "Epoch 97/100\n",
      "150/150 [==============================] - 167s 1s/step - loss: 4.5498e-08 - accuracy: 1.0000 - val_loss: 0.2338 - val_accuracy: 0.9781\n",
      "Epoch 98/100\n",
      "150/150 [==============================] - 182s 1s/step - loss: 4.2245e-08 - accuracy: 1.0000 - val_loss: 0.2326 - val_accuracy: 0.9769\n",
      "Epoch 99/100\n",
      "150/150 [==============================] - 157s 1s/step - loss: 3.9165e-08 - accuracy: 1.0000 - val_loss: 0.2313 - val_accuracy: 0.9775\n",
      "Epoch 100/100\n",
      "150/150 [==============================] - 151s 1s/step - loss: 3.5812e-08 - accuracy: 1.0000 - val_loss: 0.2327 - val_accuracy: 0.9775\n"
     ]
    }
   ],
   "source": [
    "history=cnn.fit(X_train,y_train,epochs=100,validation_data=(X_test,y_test))"
   ]
  },
  {
   "cell_type": "code",
   "execution_count": 26,
   "metadata": {},
   "outputs": [
    {
     "data": {
      "text/plain": [
       "<matplotlib.legend.Legend at 0x1b128e23f40>"
      ]
     },
     "execution_count": 26,
     "metadata": {},
     "output_type": "execute_result"
    },
    {
     "data": {
      "image/png": "[encoded data removed]",
      "text/plain": [
       "<Figure size 1440x360 with 1 Axes>"
      ]
     },
     "metadata": {
      "needs_background": "light"
     },
     "output_type": "display_data"
    }
   ],
   "source": [
    "plt.figure(figsize = (20,5))\n",
    "plt.subplot(1,2,1)\n",
    "plt.title(\"Train and Validation Loss\")\n",
    "plt.xlabel(\"Epoch\")\n",
    "plt.ylabel(\"Loss\")\n",
    "plt.plot(history.history['loss'],label=\"Train Loss\")\n",
    "plt.plot(history.history['val_loss'], label=\"Validation Loss\")\n",
    "plt.xlim(0, 10)\n",
    "plt.ylim(0.0,1.0)\n",
    "plt.legend()"
   ]
  },
  {
   "cell_type": "code",
   "execution_count": 27,
   "metadata": {},
   "outputs": [
    {
     "data": {
      "image/png": "[encoded data removed]",
      "text/plain": [
       "<Figure size 432x288 with 1 Axes>"
      ]
     },
     "metadata": {
      "needs_background": "light"
     },
     "output_type": "display_data"
    }
   ],
   "source": [
    "plt.subplot(1,2,2)\n",
    "plt.title(\"Train and Validation Accuracy\")\n",
    "plt.xlabel(\"Epoch\")\n",
    "plt.ylabel(\"Accuracy\")\n",
    "plt.plot(history.history['accuracy'], label=\"Train Accuracy\")\n",
    "plt.plot(history.history['val_accuracy'], label=\"Validation Accuracy\")\n",
    "plt.xlim(0, 9.25)\n",
    "plt.ylim(0.75,1.0)\n",
    "plt.legend()\n",
    "plt.tight_layout()"
   ]
  },
  {
   "cell_type": "code",
   "execution_count": 28,
   "metadata": {
    "execution": {
     "iopub.execute_input": "2022-04-21T14:31:04.458952Z",
     "iopub.status.busy": "2022-04-21T14:31:04.458544Z",
     "iopub.status.idle": "2022-04-21T14:31:04.827323Z",
     "shell.execute_reply": "2022-04-21T14:31:04.826501Z",
     "shell.execute_reply.started": "2022-04-21T14:31:04.458913Z"
    }
   },
   "outputs": [
    {
     "name": "stdout",
     "output_type": "stream",
     "text": [
      "50/50 [==============================] - 10s 177ms/step\n"
     ]
    }
   ],
   "source": [
    "y_pred=cnn.predict(X_test)"
   ]
  },
  {
   "cell_type": "code",
   "execution_count": 29,
   "metadata": {
    "execution": {
     "iopub.execute_input": "2022-04-21T14:31:04.829056Z",
     "iopub.status.busy": "2022-04-21T14:31:04.828778Z",
     "iopub.status.idle": "2022-04-21T14:31:04.840758Z",
     "shell.execute_reply": "2022-04-21T14:31:04.840011Z",
     "shell.execute_reply.started": "2022-04-21T14:31:04.82902Z"
    }
   },
   "outputs": [],
   "source": [
    "y_val=[]\n",
    "for y in y_pred:\n",
    "    y_val.append(np.argmax(y))"
   ]
  },
  {
   "cell_type": "code",
   "execution_count": 30,
   "metadata": {
    "execution": {
     "iopub.execute_input": "2022-04-21T14:31:04.842398Z",
     "iopub.status.busy": "2022-04-21T14:31:04.842082Z",
     "iopub.status.idle": "2022-04-21T14:31:04.857186Z",
     "shell.execute_reply": "2022-04-21T14:31:04.8539Z",
     "shell.execute_reply.started": "2022-04-21T14:31:04.842364Z"
    }
   },
   "outputs": [],
   "source": [
    "from sklearn.metrics import confusion_matrix,classification_report"
   ]
  },
  {
   "cell_type": "code",
   "execution_count": 31,
   "metadata": {
    "execution": {
     "iopub.execute_input": "2022-04-21T14:31:04.859984Z",
     "iopub.status.busy": "2022-04-21T14:31:04.858717Z",
     "iopub.status.idle": "2022-04-21T14:31:04.886158Z",
     "shell.execute_reply": "2022-04-21T14:31:04.884706Z",
     "shell.execute_reply.started": "2022-04-21T14:31:04.85994Z"
    }
   },
   "outputs": [],
   "source": [
    "y_true=[]\n",
    "for y in y_test:\n",
    "    y_true.append(np.argmax(y))"
   ]
  },
  {
   "cell_type": "code",
   "execution_count": 32,
   "metadata": {
    "execution": {
     "iopub.execute_input": "2022-04-21T14:31:04.88893Z",
     "iopub.status.busy": "2022-04-21T14:31:04.888051Z",
     "iopub.status.idle": "2022-04-21T14:31:04.90649Z",
     "shell.execute_reply": "2022-04-21T14:31:04.905434Z",
     "shell.execute_reply.started": "2022-04-21T14:31:04.888227Z"
    }
   },
   "outputs": [],
   "source": [
    "cm=confusion_matrix(y_true,y_val)"
   ]
  },
  {
   "cell_type": "code",
   "execution_count": 33,
   "metadata": {},
   "outputs": [
    {
     "data": {
      "text/plain": [
       "<AxesSubplot:>"
      ]
     },
     "execution_count": 33,
     "metadata": {},
     "output_type": "execute_result"
    },
    {
     "data": {
      "image/png": "[encoded data removed]",
      "text/plain": [
       "<Figure size 432x288 with 2 Axes>"
      ]
     },
     "metadata": {
      "needs_background": "light"
     },
     "output_type": "display_data"
    }
   ],
   "source": [
    "import seaborn as sns\n",
    "sns.heatmap(cm,annot=True,fmt=\".1f\")"
   ]
  },
  {
   "cell_type": "code",
   "execution_count": 34,
   "metadata": {
    "execution": {
     "iopub.execute_input": "2022-04-21T14:31:04.908942Z",
     "iopub.status.busy": "2022-04-21T14:31:04.908509Z",
     "iopub.status.idle": "2022-04-21T14:31:04.929655Z",
     "shell.execute_reply": "2022-04-21T14:31:04.928967Z",
     "shell.execute_reply.started": "2022-04-21T14:31:04.908904Z"
    }
   },
   "outputs": [
    {
     "name": "stdout",
     "output_type": "stream",
     "text": [
      "              precision    recall  f1-score   support\n",
      "\n",
      "           0       0.98      0.98      0.98       814\n",
      "           1       0.97      0.97      0.97       533\n",
      "           2       0.98      0.97      0.97       241\n",
      "           3       1.00      1.00      1.00        12\n",
      "\n",
      "    accuracy                           0.98      1600\n",
      "   macro avg       0.98      0.98      0.98      1600\n",
      "weighted avg       0.98      0.98      0.98      1600\n",
      "\n"
     ]
    }
   ],
   "source": [
    "print(classification_report(y_true,y_val))"
   ]
  },
  {
   "cell_type": "code",
   "execution_count": 35,
   "metadata": {
    "execution": {
     "iopub.execute_input": "2022-04-21T14:31:04.931205Z",
     "iopub.status.busy": "2022-04-21T14:31:04.930773Z",
     "iopub.status.idle": "2022-04-21T14:31:04.935024Z",
     "shell.execute_reply": "2022-04-21T14:31:04.934186Z",
     "shell.execute_reply.started": "2022-04-21T14:31:04.931168Z"
    }
   },
   "outputs": [],
   "source": [
    "from sklearn.metrics import accuracy_score"
   ]
  },
  {
   "cell_type": "code",
   "execution_count": 36,
   "metadata": {
    "execution": {
     "iopub.execute_input": "2022-04-21T14:31:04.936872Z",
     "iopub.status.busy": "2022-04-21T14:31:04.936404Z",
     "iopub.status.idle": "2022-04-21T14:31:04.95177Z",
     "shell.execute_reply": "2022-04-21T14:31:04.950903Z",
     "shell.execute_reply.started": "2022-04-21T14:31:04.936806Z"
    }
   },
   "outputs": [
    {
     "name": "stdout",
     "output_type": "stream",
     "text": [
      "Accuracy on test data:  0.9775\n"
     ]
    }
   ],
   "source": [
    "print(\"Accuracy on test data: \",accuracy_score(y_true,y_val))"
   ]
  },
  {
   "cell_type": "code",
   "execution_count": null,
   "metadata": {},
   "outputs": [],
   "source": []
  }
 ],
 "metadata": {
  "kernelspec": {
   "display_name": "Python 3 (ipykernel)",
   "language": "python",
   "name": "python3"
  },
  "language_info": {
   "codemirror_mode": {
    "name": "ipython",
    "version": 3
   },
   "file_extension": ".py",
   "mimetype": "text/x-python",
   "name": "python",
   "nbconvert_exporter": "python",
   "pygments_lexer": "ipython3",
   "version": "3.9.7"
  }
 },
 "nbformat": 4,
 "nbformat_minor": 4
}

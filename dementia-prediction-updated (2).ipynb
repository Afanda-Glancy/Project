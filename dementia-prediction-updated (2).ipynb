{
 "cells": [
  {
   "cell_type": "code",
   "execution_count": 9,
   "metadata": {
    "execution": {
     "iopub.execute_input": "2023-01-14T16:02:36.236512Z",
     "iopub.status.busy": "2023-01-14T16:02:36.236105Z",
     "iopub.status.idle": "2023-01-14T16:02:36.927571Z",
     "shell.execute_reply": "2023-01-14T16:02:36.926229Z",
     "shell.execute_reply.started": "2023-01-14T16:02:36.236477Z"
    }
   },
   "outputs": [
    {
     "ename": "ImportError",
     "evalue": "cannot import name 'dump' from 'joblib' (unknown location)",
     "output_type": "error",
     "traceback": [
      "\u001b[1;31m---------------------------------------------------------------------------\u001b[0m",
      "\u001b[1;31mImportError\u001b[0m                               Traceback (most recent call last)",
      "Cell \u001b[1;32mIn[9], line 6\u001b[0m\n\u001b[0;32m      4\u001b[0m \u001b[38;5;28;01mimport\u001b[39;00m \u001b[38;5;21;01mmatplotlib\u001b[39;00m\n\u001b[0;32m      5\u001b[0m \u001b[38;5;28;01mimport\u001b[39;00m \u001b[38;5;21;01mpandas\u001b[39;00m \u001b[38;5;28;01mas\u001b[39;00m \u001b[38;5;21;01mpd\u001b[39;00m\n\u001b[1;32m----> 6\u001b[0m \u001b[38;5;28;01mimport\u001b[39;00m \u001b[38;5;21;01msklearn\u001b[39;00m\n\u001b[0;32m      7\u001b[0m \u001b[38;5;28;01mimport\u001b[39;00m \u001b[38;5;21;01mseaborn\u001b[39;00m \u001b[38;5;28;01mas\u001b[39;00m \u001b[38;5;21;01msns\u001b[39;00m\n",
      "File \u001b[1;32m~\\AppData\\Roaming\\Python\\Python39\\site-packages\\sklearn\\__init__.py:82\u001b[0m\n\u001b[0;32m     80\u001b[0m \u001b[38;5;28;01mfrom\u001b[39;00m \u001b[38;5;21;01m.\u001b[39;00m \u001b[38;5;28;01mimport\u001b[39;00m _distributor_init  \u001b[38;5;66;03m# noqa: F401\u001b[39;00m\n\u001b[0;32m     81\u001b[0m \u001b[38;5;28;01mfrom\u001b[39;00m \u001b[38;5;21;01m.\u001b[39;00m \u001b[38;5;28;01mimport\u001b[39;00m __check_build  \u001b[38;5;66;03m# noqa: F401\u001b[39;00m\n\u001b[1;32m---> 82\u001b[0m \u001b[38;5;28;01mfrom\u001b[39;00m \u001b[38;5;21;01m.\u001b[39;00m\u001b[38;5;21;01mbase\u001b[39;00m \u001b[38;5;28;01mimport\u001b[39;00m clone\n\u001b[0;32m     83\u001b[0m \u001b[38;5;28;01mfrom\u001b[39;00m \u001b[38;5;21;01m.\u001b[39;00m\u001b[38;5;21;01mutils\u001b[39;00m\u001b[38;5;21;01m.\u001b[39;00m\u001b[38;5;21;01m_show_versions\u001b[39;00m \u001b[38;5;28;01mimport\u001b[39;00m show_versions\n\u001b[0;32m     85\u001b[0m __all__ \u001b[38;5;241m=\u001b[39m [\n\u001b[0;32m     86\u001b[0m     \u001b[38;5;124m\"\u001b[39m\u001b[38;5;124mcalibration\u001b[39m\u001b[38;5;124m\"\u001b[39m,\n\u001b[0;32m     87\u001b[0m     \u001b[38;5;124m\"\u001b[39m\u001b[38;5;124mcluster\u001b[39m\u001b[38;5;124m\"\u001b[39m,\n\u001b[1;32m   (...)\u001b[0m\n\u001b[0;32m    128\u001b[0m     \u001b[38;5;124m\"\u001b[39m\u001b[38;5;124mshow_versions\u001b[39m\u001b[38;5;124m\"\u001b[39m,\n\u001b[0;32m    129\u001b[0m ]\n",
      "File \u001b[1;32m~\\AppData\\Roaming\\Python\\Python39\\site-packages\\sklearn\\base.py:17\u001b[0m\n\u001b[0;32m     15\u001b[0m \u001b[38;5;28;01mfrom\u001b[39;00m \u001b[38;5;21;01m.\u001b[39;00m \u001b[38;5;28;01mimport\u001b[39;00m __version__\n\u001b[0;32m     16\u001b[0m \u001b[38;5;28;01mfrom\u001b[39;00m \u001b[38;5;21;01m.\u001b[39;00m\u001b[38;5;21;01m_config\u001b[39;00m \u001b[38;5;28;01mimport\u001b[39;00m get_config\n\u001b[1;32m---> 17\u001b[0m \u001b[38;5;28;01mfrom\u001b[39;00m \u001b[38;5;21;01m.\u001b[39;00m\u001b[38;5;21;01mutils\u001b[39;00m \u001b[38;5;28;01mimport\u001b[39;00m _IS_32BIT\n\u001b[0;32m     18\u001b[0m \u001b[38;5;28;01mfrom\u001b[39;00m \u001b[38;5;21;01m.\u001b[39;00m\u001b[38;5;21;01mutils\u001b[39;00m\u001b[38;5;21;01m.\u001b[39;00m\u001b[38;5;21;01m_set_output\u001b[39;00m \u001b[38;5;28;01mimport\u001b[39;00m _SetOutputMixin\n\u001b[0;32m     19\u001b[0m \u001b[38;5;28;01mfrom\u001b[39;00m \u001b[38;5;21;01m.\u001b[39;00m\u001b[38;5;21;01mutils\u001b[39;00m\u001b[38;5;21;01m.\u001b[39;00m\u001b[38;5;21;01m_tags\u001b[39;00m \u001b[38;5;28;01mimport\u001b[39;00m (\n\u001b[0;32m     20\u001b[0m     _DEFAULT_TAGS,\n\u001b[0;32m     21\u001b[0m )\n",
      "File \u001b[1;32m~\\AppData\\Roaming\\Python\\Python39\\site-packages\\sklearn\\utils\\__init__.py:21\u001b[0m\n\u001b[0;32m     19\u001b[0m \u001b[38;5;28;01mfrom\u001b[39;00m \u001b[38;5;21;01m.\u001b[39;00m\u001b[38;5;21;01mmurmurhash\u001b[39;00m \u001b[38;5;28;01mimport\u001b[39;00m murmurhash3_32\n\u001b[0;32m     20\u001b[0m \u001b[38;5;28;01mfrom\u001b[39;00m \u001b[38;5;21;01m.\u001b[39;00m\u001b[38;5;21;01mclass_weight\u001b[39;00m \u001b[38;5;28;01mimport\u001b[39;00m compute_class_weight, compute_sample_weight\n\u001b[1;32m---> 21\u001b[0m \u001b[38;5;28;01mfrom\u001b[39;00m \u001b[38;5;21;01m.\u001b[39;00m \u001b[38;5;28;01mimport\u001b[39;00m _joblib\n\u001b[0;32m     22\u001b[0m \u001b[38;5;28;01mfrom\u001b[39;00m \u001b[38;5;21;01m.\u001b[39;00m\u001b[38;5;21;01m.\u001b[39;00m\u001b[38;5;21;01mexceptions\u001b[39;00m \u001b[38;5;28;01mimport\u001b[39;00m DataConversionWarning\n\u001b[0;32m     23\u001b[0m \u001b[38;5;28;01mfrom\u001b[39;00m \u001b[38;5;21;01m.\u001b[39;00m\u001b[38;5;21;01mdeprecation\u001b[39;00m \u001b[38;5;28;01mimport\u001b[39;00m deprecated\n",
      "File \u001b[1;32m~\\AppData\\Roaming\\Python\\Python39\\site-packages\\sklearn\\utils\\_joblib.py:9\u001b[0m\n\u001b[0;32m      7\u001b[0m \u001b[38;5;28;01mimport\u001b[39;00m \u001b[38;5;21;01mjoblib\u001b[39;00m\n\u001b[0;32m      8\u001b[0m \u001b[38;5;28;01mfrom\u001b[39;00m \u001b[38;5;21;01mjoblib\u001b[39;00m \u001b[38;5;28;01mimport\u001b[39;00m logger\n\u001b[1;32m----> 9\u001b[0m \u001b[38;5;28;01mfrom\u001b[39;00m \u001b[38;5;21;01mjoblib\u001b[39;00m \u001b[38;5;28;01mimport\u001b[39;00m dump, load\n\u001b[0;32m     10\u001b[0m \u001b[38;5;28;01mfrom\u001b[39;00m \u001b[38;5;21;01mjoblib\u001b[39;00m \u001b[38;5;28;01mimport\u001b[39;00m __version__\n\u001b[0;32m     11\u001b[0m \u001b[38;5;28;01mfrom\u001b[39;00m \u001b[38;5;21;01mjoblib\u001b[39;00m \u001b[38;5;28;01mimport\u001b[39;00m effective_n_jobs\n",
      "\u001b[1;31mImportError\u001b[0m: cannot import name 'dump' from 'joblib' (unknown location)"
     ]
    }
   ],
   "source": [
    "import scipy\n",
    "import os\n",
    "import numpy as np\n",
    "import matplotlib\n",
    "import pandas as pd\n",
    "import sklearn\n",
    "import seaborn as sns"
   ]
  },
  {
   "cell_type": "code",
   "execution_count": 2,
   "metadata": {
    "execution": {
     "iopub.execute_input": "2023-01-14T16:02:36.929754Z",
     "iopub.status.busy": "2023-01-14T16:02:36.929365Z",
     "iopub.status.idle": "2023-01-14T16:02:36.957786Z",
     "shell.execute_reply": "2023-01-14T16:02:36.956407Z",
     "shell.execute_reply.started": "2023-01-14T16:02:36.929722Z"
    }
   },
   "outputs": [],
   "source": [
    "my_data = pd.read_csv('dddst.csv')"
   ]
  },
  {
   "cell_type": "code",
   "execution_count": 3,
   "metadata": {},
   "outputs": [],
   "source": [
    "my_data_test=pd.read_csv('dementia_dataset.csv')"
   ]
  },
  {
   "cell_type": "code",
   "execution_count": 4,
   "metadata": {
    "execution": {
     "iopub.execute_input": "2023-01-14T16:02:36.959803Z",
     "iopub.status.busy": "2023-01-14T16:02:36.959295Z",
     "iopub.status.idle": "2023-01-14T16:02:36.9693Z",
     "shell.execute_reply": "2023-01-14T16:02:36.968108Z",
     "shell.execute_reply.started": "2023-01-14T16:02:36.959767Z"
    }
   },
   "outputs": [
    {
     "data": {
      "text/plain": [
       "(1210, 15)"
      ]
     },
     "execution_count": 4,
     "metadata": {},
     "output_type": "execute_result"
    }
   ],
   "source": [
    "my_data.shape"
   ]
  },
  {
   "cell_type": "code",
   "execution_count": 4,
   "metadata": {
    "execution": {
     "iopub.execute_input": "2023-01-14T16:02:36.973784Z",
     "iopub.status.busy": "2023-01-14T16:02:36.97298Z",
     "iopub.status.idle": "2023-01-14T16:02:37.003911Z",
     "shell.execute_reply": "2023-01-14T16:02:37.002368Z",
     "shell.execute_reply.started": "2023-01-14T16:02:36.973743Z"
    }
   },
   "outputs": [
    {
     "data": {
      "text/html": [
       "<div>\n",
       "<style scoped>\n",
       "    .dataframe tbody tr th:only-of-type {\n",
       "        vertical-align: middle;\n",
       "    }\n",
       "\n",
       "    .dataframe tbody tr th {\n",
       "        vertical-align: top;\n",
       "    }\n",
       "\n",
       "    .dataframe thead th {\n",
       "        text-align: right;\n",
       "    }\n",
       "</style>\n",
       "<table border=\"1\" class=\"dataframe\">\n",
       "  <thead>\n",
       "    <tr style=\"text-align: right;\">\n",
       "      <th></th>\n",
       "      <th>Subject ID</th>\n",
       "      <th>MRI ID</th>\n",
       "      <th>Group</th>\n",
       "      <th>Visit</th>\n",
       "      <th>MR Delay</th>\n",
       "      <th>M/F</th>\n",
       "      <th>Hand</th>\n",
       "      <th>Age</th>\n",
       "      <th>EDUC</th>\n",
       "      <th>SES</th>\n",
       "      <th>MMSE</th>\n",
       "      <th>CDR</th>\n",
       "      <th>eTIV</th>\n",
       "      <th>nWBV</th>\n",
       "      <th>ASF</th>\n",
       "    </tr>\n",
       "  </thead>\n",
       "  <tbody>\n",
       "    <tr>\n",
       "      <th>0</th>\n",
       "      <td>OAS2_0001</td>\n",
       "      <td>OAS2_0001_MR1</td>\n",
       "      <td>Nondemented</td>\n",
       "      <td>1</td>\n",
       "      <td>0</td>\n",
       "      <td>M</td>\n",
       "      <td>R</td>\n",
       "      <td>87</td>\n",
       "      <td>14</td>\n",
       "      <td>2.0</td>\n",
       "      <td>27.0</td>\n",
       "      <td>0.0</td>\n",
       "      <td>1987</td>\n",
       "      <td>0.696</td>\n",
       "      <td>0.883</td>\n",
       "    </tr>\n",
       "    <tr>\n",
       "      <th>1</th>\n",
       "      <td>OAS2_0001</td>\n",
       "      <td>OAS2_0001_MR2</td>\n",
       "      <td>Nondemented</td>\n",
       "      <td>2</td>\n",
       "      <td>457</td>\n",
       "      <td>M</td>\n",
       "      <td>R</td>\n",
       "      <td>88</td>\n",
       "      <td>14</td>\n",
       "      <td>2.0</td>\n",
       "      <td>30.0</td>\n",
       "      <td>0.0</td>\n",
       "      <td>2004</td>\n",
       "      <td>0.681</td>\n",
       "      <td>0.876</td>\n",
       "    </tr>\n",
       "    <tr>\n",
       "      <th>2</th>\n",
       "      <td>OAS2_0002</td>\n",
       "      <td>OAS2_0002_MR1</td>\n",
       "      <td>Demented</td>\n",
       "      <td>1</td>\n",
       "      <td>0</td>\n",
       "      <td>M</td>\n",
       "      <td>R</td>\n",
       "      <td>75</td>\n",
       "      <td>12</td>\n",
       "      <td>NaN</td>\n",
       "      <td>23.0</td>\n",
       "      <td>0.5</td>\n",
       "      <td>1678</td>\n",
       "      <td>0.736</td>\n",
       "      <td>1.046</td>\n",
       "    </tr>\n",
       "    <tr>\n",
       "      <th>3</th>\n",
       "      <td>OAS2_0003</td>\n",
       "      <td>OAS2_0002_MR2</td>\n",
       "      <td>Demented</td>\n",
       "      <td>2</td>\n",
       "      <td>560</td>\n",
       "      <td>M</td>\n",
       "      <td>R</td>\n",
       "      <td>76</td>\n",
       "      <td>12</td>\n",
       "      <td>NaN</td>\n",
       "      <td>28.0</td>\n",
       "      <td>0.5</td>\n",
       "      <td>1738</td>\n",
       "      <td>0.713</td>\n",
       "      <td>1.010</td>\n",
       "    </tr>\n",
       "    <tr>\n",
       "      <th>4</th>\n",
       "      <td>OAS2_0004</td>\n",
       "      <td>OAS2_0002_MR3</td>\n",
       "      <td>Demented</td>\n",
       "      <td>3</td>\n",
       "      <td>1895</td>\n",
       "      <td>M</td>\n",
       "      <td>R</td>\n",
       "      <td>80</td>\n",
       "      <td>12</td>\n",
       "      <td>NaN</td>\n",
       "      <td>22.0</td>\n",
       "      <td>0.5</td>\n",
       "      <td>1698</td>\n",
       "      <td>0.701</td>\n",
       "      <td>1.034</td>\n",
       "    </tr>\n",
       "    <tr>\n",
       "      <th>5</th>\n",
       "      <td>OAS2_0005</td>\n",
       "      <td>OAS2_0004_MR1</td>\n",
       "      <td>Nondemented</td>\n",
       "      <td>1</td>\n",
       "      <td>0</td>\n",
       "      <td>F</td>\n",
       "      <td>R</td>\n",
       "      <td>88</td>\n",
       "      <td>18</td>\n",
       "      <td>3.0</td>\n",
       "      <td>28.0</td>\n",
       "      <td>0.0</td>\n",
       "      <td>1215</td>\n",
       "      <td>0.710</td>\n",
       "      <td>1.444</td>\n",
       "    </tr>\n",
       "    <tr>\n",
       "      <th>6</th>\n",
       "      <td>OAS2_0006</td>\n",
       "      <td>OAS2_0004_MR2</td>\n",
       "      <td>Nondemented</td>\n",
       "      <td>2</td>\n",
       "      <td>538</td>\n",
       "      <td>F</td>\n",
       "      <td>R</td>\n",
       "      <td>90</td>\n",
       "      <td>18</td>\n",
       "      <td>3.0</td>\n",
       "      <td>27.0</td>\n",
       "      <td>0.0</td>\n",
       "      <td>1200</td>\n",
       "      <td>0.718</td>\n",
       "      <td>1.462</td>\n",
       "    </tr>\n",
       "    <tr>\n",
       "      <th>7</th>\n",
       "      <td>OAS2_0007</td>\n",
       "      <td>OAS2_0005_MR1</td>\n",
       "      <td>Nondemented</td>\n",
       "      <td>1</td>\n",
       "      <td>0</td>\n",
       "      <td>M</td>\n",
       "      <td>R</td>\n",
       "      <td>80</td>\n",
       "      <td>12</td>\n",
       "      <td>4.0</td>\n",
       "      <td>28.0</td>\n",
       "      <td>0.0</td>\n",
       "      <td>1689</td>\n",
       "      <td>0.712</td>\n",
       "      <td>1.039</td>\n",
       "    </tr>\n",
       "    <tr>\n",
       "      <th>8</th>\n",
       "      <td>OAS2_0008</td>\n",
       "      <td>OAS2_0005_MR2</td>\n",
       "      <td>Nondemented</td>\n",
       "      <td>2</td>\n",
       "      <td>1010</td>\n",
       "      <td>M</td>\n",
       "      <td>R</td>\n",
       "      <td>83</td>\n",
       "      <td>12</td>\n",
       "      <td>4.0</td>\n",
       "      <td>29.0</td>\n",
       "      <td>0.5</td>\n",
       "      <td>1701</td>\n",
       "      <td>0.711</td>\n",
       "      <td>1.032</td>\n",
       "    </tr>\n",
       "    <tr>\n",
       "      <th>9</th>\n",
       "      <td>OAS2_0009</td>\n",
       "      <td>OAS2_0005_MR3</td>\n",
       "      <td>Nondemented</td>\n",
       "      <td>3</td>\n",
       "      <td>1603</td>\n",
       "      <td>M</td>\n",
       "      <td>R</td>\n",
       "      <td>85</td>\n",
       "      <td>12</td>\n",
       "      <td>4.0</td>\n",
       "      <td>30.0</td>\n",
       "      <td>0.0</td>\n",
       "      <td>1699</td>\n",
       "      <td>0.705</td>\n",
       "      <td>1.033</td>\n",
       "    </tr>\n",
       "  </tbody>\n",
       "</table>\n",
       "</div>"
      ],
      "text/plain": [
       "  Subject ID         MRI ID        Group  Visit  MR Delay M/F Hand  Age  EDUC  \\\n",
       "0  OAS2_0001  OAS2_0001_MR1  Nondemented      1         0   M    R   87    14   \n",
       "1  OAS2_0001  OAS2_0001_MR2  Nondemented      2       457   M    R   88    14   \n",
       "2  OAS2_0002  OAS2_0002_MR1     Demented      1         0   M    R   75    12   \n",
       "3  OAS2_0003  OAS2_0002_MR2     Demented      2       560   M    R   76    12   \n",
       "4  OAS2_0004  OAS2_0002_MR3     Demented      3      1895   M    R   80    12   \n",
       "5  OAS2_0005  OAS2_0004_MR1  Nondemented      1         0   F    R   88    18   \n",
       "6  OAS2_0006  OAS2_0004_MR2  Nondemented      2       538   F    R   90    18   \n",
       "7  OAS2_0007  OAS2_0005_MR1  Nondemented      1         0   M    R   80    12   \n",
       "8  OAS2_0008  OAS2_0005_MR2  Nondemented      2      1010   M    R   83    12   \n",
       "9  OAS2_0009  OAS2_0005_MR3  Nondemented      3      1603   M    R   85    12   \n",
       "\n",
       "   SES  MMSE  CDR  eTIV   nWBV    ASF  \n",
       "0  2.0  27.0  0.0  1987  0.696  0.883  \n",
       "1  2.0  30.0  0.0  2004  0.681  0.876  \n",
       "2  NaN  23.0  0.5  1678  0.736  1.046  \n",
       "3  NaN  28.0  0.5  1738  0.713  1.010  \n",
       "4  NaN  22.0  0.5  1698  0.701  1.034  \n",
       "5  3.0  28.0  0.0  1215  0.710  1.444  \n",
       "6  3.0  27.0  0.0  1200  0.718  1.462  \n",
       "7  4.0  28.0  0.0  1689  0.712  1.039  \n",
       "8  4.0  29.0  0.5  1701  0.711  1.032  \n",
       "9  4.0  30.0  0.0  1699  0.705  1.033  "
      ]
     },
     "execution_count": 4,
     "metadata": {},
     "output_type": "execute_result"
    }
   ],
   "source": [
    "my_data.head(10)"
   ]
  },
  {
   "cell_type": "code",
   "execution_count": 5,
   "metadata": {
    "execution": {
     "iopub.execute_input": "2023-01-14T16:02:37.027761Z",
     "iopub.status.busy": "2023-01-14T16:02:37.027302Z",
     "iopub.status.idle": "2023-01-14T16:02:37.088753Z",
     "shell.execute_reply": "2023-01-14T16:02:37.087387Z",
     "shell.execute_reply.started": "2023-01-14T16:02:37.027723Z"
    }
   },
   "outputs": [
    {
     "data": {
      "text/html": [
       "<div>\n",
       "<style scoped>\n",
       "    .dataframe tbody tr th:only-of-type {\n",
       "        vertical-align: middle;\n",
       "    }\n",
       "\n",
       "    .dataframe tbody tr th {\n",
       "        vertical-align: top;\n",
       "    }\n",
       "\n",
       "    .dataframe thead th {\n",
       "        text-align: right;\n",
       "    }\n",
       "</style>\n",
       "<table border=\"1\" class=\"dataframe\">\n",
       "  <thead>\n",
       "    <tr style=\"text-align: right;\">\n",
       "      <th></th>\n",
       "      <th>Visit</th>\n",
       "      <th>MR Delay</th>\n",
       "      <th>Age</th>\n",
       "      <th>EDUC</th>\n",
       "      <th>SES</th>\n",
       "      <th>MMSE</th>\n",
       "      <th>CDR</th>\n",
       "      <th>eTIV</th>\n",
       "      <th>nWBV</th>\n",
       "      <th>ASF</th>\n",
       "    </tr>\n",
       "  </thead>\n",
       "  <tbody>\n",
       "    <tr>\n",
       "      <th>count</th>\n",
       "      <td>1210.000000</td>\n",
       "      <td>1210.000000</td>\n",
       "      <td>1210.000000</td>\n",
       "      <td>1210.000000</td>\n",
       "      <td>1159.000000</td>\n",
       "      <td>1204.000000</td>\n",
       "      <td>1210.000000</td>\n",
       "      <td>1210.000000</td>\n",
       "      <td>1210.000000</td>\n",
       "      <td>1210.000000</td>\n",
       "    </tr>\n",
       "    <tr>\n",
       "      <th>mean</th>\n",
       "      <td>1.906612</td>\n",
       "      <td>575.995868</td>\n",
       "      <td>77.171901</td>\n",
       "      <td>14.591736</td>\n",
       "      <td>2.459879</td>\n",
       "      <td>27.277409</td>\n",
       "      <td>0.292975</td>\n",
       "      <td>1483.016529</td>\n",
       "      <td>0.729582</td>\n",
       "      <td>1.199258</td>\n",
       "    </tr>\n",
       "    <tr>\n",
       "      <th>std</th>\n",
       "      <td>0.951446</td>\n",
       "      <td>612.799266</td>\n",
       "      <td>7.706369</td>\n",
       "      <td>2.929601</td>\n",
       "      <td>1.134285</td>\n",
       "      <td>3.791023</td>\n",
       "      <td>0.372093</td>\n",
       "      <td>173.623543</td>\n",
       "      <td>0.037150</td>\n",
       "      <td>0.136936</td>\n",
       "    </tr>\n",
       "    <tr>\n",
       "      <th>min</th>\n",
       "      <td>1.000000</td>\n",
       "      <td>0.000000</td>\n",
       "      <td>60.000000</td>\n",
       "      <td>6.000000</td>\n",
       "      <td>1.000000</td>\n",
       "      <td>4.000000</td>\n",
       "      <td>0.000000</td>\n",
       "      <td>1106.000000</td>\n",
       "      <td>0.644000</td>\n",
       "      <td>0.876000</td>\n",
       "    </tr>\n",
       "    <tr>\n",
       "      <th>25%</th>\n",
       "      <td>1.000000</td>\n",
       "      <td>0.000000</td>\n",
       "      <td>71.000000</td>\n",
       "      <td>12.000000</td>\n",
       "      <td>1.000000</td>\n",
       "      <td>27.000000</td>\n",
       "      <td>0.000000</td>\n",
       "      <td>1353.250000</td>\n",
       "      <td>0.700250</td>\n",
       "      <td>1.104000</td>\n",
       "    </tr>\n",
       "    <tr>\n",
       "      <th>50%</th>\n",
       "      <td>2.000000</td>\n",
       "      <td>552.000000</td>\n",
       "      <td>77.000000</td>\n",
       "      <td>15.000000</td>\n",
       "      <td>2.000000</td>\n",
       "      <td>29.000000</td>\n",
       "      <td>0.000000</td>\n",
       "      <td>1463.000000</td>\n",
       "      <td>0.728500</td>\n",
       "      <td>1.199500</td>\n",
       "    </tr>\n",
       "    <tr>\n",
       "      <th>75%</th>\n",
       "      <td>2.000000</td>\n",
       "      <td>846.000000</td>\n",
       "      <td>82.000000</td>\n",
       "      <td>16.000000</td>\n",
       "      <td>3.000000</td>\n",
       "      <td>30.000000</td>\n",
       "      <td>0.500000</td>\n",
       "      <td>1590.000000</td>\n",
       "      <td>0.756000</td>\n",
       "      <td>1.297000</td>\n",
       "    </tr>\n",
       "    <tr>\n",
       "      <th>max</th>\n",
       "      <td>5.000000</td>\n",
       "      <td>2639.000000</td>\n",
       "      <td>98.000000</td>\n",
       "      <td>23.000000</td>\n",
       "      <td>5.000000</td>\n",
       "      <td>30.000000</td>\n",
       "      <td>2.000000</td>\n",
       "      <td>2004.000000</td>\n",
       "      <td>0.837000</td>\n",
       "      <td>1.587000</td>\n",
       "    </tr>\n",
       "  </tbody>\n",
       "</table>\n",
       "</div>"
      ],
      "text/plain": [
       "             Visit     MR Delay          Age         EDUC          SES  \\\n",
       "count  1210.000000  1210.000000  1210.000000  1210.000000  1159.000000   \n",
       "mean      1.906612   575.995868    77.171901    14.591736     2.459879   \n",
       "std       0.951446   612.799266     7.706369     2.929601     1.134285   \n",
       "min       1.000000     0.000000    60.000000     6.000000     1.000000   \n",
       "25%       1.000000     0.000000    71.000000    12.000000     1.000000   \n",
       "50%       2.000000   552.000000    77.000000    15.000000     2.000000   \n",
       "75%       2.000000   846.000000    82.000000    16.000000     3.000000   \n",
       "max       5.000000  2639.000000    98.000000    23.000000     5.000000   \n",
       "\n",
       "              MMSE          CDR         eTIV         nWBV          ASF  \n",
       "count  1204.000000  1210.000000  1210.000000  1210.000000  1210.000000  \n",
       "mean     27.277409     0.292975  1483.016529     0.729582     1.199258  \n",
       "std       3.791023     0.372093   173.623543     0.037150     0.136936  \n",
       "min       4.000000     0.000000  1106.000000     0.644000     0.876000  \n",
       "25%      27.000000     0.000000  1353.250000     0.700250     1.104000  \n",
       "50%      29.000000     0.000000  1463.000000     0.728500     1.199500  \n",
       "75%      30.000000     0.500000  1590.000000     0.756000     1.297000  \n",
       "max      30.000000     2.000000  2004.000000     0.837000     1.587000  "
      ]
     },
     "execution_count": 5,
     "metadata": {},
     "output_type": "execute_result"
    }
   ],
   "source": [
    "my_data.describe()"
   ]
  },
  {
   "cell_type": "code",
   "execution_count": 6,
   "metadata": {
    "execution": {
     "iopub.execute_input": "2023-01-14T16:02:37.090961Z",
     "iopub.status.busy": "2023-01-14T16:02:37.090623Z",
     "iopub.status.idle": "2023-01-14T16:02:37.107528Z",
     "shell.execute_reply": "2023-01-14T16:02:37.105762Z",
     "shell.execute_reply.started": "2023-01-14T16:02:37.090918Z"
    }
   },
   "outputs": [
    {
     "name": "stdout",
     "output_type": "stream",
     "text": [
      "Nondemented    602\n",
      "Demented       461\n",
      "Converted      147\n",
      "Name: Group, dtype: int64\n",
      "-----\n",
      "F    688\n",
      "M    522\n",
      "Name: M/F, dtype: int64\n",
      "-----\n",
      "OAS2_0001_MR1      1\n",
      "OAS2_0159_MR4      1\n",
      "OAS2_0159_MR2      1\n",
      "OAS2_0159_MR1      1\n",
      "OAS2_0158_MR284    1\n",
      "                  ..\n",
      "OAS2_0151_MR21     1\n",
      "OAS2_0151_MR20     1\n",
      "OAS2_0151_MR19     1\n",
      "OAS2_0151_MR18     1\n",
      "OAS2_0161_MR197    1\n",
      "Name: MRI ID, Length: 1210, dtype: int64\n",
      "-----\n",
      "R    1210\n",
      "Name: Hand, dtype: int64\n",
      "-----\n",
      "OAS2_0001    2\n",
      "OAS2_0813    1\n",
      "OAS2_0811    1\n",
      "OAS2_0810    1\n",
      "OAS2_0809    1\n",
      "            ..\n",
      "OAS2_0404    1\n",
      "OAS2_0403    1\n",
      "OAS2_0402    1\n",
      "OAS2_0401    1\n",
      "OAS2_1209    1\n",
      "Name: Subject ID, Length: 1209, dtype: int64\n"
     ]
    }
   ],
   "source": [
    "print(my_data[\"Group\"].value_counts())\n",
    "print(\"-----\")\n",
    "print(my_data[\"M/F\"].value_counts())\n",
    "print(\"-----\")\n",
    "print(my_data[\"MRI ID\"].value_counts())\n",
    "print(\"-----\")\n",
    "print(my_data[\"Hand\"].value_counts())\n",
    "print(\"-----\")\n",
    "print(my_data[\"Subject ID\"].value_counts())"
   ]
  },
  {
   "cell_type": "code",
   "execution_count": 7,
   "metadata": {
    "execution": {
     "iopub.execute_input": "2023-01-14T16:02:37.132208Z",
     "iopub.status.busy": "2023-01-14T16:02:37.131201Z",
     "iopub.status.idle": "2023-01-14T16:02:37.147314Z",
     "shell.execute_reply": "2023-01-14T16:02:37.146009Z",
     "shell.execute_reply.started": "2023-01-14T16:02:37.132174Z"
    }
   },
   "outputs": [
    {
     "data": {
      "text/plain": [
       "Subject ID    1209\n",
       "MRI ID        1210\n",
       "Group            3\n",
       "Visit            5\n",
       "MR Delay       203\n",
       "M/F              2\n",
       "Hand             1\n",
       "Age             39\n",
       "EDUC            12\n",
       "SES              5\n",
       "MMSE            18\n",
       "CDR              4\n",
       "eTIV           286\n",
       "nWBV           136\n",
       "ASF            265\n",
       "dtype: int64"
      ]
     },
     "execution_count": 7,
     "metadata": {},
     "output_type": "execute_result"
    }
   ],
   "source": [
    "my_data.nunique()"
   ]
  },
  {
   "cell_type": "code",
   "execution_count": 8,
   "metadata": {
    "execution": {
     "iopub.execute_input": "2023-01-14T16:02:37.151581Z",
     "iopub.status.busy": "2023-01-14T16:02:37.151166Z",
     "iopub.status.idle": "2023-01-14T16:02:38.415681Z",
     "shell.execute_reply": "2023-01-14T16:02:38.414479Z",
     "shell.execute_reply.started": "2023-01-14T16:02:37.151539Z"
    }
   },
   "outputs": [
    {
     "data": {
      "image/png": "[encoded data removed]",
      "text/plain": [
       "<Figure size 720x720 with 12 Axes>"
      ]
     },
     "metadata": {
      "needs_background": "light"
     },
     "output_type": "display_data"
    }
   ],
   "source": [
    "# Univariate Histograms\n",
    "import matplotlib.pyplot as plt\n",
    "my_data.hist(figsize = (10,10))\n",
    "plt.show()"
   ]
  },
  {
   "cell_type": "code",
   "execution_count": 9,
   "metadata": {
    "execution": {
     "iopub.execute_input": "2023-01-14T16:02:38.418191Z",
     "iopub.status.busy": "2023-01-14T16:02:38.417492Z",
     "iopub.status.idle": "2023-01-14T16:02:38.618783Z",
     "shell.execute_reply": "2023-01-14T16:02:38.617635Z",
     "shell.execute_reply.started": "2023-01-14T16:02:38.418143Z"
    }
   },
   "outputs": [
    {
     "data": {
      "text/plain": [
       "Text(0.5, 0, 'Groups')"
      ]
     },
     "execution_count": 9,
     "metadata": {},
     "output_type": "execute_result"
    },
    {
     "data": {
      "image/png": "[encoded data removed]",
      "text/plain": [
       "<Figure size 432x288 with 1 Axes>"
      ]
     },
     "metadata": {
      "needs_background": "light"
     },
     "output_type": "display_data"
    }
   ],
   "source": [
    "import warnings\n",
    "warnings.filterwarnings('ignore')\n",
    "xs = my_data['Group'].value_counts().index\n",
    "ys = my_data['Group'].value_counts().values\n",
    "ax = sns.barplot(x=xs, y=ys)\n",
    "ax.set_xlabel(\"Groups\")"
   ]
  },
  {
   "cell_type": "code",
   "execution_count": 10,
   "metadata": {
    "execution": {
     "iopub.execute_input": "2023-01-14T16:02:38.621057Z",
     "iopub.status.busy": "2023-01-14T16:02:38.620625Z",
     "iopub.status.idle": "2023-01-14T16:02:38.808924Z",
     "shell.execute_reply": "2023-01-14T16:02:38.807272Z",
     "shell.execute_reply.started": "2023-01-14T16:02:38.621014Z"
    }
   },
   "outputs": [
    {
     "data": {
      "text/plain": [
       "Text(0.5, 0, 'Gender')"
      ]
     },
     "execution_count": 10,
     "metadata": {},
     "output_type": "execute_result"
    },
    {
     "data": {
      "image/png": "[encoded data removed]",
      "text/plain": [
       "<Figure size 432x288 with 1 Axes>"
      ]
     },
     "metadata": {
      "needs_background": "light"
     },
     "output_type": "display_data"
    }
   ],
   "source": [
    "xs = my_data['M/F'].value_counts().index\n",
    "ys = my_data['M/F'].value_counts().values\n",
    "\n",
    "ax = sns.barplot(x=xs,y=ys)\n",
    "ax.set_xlabel(\"Gender\")"
   ]
  },
  {
   "cell_type": "code",
   "execution_count": 11,
   "metadata": {
    "execution": {
     "iopub.execute_input": "2023-01-14T16:03:05.557212Z",
     "iopub.status.busy": "2023-01-14T16:03:05.55678Z",
     "iopub.status.idle": "2023-01-14T16:03:05.569749Z",
     "shell.execute_reply": "2023-01-14T16:03:05.568299Z",
     "shell.execute_reply.started": "2023-01-14T16:03:05.557176Z"
    }
   },
   "outputs": [],
   "source": [
    "dataset = my_data.copy()\n",
    "test_dataset=my_data_test.copy()"
   ]
  },
  {
   "cell_type": "code",
   "execution_count": 12,
   "metadata": {
    "execution": {
     "iopub.execute_input": "2023-01-14T16:03:05.578043Z",
     "iopub.status.busy": "2023-01-14T16:03:05.577665Z",
     "iopub.status.idle": "2023-01-14T16:03:05.597219Z",
     "shell.execute_reply": "2023-01-14T16:03:05.596013Z",
     "shell.execute_reply.started": "2023-01-14T16:03:05.57801Z"
    }
   },
   "outputs": [
    {
     "data": {
      "text/html": [
       "<div>\n",
       "<style scoped>\n",
       "    .dataframe tbody tr th:only-of-type {\n",
       "        vertical-align: middle;\n",
       "    }\n",
       "\n",
       "    .dataframe tbody tr th {\n",
       "        vertical-align: top;\n",
       "    }\n",
       "\n",
       "    .dataframe thead th {\n",
       "        text-align: right;\n",
       "    }\n",
       "</style>\n",
       "<table border=\"1\" class=\"dataframe\">\n",
       "  <thead>\n",
       "    <tr style=\"text-align: right;\">\n",
       "      <th></th>\n",
       "      <th>Subject ID</th>\n",
       "      <th>MRI ID</th>\n",
       "      <th>Group</th>\n",
       "      <th>Visit</th>\n",
       "      <th>MR Delay</th>\n",
       "      <th>M/F</th>\n",
       "      <th>Hand</th>\n",
       "      <th>Age</th>\n",
       "      <th>EDUC</th>\n",
       "      <th>SES</th>\n",
       "      <th>MMSE</th>\n",
       "      <th>CDR</th>\n",
       "      <th>eTIV</th>\n",
       "      <th>nWBV</th>\n",
       "      <th>ASF</th>\n",
       "    </tr>\n",
       "  </thead>\n",
       "  <tbody>\n",
       "    <tr>\n",
       "      <th>0</th>\n",
       "      <td>OAS2_0001</td>\n",
       "      <td>OAS2_0001_MR1</td>\n",
       "      <td>Nondemented</td>\n",
       "      <td>1</td>\n",
       "      <td>0</td>\n",
       "      <td>M</td>\n",
       "      <td>R</td>\n",
       "      <td>87</td>\n",
       "      <td>14</td>\n",
       "      <td>2.0</td>\n",
       "      <td>27.0</td>\n",
       "      <td>0.0</td>\n",
       "      <td>1987</td>\n",
       "      <td>0.696</td>\n",
       "      <td>0.883</td>\n",
       "    </tr>\n",
       "    <tr>\n",
       "      <th>1</th>\n",
       "      <td>OAS2_0001</td>\n",
       "      <td>OAS2_0001_MR2</td>\n",
       "      <td>Nondemented</td>\n",
       "      <td>2</td>\n",
       "      <td>457</td>\n",
       "      <td>M</td>\n",
       "      <td>R</td>\n",
       "      <td>88</td>\n",
       "      <td>14</td>\n",
       "      <td>2.0</td>\n",
       "      <td>30.0</td>\n",
       "      <td>0.0</td>\n",
       "      <td>2004</td>\n",
       "      <td>0.681</td>\n",
       "      <td>0.876</td>\n",
       "    </tr>\n",
       "    <tr>\n",
       "      <th>2</th>\n",
       "      <td>OAS2_0002</td>\n",
       "      <td>OAS2_0002_MR1</td>\n",
       "      <td>Demented</td>\n",
       "      <td>1</td>\n",
       "      <td>0</td>\n",
       "      <td>M</td>\n",
       "      <td>R</td>\n",
       "      <td>75</td>\n",
       "      <td>12</td>\n",
       "      <td>NaN</td>\n",
       "      <td>23.0</td>\n",
       "      <td>0.5</td>\n",
       "      <td>1678</td>\n",
       "      <td>0.736</td>\n",
       "      <td>1.046</td>\n",
       "    </tr>\n",
       "    <tr>\n",
       "      <th>3</th>\n",
       "      <td>OAS2_0003</td>\n",
       "      <td>OAS2_0002_MR2</td>\n",
       "      <td>Demented</td>\n",
       "      <td>2</td>\n",
       "      <td>560</td>\n",
       "      <td>M</td>\n",
       "      <td>R</td>\n",
       "      <td>76</td>\n",
       "      <td>12</td>\n",
       "      <td>NaN</td>\n",
       "      <td>28.0</td>\n",
       "      <td>0.5</td>\n",
       "      <td>1738</td>\n",
       "      <td>0.713</td>\n",
       "      <td>1.010</td>\n",
       "    </tr>\n",
       "    <tr>\n",
       "      <th>4</th>\n",
       "      <td>OAS2_0004</td>\n",
       "      <td>OAS2_0002_MR3</td>\n",
       "      <td>Demented</td>\n",
       "      <td>3</td>\n",
       "      <td>1895</td>\n",
       "      <td>M</td>\n",
       "      <td>R</td>\n",
       "      <td>80</td>\n",
       "      <td>12</td>\n",
       "      <td>NaN</td>\n",
       "      <td>22.0</td>\n",
       "      <td>0.5</td>\n",
       "      <td>1698</td>\n",
       "      <td>0.701</td>\n",
       "      <td>1.034</td>\n",
       "    </tr>\n",
       "  </tbody>\n",
       "</table>\n",
       "</div>"
      ],
      "text/plain": [
       "  Subject ID         MRI ID        Group  Visit  MR Delay M/F Hand  Age  EDUC  \\\n",
       "0  OAS2_0001  OAS2_0001_MR1  Nondemented      1         0   M    R   87    14   \n",
       "1  OAS2_0001  OAS2_0001_MR2  Nondemented      2       457   M    R   88    14   \n",
       "2  OAS2_0002  OAS2_0002_MR1     Demented      1         0   M    R   75    12   \n",
       "3  OAS2_0003  OAS2_0002_MR2     Demented      2       560   M    R   76    12   \n",
       "4  OAS2_0004  OAS2_0002_MR3     Demented      3      1895   M    R   80    12   \n",
       "\n",
       "   SES  MMSE  CDR  eTIV   nWBV    ASF  \n",
       "0  2.0  27.0  0.0  1987  0.696  0.883  \n",
       "1  2.0  30.0  0.0  2004  0.681  0.876  \n",
       "2  NaN  23.0  0.5  1678  0.736  1.046  \n",
       "3  NaN  28.0  0.5  1738  0.713  1.010  \n",
       "4  NaN  22.0  0.5  1698  0.701  1.034  "
      ]
     },
     "execution_count": 12,
     "metadata": {},
     "output_type": "execute_result"
    }
   ],
   "source": [
    "dataset.head()"
   ]
  },
  {
   "cell_type": "code",
   "execution_count": 13,
   "metadata": {
    "execution": {
     "iopub.execute_input": "2023-01-14T16:03:05.599792Z",
     "iopub.status.busy": "2023-01-14T16:03:05.599252Z",
     "iopub.status.idle": "2023-01-14T16:03:05.616234Z",
     "shell.execute_reply": "2023-01-14T16:03:05.61486Z",
     "shell.execute_reply.started": "2023-01-14T16:03:05.599662Z"
    }
   },
   "outputs": [
    {
     "data": {
      "text/plain": [
       "Subject ID     0\n",
       "MRI ID         0\n",
       "Group          0\n",
       "Visit          0\n",
       "MR Delay       0\n",
       "M/F            0\n",
       "Hand           0\n",
       "Age            0\n",
       "EDUC           0\n",
       "SES           51\n",
       "MMSE           6\n",
       "CDR            0\n",
       "eTIV           0\n",
       "nWBV           0\n",
       "ASF            0\n",
       "dtype: int64"
      ]
     },
     "execution_count": 13,
     "metadata": {},
     "output_type": "execute_result"
    }
   ],
   "source": [
    "dataset.isnull().sum()"
   ]
  },
  {
   "cell_type": "code",
   "execution_count": 14,
   "metadata": {},
   "outputs": [
    {
     "data": {
      "text/plain": [
       "Subject ID     0\n",
       "MRI ID         0\n",
       "Group          0\n",
       "Visit          0\n",
       "MR Delay       0\n",
       "M/F            0\n",
       "Hand           0\n",
       "Age            0\n",
       "EDUC           0\n",
       "SES           19\n",
       "MMSE           2\n",
       "CDR            0\n",
       "eTIV           0\n",
       "nWBV           0\n",
       "ASF            0\n",
       "dtype: int64"
      ]
     },
     "execution_count": 14,
     "metadata": {},
     "output_type": "execute_result"
    }
   ],
   "source": [
    "my_data_test.isnull().sum()"
   ]
  },
  {
   "cell_type": "code",
   "execution_count": 15,
   "metadata": {
    "execution": {
     "iopub.execute_input": "2023-01-14T16:03:05.618002Z",
     "iopub.status.busy": "2023-01-14T16:03:05.617669Z",
     "iopub.status.idle": "2023-01-14T16:03:05.633719Z",
     "shell.execute_reply": "2023-01-14T16:03:05.63249Z",
     "shell.execute_reply.started": "2023-01-14T16:03:05.617972Z"
    }
   },
   "outputs": [
    {
     "data": {
      "text/plain": [
       "Subject ID    0\n",
       "MRI ID        0\n",
       "Group         0\n",
       "Visit         0\n",
       "MR Delay      0\n",
       "M/F           0\n",
       "Hand          0\n",
       "Age           0\n",
       "EDUC          0\n",
       "SES           0\n",
       "MMSE          0\n",
       "CDR           0\n",
       "eTIV          0\n",
       "nWBV          0\n",
       "ASF           0\n",
       "dtype: int64"
      ]
     },
     "execution_count": 15,
     "metadata": {},
     "output_type": "execute_result"
    }
   ],
   "source": [
    "dataset.SES.fillna ( my_data.SES.mode() [0], inplace=True ) # impute mode\n",
    "dataset.MMSE.fillna ( my_data.MMSE.mean() , inplace=True ) # impute mean\n",
    "dataset.isna().sum()"
   ]
  },
  {
   "cell_type": "code",
   "execution_count": 16,
   "metadata": {},
   "outputs": [
    {
     "data": {
      "text/plain": [
       "Subject ID    0\n",
       "MRI ID        0\n",
       "Group         0\n",
       "Visit         0\n",
       "MR Delay      0\n",
       "M/F           0\n",
       "Hand          0\n",
       "Age           0\n",
       "EDUC          0\n",
       "SES           0\n",
       "MMSE          0\n",
       "CDR           0\n",
       "eTIV          0\n",
       "nWBV          0\n",
       "ASF           0\n",
       "dtype: int64"
      ]
     },
     "execution_count": 16,
     "metadata": {},
     "output_type": "execute_result"
    }
   ],
   "source": [
    "my_data_test.SES.fillna ( my_data.SES.mode() [0], inplace=True ) # impute mode\n",
    "my_data_test.MMSE.fillna ( my_data.MMSE.mean() , inplace=True ) # impute mean\n",
    "my_data_test.isna().sum()"
   ]
  },
  {
   "cell_type": "code",
   "execution_count": 17,
   "metadata": {
    "execution": {
     "iopub.execute_input": "2023-01-14T16:03:05.63555Z",
     "iopub.status.busy": "2023-01-14T16:03:05.635115Z",
     "iopub.status.idle": "2023-01-14T16:03:05.641701Z",
     "shell.execute_reply": "2023-01-14T16:03:05.64077Z",
     "shell.execute_reply.started": "2023-01-14T16:03:05.635515Z"
    }
   },
   "outputs": [],
   "source": [
    "dataset=dataset.drop(['Subject ID', 'MRI ID','Hand'], axis=1)"
   ]
  },
  {
   "cell_type": "code",
   "execution_count": 18,
   "metadata": {},
   "outputs": [],
   "source": [
    "my_data_test=my_data_test.drop(['Subject ID', 'MRI ID','Hand'], axis=1)"
   ]
  },
  {
   "cell_type": "code",
   "execution_count": 19,
   "metadata": {
    "execution": {
     "iopub.execute_input": "2023-01-14T16:03:05.643305Z",
     "iopub.status.busy": "2023-01-14T16:03:05.642967Z",
     "iopub.status.idle": "2023-01-14T16:03:05.671752Z",
     "shell.execute_reply": "2023-01-14T16:03:05.670393Z",
     "shell.execute_reply.started": "2023-01-14T16:03:05.643274Z"
    }
   },
   "outputs": [
    {
     "data": {
      "text/html": [
       "<div>\n",
       "<style scoped>\n",
       "    .dataframe tbody tr th:only-of-type {\n",
       "        vertical-align: middle;\n",
       "    }\n",
       "\n",
       "    .dataframe tbody tr th {\n",
       "        vertical-align: top;\n",
       "    }\n",
       "\n",
       "    .dataframe thead th {\n",
       "        text-align: right;\n",
       "    }\n",
       "</style>\n",
       "<table border=\"1\" class=\"dataframe\">\n",
       "  <thead>\n",
       "    <tr style=\"text-align: right;\">\n",
       "      <th></th>\n",
       "      <th>Group</th>\n",
       "      <th>Visit</th>\n",
       "      <th>MR Delay</th>\n",
       "      <th>M/F</th>\n",
       "      <th>Age</th>\n",
       "      <th>EDUC</th>\n",
       "      <th>SES</th>\n",
       "      <th>MMSE</th>\n",
       "      <th>CDR</th>\n",
       "      <th>eTIV</th>\n",
       "      <th>nWBV</th>\n",
       "      <th>ASF</th>\n",
       "    </tr>\n",
       "  </thead>\n",
       "  <tbody>\n",
       "    <tr>\n",
       "      <th>0</th>\n",
       "      <td>Nondemented</td>\n",
       "      <td>1</td>\n",
       "      <td>0</td>\n",
       "      <td>M</td>\n",
       "      <td>87</td>\n",
       "      <td>14</td>\n",
       "      <td>2.0</td>\n",
       "      <td>27.0</td>\n",
       "      <td>0.0</td>\n",
       "      <td>1987</td>\n",
       "      <td>0.696</td>\n",
       "      <td>0.883</td>\n",
       "    </tr>\n",
       "    <tr>\n",
       "      <th>1</th>\n",
       "      <td>Nondemented</td>\n",
       "      <td>2</td>\n",
       "      <td>457</td>\n",
       "      <td>M</td>\n",
       "      <td>88</td>\n",
       "      <td>14</td>\n",
       "      <td>2.0</td>\n",
       "      <td>30.0</td>\n",
       "      <td>0.0</td>\n",
       "      <td>2004</td>\n",
       "      <td>0.681</td>\n",
       "      <td>0.876</td>\n",
       "    </tr>\n",
       "    <tr>\n",
       "      <th>2</th>\n",
       "      <td>Demented</td>\n",
       "      <td>1</td>\n",
       "      <td>0</td>\n",
       "      <td>M</td>\n",
       "      <td>75</td>\n",
       "      <td>12</td>\n",
       "      <td>2.0</td>\n",
       "      <td>23.0</td>\n",
       "      <td>0.5</td>\n",
       "      <td>1678</td>\n",
       "      <td>0.736</td>\n",
       "      <td>1.046</td>\n",
       "    </tr>\n",
       "    <tr>\n",
       "      <th>3</th>\n",
       "      <td>Demented</td>\n",
       "      <td>2</td>\n",
       "      <td>560</td>\n",
       "      <td>M</td>\n",
       "      <td>76</td>\n",
       "      <td>12</td>\n",
       "      <td>2.0</td>\n",
       "      <td>28.0</td>\n",
       "      <td>0.5</td>\n",
       "      <td>1738</td>\n",
       "      <td>0.713</td>\n",
       "      <td>1.010</td>\n",
       "    </tr>\n",
       "    <tr>\n",
       "      <th>4</th>\n",
       "      <td>Demented</td>\n",
       "      <td>3</td>\n",
       "      <td>1895</td>\n",
       "      <td>M</td>\n",
       "      <td>80</td>\n",
       "      <td>12</td>\n",
       "      <td>2.0</td>\n",
       "      <td>22.0</td>\n",
       "      <td>0.5</td>\n",
       "      <td>1698</td>\n",
       "      <td>0.701</td>\n",
       "      <td>1.034</td>\n",
       "    </tr>\n",
       "  </tbody>\n",
       "</table>\n",
       "</div>"
      ],
      "text/plain": [
       "         Group  Visit  MR Delay M/F  Age  EDUC  SES  MMSE  CDR  eTIV   nWBV  \\\n",
       "0  Nondemented      1         0   M   87    14  2.0  27.0  0.0  1987  0.696   \n",
       "1  Nondemented      2       457   M   88    14  2.0  30.0  0.0  2004  0.681   \n",
       "2     Demented      1         0   M   75    12  2.0  23.0  0.5  1678  0.736   \n",
       "3     Demented      2       560   M   76    12  2.0  28.0  0.5  1738  0.713   \n",
       "4     Demented      3      1895   M   80    12  2.0  22.0  0.5  1698  0.701   \n",
       "\n",
       "     ASF  \n",
       "0  0.883  \n",
       "1  0.876  \n",
       "2  1.046  \n",
       "3  1.010  \n",
       "4  1.034  "
      ]
     },
     "execution_count": 19,
     "metadata": {},
     "output_type": "execute_result"
    }
   ],
   "source": [
    "dataset.head()"
   ]
  },
  {
   "cell_type": "code",
   "execution_count": 20,
   "metadata": {
    "execution": {
     "iopub.execute_input": "2023-01-14T16:03:05.673814Z",
     "iopub.status.busy": "2023-01-14T16:03:05.673324Z",
     "iopub.status.idle": "2023-01-14T16:03:05.686221Z",
     "shell.execute_reply": "2023-01-14T16:03:05.684846Z",
     "shell.execute_reply.started": "2023-01-14T16:03:05.673768Z"
    }
   },
   "outputs": [],
   "source": [
    "dataset = dataset.rename(columns = {'M/F' : 'Gender'})\n",
    "dataset = dataset.rename(columns = {'Group' : 'Dementia'})"
   ]
  },
  {
   "cell_type": "code",
   "execution_count": 21,
   "metadata": {},
   "outputs": [],
   "source": [
    "my_data_test = my_data_test.rename(columns = {'M/F' : 'Gender'})\n",
    "my_data_test = my_data_test.rename(columns = {'Group' : 'Dementia'})"
   ]
  },
  {
   "cell_type": "code",
   "execution_count": 22,
   "metadata": {
    "execution": {
     "iopub.execute_input": "2023-01-14T16:03:05.687973Z",
     "iopub.status.busy": "2023-01-14T16:03:05.687606Z",
     "iopub.status.idle": "2023-01-14T16:03:05.703515Z",
     "shell.execute_reply": "2023-01-14T16:03:05.702412Z",
     "shell.execute_reply.started": "2023-01-14T16:03:05.687939Z"
    }
   },
   "outputs": [],
   "source": [
    "dataset=dataset.replace('Nondemented', 0).replace('Demented', 1).replace('Converted',2)"
   ]
  },
  {
   "cell_type": "code",
   "execution_count": 23,
   "metadata": {},
   "outputs": [],
   "source": [
    "my_data_test=my_data_test.replace('Nondemented', 0).replace('Demented', 1).replace('Converted',2)"
   ]
  },
  {
   "cell_type": "code",
   "execution_count": 24,
   "metadata": {
    "execution": {
     "iopub.execute_input": "2023-01-14T16:03:05.705173Z",
     "iopub.status.busy": "2023-01-14T16:03:05.704722Z",
     "iopub.status.idle": "2023-01-14T16:03:05.72156Z",
     "shell.execute_reply": "2023-01-14T16:03:05.720055Z",
     "shell.execute_reply.started": "2023-01-14T16:03:05.705127Z"
    }
   },
   "outputs": [],
   "source": [
    "dataset=dataset.replace('M', 0).replace('F', 1)"
   ]
  },
  {
   "cell_type": "code",
   "execution_count": 25,
   "metadata": {},
   "outputs": [],
   "source": [
    "my_data_test=my_data_test.replace('M', 0).replace('F', 1)"
   ]
  },
  {
   "cell_type": "code",
   "execution_count": 26,
   "metadata": {
    "execution": {
     "iopub.execute_input": "2023-01-14T16:03:05.723887Z",
     "iopub.status.busy": "2023-01-14T16:03:05.723157Z",
     "iopub.status.idle": "2023-01-14T16:03:05.749582Z",
     "shell.execute_reply": "2023-01-14T16:03:05.748372Z",
     "shell.execute_reply.started": "2023-01-14T16:03:05.723848Z"
    }
   },
   "outputs": [
    {
     "data": {
      "text/html": [
       "<div>\n",
       "<style scoped>\n",
       "    .dataframe tbody tr th:only-of-type {\n",
       "        vertical-align: middle;\n",
       "    }\n",
       "\n",
       "    .dataframe tbody tr th {\n",
       "        vertical-align: top;\n",
       "    }\n",
       "\n",
       "    .dataframe thead th {\n",
       "        text-align: right;\n",
       "    }\n",
       "</style>\n",
       "<table border=\"1\" class=\"dataframe\">\n",
       "  <thead>\n",
       "    <tr style=\"text-align: right;\">\n",
       "      <th></th>\n",
       "      <th>Dementia</th>\n",
       "      <th>Visit</th>\n",
       "      <th>MR Delay</th>\n",
       "      <th>Gender</th>\n",
       "      <th>Age</th>\n",
       "      <th>EDUC</th>\n",
       "      <th>SES</th>\n",
       "      <th>MMSE</th>\n",
       "      <th>CDR</th>\n",
       "      <th>eTIV</th>\n",
       "      <th>nWBV</th>\n",
       "      <th>ASF</th>\n",
       "    </tr>\n",
       "  </thead>\n",
       "  <tbody>\n",
       "    <tr>\n",
       "      <th>0</th>\n",
       "      <td>0</td>\n",
       "      <td>1</td>\n",
       "      <td>0</td>\n",
       "      <td>0</td>\n",
       "      <td>87</td>\n",
       "      <td>14</td>\n",
       "      <td>2.0</td>\n",
       "      <td>27.0</td>\n",
       "      <td>0.0</td>\n",
       "      <td>1987</td>\n",
       "      <td>0.696</td>\n",
       "      <td>0.883</td>\n",
       "    </tr>\n",
       "    <tr>\n",
       "      <th>1</th>\n",
       "      <td>0</td>\n",
       "      <td>2</td>\n",
       "      <td>457</td>\n",
       "      <td>0</td>\n",
       "      <td>88</td>\n",
       "      <td>14</td>\n",
       "      <td>2.0</td>\n",
       "      <td>30.0</td>\n",
       "      <td>0.0</td>\n",
       "      <td>2004</td>\n",
       "      <td>0.681</td>\n",
       "      <td>0.876</td>\n",
       "    </tr>\n",
       "    <tr>\n",
       "      <th>2</th>\n",
       "      <td>1</td>\n",
       "      <td>1</td>\n",
       "      <td>0</td>\n",
       "      <td>0</td>\n",
       "      <td>75</td>\n",
       "      <td>12</td>\n",
       "      <td>2.0</td>\n",
       "      <td>23.0</td>\n",
       "      <td>0.5</td>\n",
       "      <td>1678</td>\n",
       "      <td>0.736</td>\n",
       "      <td>1.046</td>\n",
       "    </tr>\n",
       "    <tr>\n",
       "      <th>3</th>\n",
       "      <td>1</td>\n",
       "      <td>2</td>\n",
       "      <td>560</td>\n",
       "      <td>0</td>\n",
       "      <td>76</td>\n",
       "      <td>12</td>\n",
       "      <td>2.0</td>\n",
       "      <td>28.0</td>\n",
       "      <td>0.5</td>\n",
       "      <td>1738</td>\n",
       "      <td>0.713</td>\n",
       "      <td>1.010</td>\n",
       "    </tr>\n",
       "    <tr>\n",
       "      <th>4</th>\n",
       "      <td>1</td>\n",
       "      <td>3</td>\n",
       "      <td>1895</td>\n",
       "      <td>0</td>\n",
       "      <td>80</td>\n",
       "      <td>12</td>\n",
       "      <td>2.0</td>\n",
       "      <td>22.0</td>\n",
       "      <td>0.5</td>\n",
       "      <td>1698</td>\n",
       "      <td>0.701</td>\n",
       "      <td>1.034</td>\n",
       "    </tr>\n",
       "  </tbody>\n",
       "</table>\n",
       "</div>"
      ],
      "text/plain": [
       "   Dementia  Visit  MR Delay  Gender  Age  EDUC  SES  MMSE  CDR  eTIV   nWBV  \\\n",
       "0         0      1         0       0   87    14  2.0  27.0  0.0  1987  0.696   \n",
       "1         0      2       457       0   88    14  2.0  30.0  0.0  2004  0.681   \n",
       "2         1      1         0       0   75    12  2.0  23.0  0.5  1678  0.736   \n",
       "3         1      2       560       0   76    12  2.0  28.0  0.5  1738  0.713   \n",
       "4         1      3      1895       0   80    12  2.0  22.0  0.5  1698  0.701   \n",
       "\n",
       "     ASF  \n",
       "0  0.883  \n",
       "1  0.876  \n",
       "2  1.046  \n",
       "3  1.010  \n",
       "4  1.034  "
      ]
     },
     "execution_count": 26,
     "metadata": {},
     "output_type": "execute_result"
    }
   ],
   "source": [
    "dataset.head()"
   ]
  },
  {
   "cell_type": "code",
   "execution_count": 27,
   "metadata": {},
   "outputs": [
    {
     "data": {
      "text/html": [
       "<div>\n",
       "<style scoped>\n",
       "    .dataframe tbody tr th:only-of-type {\n",
       "        vertical-align: middle;\n",
       "    }\n",
       "\n",
       "    .dataframe tbody tr th {\n",
       "        vertical-align: top;\n",
       "    }\n",
       "\n",
       "    .dataframe thead th {\n",
       "        text-align: right;\n",
       "    }\n",
       "</style>\n",
       "<table border=\"1\" class=\"dataframe\">\n",
       "  <thead>\n",
       "    <tr style=\"text-align: right;\">\n",
       "      <th></th>\n",
       "      <th>Dementia</th>\n",
       "      <th>Visit</th>\n",
       "      <th>MR Delay</th>\n",
       "      <th>Gender</th>\n",
       "      <th>Age</th>\n",
       "      <th>EDUC</th>\n",
       "      <th>SES</th>\n",
       "      <th>MMSE</th>\n",
       "      <th>CDR</th>\n",
       "      <th>eTIV</th>\n",
       "      <th>nWBV</th>\n",
       "      <th>ASF</th>\n",
       "    </tr>\n",
       "  </thead>\n",
       "  <tbody>\n",
       "    <tr>\n",
       "      <th>0</th>\n",
       "      <td>0</td>\n",
       "      <td>1</td>\n",
       "      <td>0</td>\n",
       "      <td>0</td>\n",
       "      <td>87</td>\n",
       "      <td>14</td>\n",
       "      <td>2.0</td>\n",
       "      <td>27.0</td>\n",
       "      <td>0.0</td>\n",
       "      <td>1987</td>\n",
       "      <td>0.696</td>\n",
       "      <td>0.883</td>\n",
       "    </tr>\n",
       "    <tr>\n",
       "      <th>1</th>\n",
       "      <td>0</td>\n",
       "      <td>2</td>\n",
       "      <td>457</td>\n",
       "      <td>0</td>\n",
       "      <td>88</td>\n",
       "      <td>14</td>\n",
       "      <td>2.0</td>\n",
       "      <td>30.0</td>\n",
       "      <td>0.0</td>\n",
       "      <td>2004</td>\n",
       "      <td>0.681</td>\n",
       "      <td>0.876</td>\n",
       "    </tr>\n",
       "    <tr>\n",
       "      <th>2</th>\n",
       "      <td>1</td>\n",
       "      <td>1</td>\n",
       "      <td>0</td>\n",
       "      <td>0</td>\n",
       "      <td>75</td>\n",
       "      <td>12</td>\n",
       "      <td>2.0</td>\n",
       "      <td>23.0</td>\n",
       "      <td>0.5</td>\n",
       "      <td>1678</td>\n",
       "      <td>0.736</td>\n",
       "      <td>1.046</td>\n",
       "    </tr>\n",
       "    <tr>\n",
       "      <th>3</th>\n",
       "      <td>1</td>\n",
       "      <td>2</td>\n",
       "      <td>560</td>\n",
       "      <td>0</td>\n",
       "      <td>76</td>\n",
       "      <td>12</td>\n",
       "      <td>2.0</td>\n",
       "      <td>28.0</td>\n",
       "      <td>0.5</td>\n",
       "      <td>1738</td>\n",
       "      <td>0.713</td>\n",
       "      <td>1.010</td>\n",
       "    </tr>\n",
       "    <tr>\n",
       "      <th>4</th>\n",
       "      <td>1</td>\n",
       "      <td>3</td>\n",
       "      <td>1895</td>\n",
       "      <td>0</td>\n",
       "      <td>80</td>\n",
       "      <td>12</td>\n",
       "      <td>2.0</td>\n",
       "      <td>22.0</td>\n",
       "      <td>0.5</td>\n",
       "      <td>1698</td>\n",
       "      <td>0.701</td>\n",
       "      <td>1.034</td>\n",
       "    </tr>\n",
       "  </tbody>\n",
       "</table>\n",
       "</div>"
      ],
      "text/plain": [
       "   Dementia  Visit  MR Delay  Gender  Age  EDUC  SES  MMSE  CDR  eTIV   nWBV  \\\n",
       "0         0      1         0       0   87    14  2.0  27.0  0.0  1987  0.696   \n",
       "1         0      2       457       0   88    14  2.0  30.0  0.0  2004  0.681   \n",
       "2         1      1         0       0   75    12  2.0  23.0  0.5  1678  0.736   \n",
       "3         1      2       560       0   76    12  2.0  28.0  0.5  1738  0.713   \n",
       "4         1      3      1895       0   80    12  2.0  22.0  0.5  1698  0.701   \n",
       "\n",
       "     ASF  \n",
       "0  0.883  \n",
       "1  0.876  \n",
       "2  1.046  \n",
       "3  1.010  \n",
       "4  1.034  "
      ]
     },
     "execution_count": 27,
     "metadata": {},
     "output_type": "execute_result"
    }
   ],
   "source": [
    "my_data_test.head()"
   ]
  },
  {
   "cell_type": "code",
   "execution_count": 28,
   "metadata": {},
   "outputs": [
    {
     "data": {
      "text/html": [
       "<div>\n",
       "<style scoped>\n",
       "    .dataframe tbody tr th:only-of-type {\n",
       "        vertical-align: middle;\n",
       "    }\n",
       "\n",
       "    .dataframe tbody tr th {\n",
       "        vertical-align: top;\n",
       "    }\n",
       "\n",
       "    .dataframe thead th {\n",
       "        text-align: right;\n",
       "    }\n",
       "</style>\n",
       "<table border=\"1\" class=\"dataframe\">\n",
       "  <thead>\n",
       "    <tr style=\"text-align: right;\">\n",
       "      <th></th>\n",
       "      <th>Dementia</th>\n",
       "      <th>Visit</th>\n",
       "      <th>MR Delay</th>\n",
       "      <th>Gender</th>\n",
       "      <th>Age</th>\n",
       "      <th>EDUC</th>\n",
       "      <th>SES</th>\n",
       "      <th>MMSE</th>\n",
       "      <th>CDR</th>\n",
       "      <th>eTIV</th>\n",
       "      <th>nWBV</th>\n",
       "      <th>ASF</th>\n",
       "    </tr>\n",
       "  </thead>\n",
       "  <tbody>\n",
       "    <tr>\n",
       "      <th>33</th>\n",
       "      <td>2</td>\n",
       "      <td>1</td>\n",
       "      <td>0</td>\n",
       "      <td>1</td>\n",
       "      <td>87</td>\n",
       "      <td>14</td>\n",
       "      <td>1.0</td>\n",
       "      <td>30.0</td>\n",
       "      <td>0.0</td>\n",
       "      <td>1406</td>\n",
       "      <td>0.715</td>\n",
       "      <td>1.248</td>\n",
       "    </tr>\n",
       "    <tr>\n",
       "      <th>34</th>\n",
       "      <td>2</td>\n",
       "      <td>3</td>\n",
       "      <td>489</td>\n",
       "      <td>1</td>\n",
       "      <td>88</td>\n",
       "      <td>14</td>\n",
       "      <td>1.0</td>\n",
       "      <td>29.0</td>\n",
       "      <td>0.0</td>\n",
       "      <td>1398</td>\n",
       "      <td>0.713</td>\n",
       "      <td>1.255</td>\n",
       "    </tr>\n",
       "    <tr>\n",
       "      <th>35</th>\n",
       "      <td>2</td>\n",
       "      <td>4</td>\n",
       "      <td>1933</td>\n",
       "      <td>1</td>\n",
       "      <td>92</td>\n",
       "      <td>14</td>\n",
       "      <td>1.0</td>\n",
       "      <td>27.0</td>\n",
       "      <td>0.5</td>\n",
       "      <td>1423</td>\n",
       "      <td>0.696</td>\n",
       "      <td>1.234</td>\n",
       "    </tr>\n",
       "    <tr>\n",
       "      <th>36</th>\n",
       "      <td>2</td>\n",
       "      <td>1</td>\n",
       "      <td>0</td>\n",
       "      <td>0</td>\n",
       "      <td>80</td>\n",
       "      <td>20</td>\n",
       "      <td>1.0</td>\n",
       "      <td>29.0</td>\n",
       "      <td>0.0</td>\n",
       "      <td>1587</td>\n",
       "      <td>0.693</td>\n",
       "      <td>1.106</td>\n",
       "    </tr>\n",
       "    <tr>\n",
       "      <th>37</th>\n",
       "      <td>2</td>\n",
       "      <td>2</td>\n",
       "      <td>756</td>\n",
       "      <td>0</td>\n",
       "      <td>82</td>\n",
       "      <td>20</td>\n",
       "      <td>1.0</td>\n",
       "      <td>28.0</td>\n",
       "      <td>0.5</td>\n",
       "      <td>1606</td>\n",
       "      <td>0.677</td>\n",
       "      <td>1.093</td>\n",
       "    </tr>\n",
       "    <tr>\n",
       "      <th>38</th>\n",
       "      <td>2</td>\n",
       "      <td>3</td>\n",
       "      <td>1563</td>\n",
       "      <td>0</td>\n",
       "      <td>84</td>\n",
       "      <td>20</td>\n",
       "      <td>1.0</td>\n",
       "      <td>26.0</td>\n",
       "      <td>0.5</td>\n",
       "      <td>1597</td>\n",
       "      <td>0.666</td>\n",
       "      <td>1.099</td>\n",
       "    </tr>\n",
       "    <tr>\n",
       "      <th>57</th>\n",
       "      <td>2</td>\n",
       "      <td>1</td>\n",
       "      <td>0</td>\n",
       "      <td>1</td>\n",
       "      <td>86</td>\n",
       "      <td>12</td>\n",
       "      <td>3.0</td>\n",
       "      <td>30.0</td>\n",
       "      <td>0.0</td>\n",
       "      <td>1430</td>\n",
       "      <td>0.718</td>\n",
       "      <td>1.227</td>\n",
       "    </tr>\n",
       "    <tr>\n",
       "      <th>58</th>\n",
       "      <td>2</td>\n",
       "      <td>2</td>\n",
       "      <td>446</td>\n",
       "      <td>1</td>\n",
       "      <td>88</td>\n",
       "      <td>12</td>\n",
       "      <td>3.0</td>\n",
       "      <td>30.0</td>\n",
       "      <td>0.0</td>\n",
       "      <td>1445</td>\n",
       "      <td>0.719</td>\n",
       "      <td>1.215</td>\n",
       "    </tr>\n",
       "    <tr>\n",
       "      <th>59</th>\n",
       "      <td>2</td>\n",
       "      <td>3</td>\n",
       "      <td>1588</td>\n",
       "      <td>1</td>\n",
       "      <td>91</td>\n",
       "      <td>12</td>\n",
       "      <td>3.0</td>\n",
       "      <td>28.0</td>\n",
       "      <td>0.5</td>\n",
       "      <td>1463</td>\n",
       "      <td>0.696</td>\n",
       "      <td>1.199</td>\n",
       "    </tr>\n",
       "    <tr>\n",
       "      <th>81</th>\n",
       "      <td>2</td>\n",
       "      <td>1</td>\n",
       "      <td>0</td>\n",
       "      <td>1</td>\n",
       "      <td>71</td>\n",
       "      <td>16</td>\n",
       "      <td>1.0</td>\n",
       "      <td>27.0</td>\n",
       "      <td>0.0</td>\n",
       "      <td>1289</td>\n",
       "      <td>0.771</td>\n",
       "      <td>1.362</td>\n",
       "    </tr>\n",
       "    <tr>\n",
       "      <th>82</th>\n",
       "      <td>2</td>\n",
       "      <td>2</td>\n",
       "      <td>756</td>\n",
       "      <td>1</td>\n",
       "      <td>73</td>\n",
       "      <td>16</td>\n",
       "      <td>1.0</td>\n",
       "      <td>28.0</td>\n",
       "      <td>0.0</td>\n",
       "      <td>1295</td>\n",
       "      <td>0.768</td>\n",
       "      <td>1.356</td>\n",
       "    </tr>\n",
       "    <tr>\n",
       "      <th>83</th>\n",
       "      <td>2</td>\n",
       "      <td>3</td>\n",
       "      <td>1331</td>\n",
       "      <td>1</td>\n",
       "      <td>75</td>\n",
       "      <td>16</td>\n",
       "      <td>1.0</td>\n",
       "      <td>28.0</td>\n",
       "      <td>0.5</td>\n",
       "      <td>1314</td>\n",
       "      <td>0.760</td>\n",
       "      <td>1.335</td>\n",
       "    </tr>\n",
       "    <tr>\n",
       "      <th>114</th>\n",
       "      <td>2</td>\n",
       "      <td>1</td>\n",
       "      <td>0</td>\n",
       "      <td>1</td>\n",
       "      <td>85</td>\n",
       "      <td>18</td>\n",
       "      <td>1.0</td>\n",
       "      <td>29.0</td>\n",
       "      <td>0.0</td>\n",
       "      <td>1264</td>\n",
       "      <td>0.701</td>\n",
       "      <td>1.388</td>\n",
       "    </tr>\n",
       "    <tr>\n",
       "      <th>115</th>\n",
       "      <td>2</td>\n",
       "      <td>2</td>\n",
       "      <td>846</td>\n",
       "      <td>1</td>\n",
       "      <td>87</td>\n",
       "      <td>18</td>\n",
       "      <td>1.0</td>\n",
       "      <td>24.0</td>\n",
       "      <td>0.5</td>\n",
       "      <td>1275</td>\n",
       "      <td>0.683</td>\n",
       "      <td>1.376</td>\n",
       "    </tr>\n",
       "    <tr>\n",
       "      <th>194</th>\n",
       "      <td>2</td>\n",
       "      <td>1</td>\n",
       "      <td>0</td>\n",
       "      <td>1</td>\n",
       "      <td>83</td>\n",
       "      <td>12</td>\n",
       "      <td>2.0</td>\n",
       "      <td>28.0</td>\n",
       "      <td>0.0</td>\n",
       "      <td>1383</td>\n",
       "      <td>0.748</td>\n",
       "      <td>1.269</td>\n",
       "    </tr>\n",
       "    <tr>\n",
       "      <th>195</th>\n",
       "      <td>2</td>\n",
       "      <td>2</td>\n",
       "      <td>706</td>\n",
       "      <td>1</td>\n",
       "      <td>84</td>\n",
       "      <td>12</td>\n",
       "      <td>2.0</td>\n",
       "      <td>27.0</td>\n",
       "      <td>0.5</td>\n",
       "      <td>1390</td>\n",
       "      <td>0.728</td>\n",
       "      <td>1.263</td>\n",
       "    </tr>\n",
       "    <tr>\n",
       "      <th>218</th>\n",
       "      <td>2</td>\n",
       "      <td>1</td>\n",
       "      <td>0</td>\n",
       "      <td>1</td>\n",
       "      <td>69</td>\n",
       "      <td>16</td>\n",
       "      <td>1.0</td>\n",
       "      <td>30.0</td>\n",
       "      <td>0.0</td>\n",
       "      <td>1404</td>\n",
       "      <td>0.750</td>\n",
       "      <td>1.250</td>\n",
       "    </tr>\n",
       "    <tr>\n",
       "      <th>219</th>\n",
       "      <td>2</td>\n",
       "      <td>2</td>\n",
       "      <td>1554</td>\n",
       "      <td>1</td>\n",
       "      <td>74</td>\n",
       "      <td>16</td>\n",
       "      <td>1.0</td>\n",
       "      <td>30.0</td>\n",
       "      <td>0.5</td>\n",
       "      <td>1423</td>\n",
       "      <td>0.722</td>\n",
       "      <td>1.233</td>\n",
       "    </tr>\n",
       "    <tr>\n",
       "      <th>220</th>\n",
       "      <td>2</td>\n",
       "      <td>3</td>\n",
       "      <td>2002</td>\n",
       "      <td>1</td>\n",
       "      <td>75</td>\n",
       "      <td>16</td>\n",
       "      <td>1.0</td>\n",
       "      <td>30.0</td>\n",
       "      <td>0.5</td>\n",
       "      <td>1419</td>\n",
       "      <td>0.731</td>\n",
       "      <td>1.236</td>\n",
       "    </tr>\n",
       "    <tr>\n",
       "      <th>245</th>\n",
       "      <td>2</td>\n",
       "      <td>1</td>\n",
       "      <td>0</td>\n",
       "      <td>1</td>\n",
       "      <td>67</td>\n",
       "      <td>14</td>\n",
       "      <td>4.0</td>\n",
       "      <td>30.0</td>\n",
       "      <td>0.0</td>\n",
       "      <td>1508</td>\n",
       "      <td>0.794</td>\n",
       "      <td>1.164</td>\n",
       "    </tr>\n",
       "    <tr>\n",
       "      <th>246</th>\n",
       "      <td>2</td>\n",
       "      <td>2</td>\n",
       "      <td>1422</td>\n",
       "      <td>1</td>\n",
       "      <td>71</td>\n",
       "      <td>14</td>\n",
       "      <td>4.0</td>\n",
       "      <td>26.0</td>\n",
       "      <td>0.5</td>\n",
       "      <td>1529</td>\n",
       "      <td>0.788</td>\n",
       "      <td>1.147</td>\n",
       "    </tr>\n",
       "    <tr>\n",
       "      <th>261</th>\n",
       "      <td>2</td>\n",
       "      <td>1</td>\n",
       "      <td>0</td>\n",
       "      <td>0</td>\n",
       "      <td>79</td>\n",
       "      <td>18</td>\n",
       "      <td>1.0</td>\n",
       "      <td>29.0</td>\n",
       "      <td>0.0</td>\n",
       "      <td>1644</td>\n",
       "      <td>0.729</td>\n",
       "      <td>1.067</td>\n",
       "    </tr>\n",
       "    <tr>\n",
       "      <th>262</th>\n",
       "      <td>2</td>\n",
       "      <td>2</td>\n",
       "      <td>851</td>\n",
       "      <td>0</td>\n",
       "      <td>81</td>\n",
       "      <td>18</td>\n",
       "      <td>1.0</td>\n",
       "      <td>29.0</td>\n",
       "      <td>0.5</td>\n",
       "      <td>1654</td>\n",
       "      <td>0.720</td>\n",
       "      <td>1.061</td>\n",
       "    </tr>\n",
       "    <tr>\n",
       "      <th>263</th>\n",
       "      <td>2</td>\n",
       "      <td>3</td>\n",
       "      <td>1042</td>\n",
       "      <td>0</td>\n",
       "      <td>81</td>\n",
       "      <td>18</td>\n",
       "      <td>1.0</td>\n",
       "      <td>29.0</td>\n",
       "      <td>0.5</td>\n",
       "      <td>1647</td>\n",
       "      <td>0.717</td>\n",
       "      <td>1.066</td>\n",
       "    </tr>\n",
       "    <tr>\n",
       "      <th>264</th>\n",
       "      <td>2</td>\n",
       "      <td>4</td>\n",
       "      <td>2153</td>\n",
       "      <td>0</td>\n",
       "      <td>84</td>\n",
       "      <td>18</td>\n",
       "      <td>1.0</td>\n",
       "      <td>29.0</td>\n",
       "      <td>0.5</td>\n",
       "      <td>1668</td>\n",
       "      <td>0.694</td>\n",
       "      <td>1.052</td>\n",
       "    </tr>\n",
       "    <tr>\n",
       "      <th>265</th>\n",
       "      <td>2</td>\n",
       "      <td>5</td>\n",
       "      <td>2639</td>\n",
       "      <td>0</td>\n",
       "      <td>86</td>\n",
       "      <td>18</td>\n",
       "      <td>1.0</td>\n",
       "      <td>30.0</td>\n",
       "      <td>0.5</td>\n",
       "      <td>1670</td>\n",
       "      <td>0.669</td>\n",
       "      <td>1.051</td>\n",
       "    </tr>\n",
       "    <tr>\n",
       "      <th>271</th>\n",
       "      <td>2</td>\n",
       "      <td>1</td>\n",
       "      <td>0</td>\n",
       "      <td>1</td>\n",
       "      <td>65</td>\n",
       "      <td>12</td>\n",
       "      <td>2.0</td>\n",
       "      <td>30.0</td>\n",
       "      <td>0.5</td>\n",
       "      <td>1340</td>\n",
       "      <td>0.754</td>\n",
       "      <td>1.309</td>\n",
       "    </tr>\n",
       "    <tr>\n",
       "      <th>272</th>\n",
       "      <td>2</td>\n",
       "      <td>2</td>\n",
       "      <td>679</td>\n",
       "      <td>1</td>\n",
       "      <td>67</td>\n",
       "      <td>12</td>\n",
       "      <td>2.0</td>\n",
       "      <td>25.0</td>\n",
       "      <td>0.0</td>\n",
       "      <td>1331</td>\n",
       "      <td>0.761</td>\n",
       "      <td>1.318</td>\n",
       "    </tr>\n",
       "    <tr>\n",
       "      <th>273</th>\n",
       "      <td>2</td>\n",
       "      <td>1</td>\n",
       "      <td>0</td>\n",
       "      <td>1</td>\n",
       "      <td>78</td>\n",
       "      <td>12</td>\n",
       "      <td>3.0</td>\n",
       "      <td>29.0</td>\n",
       "      <td>0.0</td>\n",
       "      <td>1475</td>\n",
       "      <td>0.731</td>\n",
       "      <td>1.190</td>\n",
       "    </tr>\n",
       "    <tr>\n",
       "      <th>274</th>\n",
       "      <td>2</td>\n",
       "      <td>3</td>\n",
       "      <td>1006</td>\n",
       "      <td>1</td>\n",
       "      <td>81</td>\n",
       "      <td>12</td>\n",
       "      <td>3.0</td>\n",
       "      <td>28.0</td>\n",
       "      <td>0.5</td>\n",
       "      <td>1495</td>\n",
       "      <td>0.687</td>\n",
       "      <td>1.174</td>\n",
       "    </tr>\n",
       "    <tr>\n",
       "      <th>295</th>\n",
       "      <td>2</td>\n",
       "      <td>1</td>\n",
       "      <td>0</td>\n",
       "      <td>0</td>\n",
       "      <td>77</td>\n",
       "      <td>16</td>\n",
       "      <td>1.0</td>\n",
       "      <td>30.0</td>\n",
       "      <td>0.0</td>\n",
       "      <td>1704</td>\n",
       "      <td>0.716</td>\n",
       "      <td>1.030</td>\n",
       "    </tr>\n",
       "    <tr>\n",
       "      <th>296</th>\n",
       "      <td>2</td>\n",
       "      <td>2</td>\n",
       "      <td>683</td>\n",
       "      <td>0</td>\n",
       "      <td>79</td>\n",
       "      <td>16</td>\n",
       "      <td>1.0</td>\n",
       "      <td>30.0</td>\n",
       "      <td>0.5</td>\n",
       "      <td>1722</td>\n",
       "      <td>0.708</td>\n",
       "      <td>1.019</td>\n",
       "    </tr>\n",
       "    <tr>\n",
       "      <th>297</th>\n",
       "      <td>2</td>\n",
       "      <td>1</td>\n",
       "      <td>0</td>\n",
       "      <td>1</td>\n",
       "      <td>68</td>\n",
       "      <td>16</td>\n",
       "      <td>3.0</td>\n",
       "      <td>30.0</td>\n",
       "      <td>0.0</td>\n",
       "      <td>1298</td>\n",
       "      <td>0.799</td>\n",
       "      <td>1.352</td>\n",
       "    </tr>\n",
       "    <tr>\n",
       "      <th>298</th>\n",
       "      <td>2</td>\n",
       "      <td>2</td>\n",
       "      <td>1707</td>\n",
       "      <td>1</td>\n",
       "      <td>73</td>\n",
       "      <td>16</td>\n",
       "      <td>3.0</td>\n",
       "      <td>29.0</td>\n",
       "      <td>0.5</td>\n",
       "      <td>1287</td>\n",
       "      <td>0.771</td>\n",
       "      <td>1.364</td>\n",
       "    </tr>\n",
       "    <tr>\n",
       "      <th>346</th>\n",
       "      <td>2</td>\n",
       "      <td>1</td>\n",
       "      <td>0</td>\n",
       "      <td>0</td>\n",
       "      <td>84</td>\n",
       "      <td>16</td>\n",
       "      <td>2.0</td>\n",
       "      <td>30.0</td>\n",
       "      <td>0.0</td>\n",
       "      <td>1404</td>\n",
       "      <td>0.710</td>\n",
       "      <td>1.250</td>\n",
       "    </tr>\n",
       "    <tr>\n",
       "      <th>347</th>\n",
       "      <td>2</td>\n",
       "      <td>2</td>\n",
       "      <td>774</td>\n",
       "      <td>0</td>\n",
       "      <td>87</td>\n",
       "      <td>16</td>\n",
       "      <td>2.0</td>\n",
       "      <td>30.0</td>\n",
       "      <td>0.0</td>\n",
       "      <td>1398</td>\n",
       "      <td>0.696</td>\n",
       "      <td>1.255</td>\n",
       "    </tr>\n",
       "    <tr>\n",
       "      <th>348</th>\n",
       "      <td>2</td>\n",
       "      <td>3</td>\n",
       "      <td>1631</td>\n",
       "      <td>0</td>\n",
       "      <td>89</td>\n",
       "      <td>16</td>\n",
       "      <td>2.0</td>\n",
       "      <td>30.0</td>\n",
       "      <td>0.5</td>\n",
       "      <td>1408</td>\n",
       "      <td>0.679</td>\n",
       "      <td>1.246</td>\n",
       "    </tr>\n",
       "  </tbody>\n",
       "</table>\n",
       "</div>"
      ],
      "text/plain": [
       "     Dementia  Visit  MR Delay  Gender  Age  EDUC  SES  MMSE  CDR  eTIV  \\\n",
       "33          2      1         0       1   87    14  1.0  30.0  0.0  1406   \n",
       "34          2      3       489       1   88    14  1.0  29.0  0.0  1398   \n",
       "35          2      4      1933       1   92    14  1.0  27.0  0.5  1423   \n",
       "36          2      1         0       0   80    20  1.0  29.0  0.0  1587   \n",
       "37          2      2       756       0   82    20  1.0  28.0  0.5  1606   \n",
       "38          2      3      1563       0   84    20  1.0  26.0  0.5  1597   \n",
       "57          2      1         0       1   86    12  3.0  30.0  0.0  1430   \n",
       "58          2      2       446       1   88    12  3.0  30.0  0.0  1445   \n",
       "59          2      3      1588       1   91    12  3.0  28.0  0.5  1463   \n",
       "81          2      1         0       1   71    16  1.0  27.0  0.0  1289   \n",
       "82          2      2       756       1   73    16  1.0  28.0  0.0  1295   \n",
       "83          2      3      1331       1   75    16  1.0  28.0  0.5  1314   \n",
       "114         2      1         0       1   85    18  1.0  29.0  0.0  1264   \n",
       "115         2      2       846       1   87    18  1.0  24.0  0.5  1275   \n",
       "194         2      1         0       1   83    12  2.0  28.0  0.0  1383   \n",
       "195         2      2       706       1   84    12  2.0  27.0  0.5  1390   \n",
       "218         2      1         0       1   69    16  1.0  30.0  0.0  1404   \n",
       "219         2      2      1554       1   74    16  1.0  30.0  0.5  1423   \n",
       "220         2      3      2002       1   75    16  1.0  30.0  0.5  1419   \n",
       "245         2      1         0       1   67    14  4.0  30.0  0.0  1508   \n",
       "246         2      2      1422       1   71    14  4.0  26.0  0.5  1529   \n",
       "261         2      1         0       0   79    18  1.0  29.0  0.0  1644   \n",
       "262         2      2       851       0   81    18  1.0  29.0  0.5  1654   \n",
       "263         2      3      1042       0   81    18  1.0  29.0  0.5  1647   \n",
       "264         2      4      2153       0   84    18  1.0  29.0  0.5  1668   \n",
       "265         2      5      2639       0   86    18  1.0  30.0  0.5  1670   \n",
       "271         2      1         0       1   65    12  2.0  30.0  0.5  1340   \n",
       "272         2      2       679       1   67    12  2.0  25.0  0.0  1331   \n",
       "273         2      1         0       1   78    12  3.0  29.0  0.0  1475   \n",
       "274         2      3      1006       1   81    12  3.0  28.0  0.5  1495   \n",
       "295         2      1         0       0   77    16  1.0  30.0  0.0  1704   \n",
       "296         2      2       683       0   79    16  1.0  30.0  0.5  1722   \n",
       "297         2      1         0       1   68    16  3.0  30.0  0.0  1298   \n",
       "298         2      2      1707       1   73    16  3.0  29.0  0.5  1287   \n",
       "346         2      1         0       0   84    16  2.0  30.0  0.0  1404   \n",
       "347         2      2       774       0   87    16  2.0  30.0  0.0  1398   \n",
       "348         2      3      1631       0   89    16  2.0  30.0  0.5  1408   \n",
       "\n",
       "      nWBV    ASF  \n",
       "33   0.715  1.248  \n",
       "34   0.713  1.255  \n",
       "35   0.696  1.234  \n",
       "36   0.693  1.106  \n",
       "37   0.677  1.093  \n",
       "38   0.666  1.099  \n",
       "57   0.718  1.227  \n",
       "58   0.719  1.215  \n",
       "59   0.696  1.199  \n",
       "81   0.771  1.362  \n",
       "82   0.768  1.356  \n",
       "83   0.760  1.335  \n",
       "114  0.701  1.388  \n",
       "115  0.683  1.376  \n",
       "194  0.748  1.269  \n",
       "195  0.728  1.263  \n",
       "218  0.750  1.250  \n",
       "219  0.722  1.233  \n",
       "220  0.731  1.236  \n",
       "245  0.794  1.164  \n",
       "246  0.788  1.147  \n",
       "261  0.729  1.067  \n",
       "262  0.720  1.061  \n",
       "263  0.717  1.066  \n",
       "264  0.694  1.052  \n",
       "265  0.669  1.051  \n",
       "271  0.754  1.309  \n",
       "272  0.761  1.318  \n",
       "273  0.731  1.190  \n",
       "274  0.687  1.174  \n",
       "295  0.716  1.030  \n",
       "296  0.708  1.019  \n",
       "297  0.799  1.352  \n",
       "298  0.771  1.364  \n",
       "346  0.710  1.250  \n",
       "347  0.696  1.255  \n",
       "348  0.679  1.246  "
      ]
     },
     "execution_count": 28,
     "metadata": {},
     "output_type": "execute_result"
    }
   ],
   "source": [
    "my_data_test[my_data_test['Dementia']==2]"
   ]
  },
  {
   "cell_type": "code",
   "execution_count": 29,
   "metadata": {
    "execution": {
     "iopub.execute_input": "2023-01-14T16:03:05.752086Z",
     "iopub.status.busy": "2023-01-14T16:03:05.751205Z",
     "iopub.status.idle": "2023-01-14T16:03:05.772026Z",
     "shell.execute_reply": "2023-01-14T16:03:05.770661Z",
     "shell.execute_reply.started": "2023-01-14T16:03:05.752038Z"
    }
   },
   "outputs": [
    {
     "name": "stdout",
     "output_type": "stream",
     "text": [
      "<class 'pandas.core.frame.DataFrame'>\n",
      "RangeIndex: 1210 entries, 0 to 1209\n",
      "Data columns (total 12 columns):\n",
      " #   Column    Non-Null Count  Dtype  \n",
      "---  ------    --------------  -----  \n",
      " 0   Dementia  1210 non-null   int64  \n",
      " 1   Visit     1210 non-null   int64  \n",
      " 2   MR Delay  1210 non-null   int64  \n",
      " 3   Gender    1210 non-null   int64  \n",
      " 4   Age       1210 non-null   int64  \n",
      " 5   EDUC      1210 non-null   int64  \n",
      " 6   SES       1210 non-null   float64\n",
      " 7   MMSE      1210 non-null   float64\n",
      " 8   CDR       1210 non-null   float64\n",
      " 9   eTIV      1210 non-null   int64  \n",
      " 10  nWBV      1210 non-null   float64\n",
      " 11  ASF       1210 non-null   float64\n",
      "dtypes: float64(5), int64(7)\n",
      "memory usage: 113.6 KB\n"
     ]
    }
   ],
   "source": [
    "dataset.info()"
   ]
  },
  {
   "cell_type": "code",
   "execution_count": 30,
   "metadata": {},
   "outputs": [
    {
     "name": "stdout",
     "output_type": "stream",
     "text": [
      "<class 'pandas.core.frame.DataFrame'>\n",
      "RangeIndex: 373 entries, 0 to 372\n",
      "Data columns (total 12 columns):\n",
      " #   Column    Non-Null Count  Dtype  \n",
      "---  ------    --------------  -----  \n",
      " 0   Dementia  373 non-null    int64  \n",
      " 1   Visit     373 non-null    int64  \n",
      " 2   MR Delay  373 non-null    int64  \n",
      " 3   Gender    373 non-null    int64  \n",
      " 4   Age       373 non-null    int64  \n",
      " 5   EDUC      373 non-null    int64  \n",
      " 6   SES       373 non-null    float64\n",
      " 7   MMSE      373 non-null    float64\n",
      " 8   CDR       373 non-null    float64\n",
      " 9   eTIV      373 non-null    int64  \n",
      " 10  nWBV      373 non-null    float64\n",
      " 11  ASF       373 non-null    float64\n",
      "dtypes: float64(5), int64(7)\n",
      "memory usage: 35.1 KB\n"
     ]
    }
   ],
   "source": [
    "my_data_test.info()"
   ]
  },
  {
   "cell_type": "code",
   "execution_count": 31,
   "metadata": {
    "execution": {
     "iopub.execute_input": "2023-01-14T16:03:05.774707Z",
     "iopub.status.busy": "2023-01-14T16:03:05.773764Z",
     "iopub.status.idle": "2023-01-14T16:03:05.830444Z",
     "shell.execute_reply": "2023-01-14T16:03:05.82915Z",
     "shell.execute_reply.started": "2023-01-14T16:03:05.774668Z"
    }
   },
   "outputs": [
    {
     "data": {
      "text/html": [
       "<div>\n",
       "<style scoped>\n",
       "    .dataframe tbody tr th:only-of-type {\n",
       "        vertical-align: middle;\n",
       "    }\n",
       "\n",
       "    .dataframe tbody tr th {\n",
       "        vertical-align: top;\n",
       "    }\n",
       "\n",
       "    .dataframe thead th {\n",
       "        text-align: right;\n",
       "    }\n",
       "</style>\n",
       "<table border=\"1\" class=\"dataframe\">\n",
       "  <thead>\n",
       "    <tr style=\"text-align: right;\">\n",
       "      <th></th>\n",
       "      <th>Dementia</th>\n",
       "      <th>Visit</th>\n",
       "      <th>MR Delay</th>\n",
       "      <th>Gender</th>\n",
       "      <th>Age</th>\n",
       "      <th>EDUC</th>\n",
       "      <th>SES</th>\n",
       "      <th>MMSE</th>\n",
       "      <th>CDR</th>\n",
       "      <th>eTIV</th>\n",
       "      <th>nWBV</th>\n",
       "      <th>ASF</th>\n",
       "    </tr>\n",
       "  </thead>\n",
       "  <tbody>\n",
       "    <tr>\n",
       "      <th>count</th>\n",
       "      <td>1210.000000</td>\n",
       "      <td>1210.000000</td>\n",
       "      <td>1210.000000</td>\n",
       "      <td>1210.000000</td>\n",
       "      <td>1210.000000</td>\n",
       "      <td>1210.000000</td>\n",
       "      <td>1210.000000</td>\n",
       "      <td>1210.000000</td>\n",
       "      <td>1210.000000</td>\n",
       "      <td>1210.000000</td>\n",
       "      <td>1210.000000</td>\n",
       "      <td>1210.000000</td>\n",
       "    </tr>\n",
       "    <tr>\n",
       "      <th>mean</th>\n",
       "      <td>0.623967</td>\n",
       "      <td>1.906612</td>\n",
       "      <td>575.995868</td>\n",
       "      <td>0.568595</td>\n",
       "      <td>77.171901</td>\n",
       "      <td>14.591736</td>\n",
       "      <td>2.440496</td>\n",
       "      <td>27.277409</td>\n",
       "      <td>0.292975</td>\n",
       "      <td>1483.016529</td>\n",
       "      <td>0.729582</td>\n",
       "      <td>1.199258</td>\n",
       "    </tr>\n",
       "    <tr>\n",
       "      <th>std</th>\n",
       "      <td>0.691377</td>\n",
       "      <td>0.951446</td>\n",
       "      <td>612.799266</td>\n",
       "      <td>0.495477</td>\n",
       "      <td>7.706369</td>\n",
       "      <td>2.929601</td>\n",
       "      <td>1.113945</td>\n",
       "      <td>3.781605</td>\n",
       "      <td>0.372093</td>\n",
       "      <td>173.623543</td>\n",
       "      <td>0.037150</td>\n",
       "      <td>0.136936</td>\n",
       "    </tr>\n",
       "    <tr>\n",
       "      <th>min</th>\n",
       "      <td>0.000000</td>\n",
       "      <td>1.000000</td>\n",
       "      <td>0.000000</td>\n",
       "      <td>0.000000</td>\n",
       "      <td>60.000000</td>\n",
       "      <td>6.000000</td>\n",
       "      <td>1.000000</td>\n",
       "      <td>4.000000</td>\n",
       "      <td>0.000000</td>\n",
       "      <td>1106.000000</td>\n",
       "      <td>0.644000</td>\n",
       "      <td>0.876000</td>\n",
       "    </tr>\n",
       "    <tr>\n",
       "      <th>25%</th>\n",
       "      <td>0.000000</td>\n",
       "      <td>1.000000</td>\n",
       "      <td>0.000000</td>\n",
       "      <td>0.000000</td>\n",
       "      <td>71.000000</td>\n",
       "      <td>12.000000</td>\n",
       "      <td>2.000000</td>\n",
       "      <td>27.000000</td>\n",
       "      <td>0.000000</td>\n",
       "      <td>1353.250000</td>\n",
       "      <td>0.700250</td>\n",
       "      <td>1.104000</td>\n",
       "    </tr>\n",
       "    <tr>\n",
       "      <th>50%</th>\n",
       "      <td>1.000000</td>\n",
       "      <td>2.000000</td>\n",
       "      <td>552.000000</td>\n",
       "      <td>1.000000</td>\n",
       "      <td>77.000000</td>\n",
       "      <td>15.000000</td>\n",
       "      <td>2.000000</td>\n",
       "      <td>29.000000</td>\n",
       "      <td>0.000000</td>\n",
       "      <td>1463.000000</td>\n",
       "      <td>0.728500</td>\n",
       "      <td>1.199500</td>\n",
       "    </tr>\n",
       "    <tr>\n",
       "      <th>75%</th>\n",
       "      <td>1.000000</td>\n",
       "      <td>2.000000</td>\n",
       "      <td>846.000000</td>\n",
       "      <td>1.000000</td>\n",
       "      <td>82.000000</td>\n",
       "      <td>16.000000</td>\n",
       "      <td>3.000000</td>\n",
       "      <td>30.000000</td>\n",
       "      <td>0.500000</td>\n",
       "      <td>1590.000000</td>\n",
       "      <td>0.756000</td>\n",
       "      <td>1.297000</td>\n",
       "    </tr>\n",
       "    <tr>\n",
       "      <th>max</th>\n",
       "      <td>2.000000</td>\n",
       "      <td>5.000000</td>\n",
       "      <td>2639.000000</td>\n",
       "      <td>1.000000</td>\n",
       "      <td>98.000000</td>\n",
       "      <td>23.000000</td>\n",
       "      <td>5.000000</td>\n",
       "      <td>30.000000</td>\n",
       "      <td>2.000000</td>\n",
       "      <td>2004.000000</td>\n",
       "      <td>0.837000</td>\n",
       "      <td>1.587000</td>\n",
       "    </tr>\n",
       "  </tbody>\n",
       "</table>\n",
       "</div>"
      ],
      "text/plain": [
       "          Dementia        Visit     MR Delay       Gender          Age  \\\n",
       "count  1210.000000  1210.000000  1210.000000  1210.000000  1210.000000   \n",
       "mean      0.623967     1.906612   575.995868     0.568595    77.171901   \n",
       "std       0.691377     0.951446   612.799266     0.495477     7.706369   \n",
       "min       0.000000     1.000000     0.000000     0.000000    60.000000   \n",
       "25%       0.000000     1.000000     0.000000     0.000000    71.000000   \n",
       "50%       1.000000     2.000000   552.000000     1.000000    77.000000   \n",
       "75%       1.000000     2.000000   846.000000     1.000000    82.000000   \n",
       "max       2.000000     5.000000  2639.000000     1.000000    98.000000   \n",
       "\n",
       "              EDUC          SES         MMSE          CDR         eTIV  \\\n",
       "count  1210.000000  1210.000000  1210.000000  1210.000000  1210.000000   \n",
       "mean     14.591736     2.440496    27.277409     0.292975  1483.016529   \n",
       "std       2.929601     1.113945     3.781605     0.372093   173.623543   \n",
       "min       6.000000     1.000000     4.000000     0.000000  1106.000000   \n",
       "25%      12.000000     2.000000    27.000000     0.000000  1353.250000   \n",
       "50%      15.000000     2.000000    29.000000     0.000000  1463.000000   \n",
       "75%      16.000000     3.000000    30.000000     0.500000  1590.000000   \n",
       "max      23.000000     5.000000    30.000000     2.000000  2004.000000   \n",
       "\n",
       "              nWBV          ASF  \n",
       "count  1210.000000  1210.000000  \n",
       "mean      0.729582     1.199258  \n",
       "std       0.037150     0.136936  \n",
       "min       0.644000     0.876000  \n",
       "25%       0.700250     1.104000  \n",
       "50%       0.728500     1.199500  \n",
       "75%       0.756000     1.297000  \n",
       "max       0.837000     1.587000  "
      ]
     },
     "execution_count": 31,
     "metadata": {},
     "output_type": "execute_result"
    }
   ],
   "source": [
    "dataset.describe()"
   ]
  },
  {
   "cell_type": "code",
   "execution_count": 32,
   "metadata": {
    "execution": {
     "iopub.execute_input": "2023-01-14T16:04:41.815598Z",
     "iopub.status.busy": "2023-01-14T16:04:41.815136Z",
     "iopub.status.idle": "2023-01-14T16:04:41.826145Z",
     "shell.execute_reply": "2023-01-14T16:04:41.824979Z",
     "shell.execute_reply.started": "2023-01-14T16:04:41.815558Z"
    }
   },
   "outputs": [],
   "source": [
    "X_train, y_train = dataset.drop ('Dementia', axis=1).values , dataset.Dementia.values"
   ]
  },
  {
   "cell_type": "code",
   "execution_count": 33,
   "metadata": {},
   "outputs": [],
   "source": [
    "X_test,y_test = my_data_test.drop ('Dementia', axis=1).values , my_data_test.Dementia.values"
   ]
  },
  {
   "cell_type": "code",
   "execution_count": 34,
   "metadata": {},
   "outputs": [
    {
     "data": {
      "text/plain": [
       "((1210, 11), (373, 11))"
      ]
     },
     "execution_count": 34,
     "metadata": {},
     "output_type": "execute_result"
    }
   ],
   "source": [
    "X_train.shape,X_test.shape"
   ]
  },
  {
   "cell_type": "code",
   "execution_count": 35,
   "metadata": {
    "execution": {
     "iopub.execute_input": "2023-01-14T16:04:47.198628Z",
     "iopub.status.busy": "2023-01-14T16:04:47.198163Z",
     "iopub.status.idle": "2023-01-14T16:04:47.63336Z",
     "shell.execute_reply": "2023-01-14T16:04:47.631667Z",
     "shell.execute_reply.started": "2023-01-14T16:04:47.198589Z"
    }
   },
   "outputs": [
    {
     "name": "stdout",
     "output_type": "stream",
     "text": [
      "Number of observations in the target variable before oversampling of the minority class: [602 461 147]\n",
      "\n",
      "Number of observations in the target variable after oversampling of the minority class: [602 602 602]\n"
     ]
    }
   ],
   "source": [
    "import numpy as np\n",
    "from imblearn.over_sampling import SMOTE\n",
    "\n",
    "print ('Number of observations in the target variable before oversampling of the minority class:', np.bincount (y_train) )\n",
    "\n",
    "smt = SMOTE ()\n",
    "X_train, y_train = smt.fit_resample (X_train, y_train)\n",
    "\n",
    "print ('\\nNumber of observations in the target variable after oversampling of the minority class:', np.bincount (y_train) )"
   ]
  },
  {
   "cell_type": "code",
   "execution_count": 36,
   "metadata": {
    "execution": {
     "iopub.execute_input": "2023-01-14T16:05:15.885286Z",
     "iopub.status.busy": "2023-01-14T16:05:15.884855Z",
     "iopub.status.idle": "2023-01-14T16:05:15.893314Z",
     "shell.execute_reply": "2023-01-14T16:05:15.891895Z",
     "shell.execute_reply.started": "2023-01-14T16:05:15.885244Z"
    }
   },
   "outputs": [],
   "source": [
    "from sklearn.preprocessing import StandardScaler\n",
    "\n",
    "std_scaler = StandardScaler()\n",
    "X_train_std = std_scaler.fit_transform ( X_train )\n",
    "X_test_std = std_scaler.transform ( X_test )"
   ]
  },
  {
   "cell_type": "code",
   "execution_count": 37,
   "metadata": {},
   "outputs": [],
   "source": [
    "from xgboost import XGBClassifier"
   ]
  },
  {
   "cell_type": "code",
   "execution_count": 38,
   "metadata": {},
   "outputs": [
    {
     "data": {
      "text/plain": [
       "XGBClassifier(base_score=None, booster=None, callbacks=None,\n",
       "              colsample_bylevel=None, colsample_bynode=None,\n",
       "              colsample_bytree=None, early_stopping_rounds=None,\n",
       "              enable_categorical=False, eval_metric=None, feature_types=None,\n",
       "              gamma=None, gpu_id=None, grow_policy=None, importance_type=None,\n",
       "              interaction_constraints=None, learning_rate=None, max_bin=None,\n",
       "              max_cat_threshold=None, max_cat_to_onehot=None,\n",
       "              max_delta_step=None, max_depth=None, max_leaves=None,\n",
       "              min_child_weight=None, missing=nan, monotone_constraints=None,\n",
       "              n_estimators=100, n_jobs=None, num_parallel_tree=None,\n",
       "              objective='multi:softprob', predictor=None, ...)"
      ]
     },
     "execution_count": 38,
     "metadata": {},
     "output_type": "execute_result"
    }
   ],
   "source": [
    "params = {\n",
    "        'min_child_weight': [1, 5, 10],\n",
    "        'gamma': [0.5, 1, 1.5, 2, 5],\n",
    "        'subsample': [0.6, 0.8, 1.0],\n",
    "        'colsample_bytree': [0.6, 0.8, 1.0],\n",
    "        'max_depth': [1,2,3,4,5]\n",
    "        }\n",
    "\n",
    "clf_xgb = XGBClassifier(random_state=0)\n",
    "clf_xgb.fit(X_train_std, y_train.ravel())"
   ]
  },
  {
   "cell_type": "code",
   "execution_count": 39,
   "metadata": {},
   "outputs": [],
   "source": [
    "from sklearn import metrics\n",
    "def plot_confusion_metrix(y_test,model_test):\n",
    "    cm = metrics.confusion_matrix(y_test, model_test)\n",
    "    plt.figure(1)\n",
    "    plt.clf()\n",
    "    plt.imshow(cm, interpolation='nearest', cmap=plt.cm.Wistia)\n",
    "    classNames = ['Nondemented','Demented','Converted']\n",
    "    plt.title('Confusion Matrix')\n",
    "    plt.ylabel('True label')\n",
    "    plt.xlabel('Predicted label')\n",
    "    tick_marks = np.arange(len(classNames))\n",
    "    plt.xticks(tick_marks, classNames)\n",
    "    plt.yticks(tick_marks, classNames)\n",
    "    s = [['TN','FP',' FP'], ['FN', 'TP','FN'],['FN','FP','TN']]\n",
    "    for i in range(3):\n",
    "        for j in range(3):\n",
    "            plt.text(j,i, str(s[i][j])+\" = \"+str(cm[i][j]))\n",
    "    plt.show()"
   ]
  },
  {
   "cell_type": "code",
   "execution_count": 40,
   "metadata": {},
   "outputs": [],
   "source": [
    "from sklearn.metrics import roc_curve, auc\n",
    "def report_performance(model):\n",
    "\n",
    "    model_test = model.predict(X_test_std)\n",
    "\n",
    "    print(\"\\n\\nConfusion Matrix:\")\n",
    "    print(\"{0}\".format(metrics.confusion_matrix(y_test, model_test)))\n",
    "    print(\"\\n\\nClassification Report: \")\n",
    "    print(metrics.classification_report(y_test, model_test))\n",
    "    cm = metrics.confusion_matrix(y_test, model_test)\n",
    "    plot_confusion_metrix(y_test, model_test)"
   ]
  },
  {
   "cell_type": "code",
   "execution_count": 41,
   "metadata": {},
   "outputs": [],
   "source": [
    "total_accuracy = {}\n",
    "def accuracy(model):\n",
    "    pred = model.predict(X_test_std)\n",
    "    accu = metrics.accuracy_score(y_test,pred)\n",
    "    print(\"\\nAcuuracy Of the Model: \",accu,\"\\n\\n\")\n",
    "    total_accuracy[str((str(model).split('(')[0]))] = accu"
   ]
  },
  {
   "cell_type": "code",
   "execution_count": 42,
   "metadata": {},
   "outputs": [
    {
     "name": "stdout",
     "output_type": "stream",
     "text": [
      "\n",
      "\n",
      "Confusion Matrix:\n",
      "[[190   0   0]\n",
      " [  0 146   0]\n",
      " [  0   0  37]]\n",
      "\n",
      "\n",
      "Classification Report: \n",
      "              precision    recall  f1-score   support\n",
      "\n",
      "           0       1.00      1.00      1.00       190\n",
      "           1       1.00      1.00      1.00       146\n",
      "           2       1.00      1.00      1.00        37\n",
      "\n",
      "    accuracy                           1.00       373\n",
      "   macro avg       1.00      1.00      1.00       373\n",
      "weighted avg       1.00      1.00      1.00       373\n",
      "\n"
     ]
    },
    {
     "data": {
      "image/png": "[encoded data removed]",
      "text/plain": [
       "<Figure size 432x288 with 1 Axes>"
      ]
     },
     "metadata": {
      "needs_background": "light"
     },
     "output_type": "display_data"
    },
    {
     "name": "stdout",
     "output_type": "stream",
     "text": [
      "\n",
      "Acuuracy Of the Model:  1.0 \n",
      "\n",
      "\n"
     ]
    }
   ],
   "source": [
    "report_performance(clf_xgb) \n",
    "accuracy(clf_xgb)"
   ]
  },
  {
   "cell_type": "code",
   "execution_count": 43,
   "metadata": {},
   "outputs": [],
   "source": [
    "import pickle\n",
    "pickle.dump(clf_xgb, open('xgb.sav', 'wb'))"
   ]
  },
  {
   "cell_type": "code",
   "execution_count": 44,
   "metadata": {},
   "outputs": [],
   "source": [
    "model = pickle.load(open('xgb.sav', 'rb'))"
   ]
  },
  {
   "cell_type": "code",
   "execution_count": 45,
   "metadata": {},
   "outputs": [],
   "source": [
    "test_data=[[1,0,0,87,14,2.0,27.0,0.0,1987,0.696,0.883]]\n",
    "test_data1=[[1,0,0,75,12,2.0,23.0,0.5,1678,0.736,1.046]]\n",
    "test_data2=[[4,1933,1,92,14,1.0,27.0,0.5,1423,0.696,1.234]]"
   ]
  },
  {
   "cell_type": "code",
   "execution_count": 46,
   "metadata": {},
   "outputs": [],
   "source": [
    "test_data=np.array(test_data)\n",
    "test_data1=np.array(test_data1)\n",
    "test_data2=np.array(test_data2)"
   ]
  },
  {
   "cell_type": "code",
   "execution_count": 47,
   "metadata": {},
   "outputs": [],
   "source": [
    "test_data=std_scaler.transform (test_data)\n",
    "test_data1=std_scaler.transform (test_data1)\n",
    "test_data2=std_scaler.transform (test_data2)"
   ]
  },
  {
   "cell_type": "code",
   "execution_count": 48,
   "metadata": {},
   "outputs": [
    {
     "name": "stdout",
     "output_type": "stream",
     "text": [
      "Nondemented\n"
     ]
    }
   ],
   "source": [
    "pred=model.predict(test_data)\n",
    "if pred[0]==0:\n",
    "    print('Nondemented')\n",
    "elif pred[0]==1:\n",
    "    print('Demented')\n",
    "else:\n",
    "    print('Converted')\n"
   ]
  },
  {
   "cell_type": "code",
   "execution_count": 49,
   "metadata": {},
   "outputs": [
    {
     "name": "stdout",
     "output_type": "stream",
     "text": [
      "Demented\n"
     ]
    }
   ],
   "source": [
    "pred=model.predict(test_data1)\n",
    "if pred[0]==0:\n",
    "    print('Nondemented')\n",
    "elif pred[0]==1:\n",
    "    print('Demented')\n",
    "else:\n",
    "    print('Converted')\n"
   ]
  },
  {
   "cell_type": "code",
   "execution_count": 50,
   "metadata": {},
   "outputs": [
    {
     "name": "stdout",
     "output_type": "stream",
     "text": [
      "Converted\n"
     ]
    }
   ],
   "source": [
    "pred=model.predict(test_data2)\n",
    "if pred[0]==0:\n",
    "    print('Nondemented')\n",
    "elif pred[0]==1:\n",
    "    print('Demented')\n",
    "else:\n",
    "    print('Converted')"
   ]
  },
  {
   "cell_type": "code",
   "execution_count": 51,
   "metadata": {},
   "outputs": [
    {
     "data": {
      "text/plain": [
       "<catboost.core.CatBoostClassifier at 0x182627f4d60>"
      ]
     },
     "execution_count": 51,
     "metadata": {},
     "output_type": "execute_result"
    }
   ],
   "source": [
    "from catboost import CatBoostClassifier\n",
    "cat_classifier = CatBoostClassifier(iterations=1000, verbose = 0)\n",
    "cat_classifier.fit(X_train_std, y_train.ravel())"
   ]
  },
  {
   "cell_type": "code",
   "execution_count": 52,
   "metadata": {},
   "outputs": [
    {
     "name": "stdout",
     "output_type": "stream",
     "text": [
      "\n",
      "\n",
      "Confusion Matrix:\n",
      "[[190   0   0]\n",
      " [  0 146   0]\n",
      " [  0   0  37]]\n",
      "\n",
      "\n",
      "Classification Report: \n",
      "              precision    recall  f1-score   support\n",
      "\n",
      "           0       1.00      1.00      1.00       190\n",
      "           1       1.00      1.00      1.00       146\n",
      "           2       1.00      1.00      1.00        37\n",
      "\n",
      "    accuracy                           1.00       373\n",
      "   macro avg       1.00      1.00      1.00       373\n",
      "weighted avg       1.00      1.00      1.00       373\n",
      "\n"
     ]
    },
    {
     "data": {
      "image/png": "[encoded data removed]",
      "text/plain": [
       "<Figure size 432x288 with 1 Axes>"
      ]
     },
     "metadata": {
      "needs_background": "light"
     },
     "output_type": "display_data"
    },
    {
     "name": "stdout",
     "output_type": "stream",
     "text": [
      "\n",
      "Acuuracy Of the Model:  1.0 \n",
      "\n",
      "\n"
     ]
    }
   ],
   "source": [
    "report_performance(cat_classifier) \n",
    "accuracy(cat_classifier)"
   ]
  },
  {
   "cell_type": "code",
   "execution_count": 53,
   "metadata": {},
   "outputs": [],
   "source": [
    "import pickle\n",
    "pickle.dump(cat_classifier, open('catboost.sav', 'wb'))"
   ]
  },
  {
   "cell_type": "code",
   "execution_count": 54,
   "metadata": {},
   "outputs": [],
   "source": [
    "model1 = pickle.load(open('catboost.sav', 'rb'))"
   ]
  },
  {
   "cell_type": "code",
   "execution_count": 55,
   "metadata": {},
   "outputs": [
    {
     "name": "stdout",
     "output_type": "stream",
     "text": [
      "Nondemented\n"
     ]
    }
   ],
   "source": [
    "pred=model1.predict(test_data)\n",
    "if pred[0]==0:\n",
    "    print('Nondemented')\n",
    "elif pred[0]==1:\n",
    "    print('Demented')\n",
    "else:\n",
    "    print('Converted')"
   ]
  },
  {
   "cell_type": "code",
   "execution_count": 56,
   "metadata": {},
   "outputs": [
    {
     "name": "stdout",
     "output_type": "stream",
     "text": [
      "Demented\n"
     ]
    }
   ],
   "source": [
    "pred=model1.predict(test_data1)\n",
    "if pred[0]==0:\n",
    "    print('Nondemented')\n",
    "elif pred[0]==1:\n",
    "    print('Demented')\n",
    "else:\n",
    "    print('Converted')"
   ]
  },
  {
   "cell_type": "code",
   "execution_count": 57,
   "metadata": {},
   "outputs": [
    {
     "name": "stdout",
     "output_type": "stream",
     "text": [
      "Converted\n"
     ]
    }
   ],
   "source": [
    "pred=model1.predict(test_data2)\n",
    "if pred[0]==0:\n",
    "    print('Nondemented')\n",
    "elif pred[0]==1:\n",
    "    print('Demented')\n",
    "else:\n",
    "    print('Converted')"
   ]
  },
  {
   "cell_type": "code",
   "execution_count": 58,
   "metadata": {},
   "outputs": [],
   "source": [
    "import pytorch_tabnet\n",
    "from pytorch_tabnet.tab_model import TabNetClassifier\n",
    "import torch"
   ]
  },
  {
   "cell_type": "code",
   "execution_count": 59,
   "metadata": {},
   "outputs": [
    {
     "name": "stdout",
     "output_type": "stream",
     "text": [
      "epoch 0  | loss: 1.23992 | train_accuracy: 0.38483 | valid_accuracy: 0.59786 |  0:00:00s\n",
      "epoch 1  | loss: 1.06751 | train_accuracy: 0.43079 | valid_accuracy: 0.64343 |  0:00:01s\n",
      "epoch 2  | loss: 1.06462 | train_accuracy: 0.45847 | valid_accuracy: 0.62198 |  0:00:02s\n",
      "epoch 3  | loss: 1.02315 | train_accuracy: 0.48228 | valid_accuracy: 0.6193  |  0:00:02s\n",
      "epoch 4  | loss: 1.01706 | train_accuracy: 0.49779 | valid_accuracy: 0.63003 |  0:00:03s\n",
      "epoch 5  | loss: 1.00719 | train_accuracy: 0.51218 | valid_accuracy: 0.67024 |  0:00:04s\n",
      "epoch 6  | loss: 0.97291 | train_accuracy: 0.54596 | valid_accuracy: 0.76944 |  0:00:04s\n",
      "epoch 7  | loss: 0.96386 | train_accuracy: 0.5454  | valid_accuracy: 0.74263 |  0:00:05s\n",
      "epoch 8  | loss: 0.958   | train_accuracy: 0.55371 | valid_accuracy: 0.7185  |  0:00:05s\n",
      "epoch 9  | loss: 0.93984 | train_accuracy: 0.57697 | valid_accuracy: 0.71046 |  0:00:06s\n",
      "epoch 10 | loss: 0.92083 | train_accuracy: 0.5742  | valid_accuracy: 0.7319  |  0:00:07s\n",
      "epoch 11 | loss: 0.94582 | train_accuracy: 0.5969  | valid_accuracy: 0.78016 |  0:00:07s\n",
      "epoch 12 | loss: 0.91526 | train_accuracy: 0.58583 | valid_accuracy: 0.76944 |  0:00:08s\n",
      "epoch 13 | loss: 0.89701 | train_accuracy: 0.58583 | valid_accuracy: 0.77748 |  0:00:08s\n",
      "epoch 14 | loss: 0.89505 | train_accuracy: 0.59579 | valid_accuracy: 0.7748  |  0:00:09s\n",
      "epoch 15 | loss: 0.90721 | train_accuracy: 0.59856 | valid_accuracy: 0.81769 |  0:00:10s\n",
      "epoch 16 | loss: 0.89109 | train_accuracy: 0.59524 | valid_accuracy: 0.81501 |  0:00:10s\n",
      "epoch 17 | loss: 0.86956 | train_accuracy: 0.6196  | valid_accuracy: 0.81769 |  0:00:11s\n",
      "epoch 18 | loss: 0.87065 | train_accuracy: 0.62846 | valid_accuracy: 0.82038 |  0:00:12s\n",
      "epoch 19 | loss: 0.8277  | train_accuracy: 0.6113  | valid_accuracy: 0.82306 |  0:00:12s\n",
      "epoch 20 | loss: 0.85543 | train_accuracy: 0.63677 | valid_accuracy: 0.83378 |  0:00:13s\n",
      "epoch 21 | loss: 0.80178 | train_accuracy: 0.64009 | valid_accuracy: 0.7882  |  0:00:13s\n",
      "epoch 22 | loss: 0.83142 | train_accuracy: 0.64009 | valid_accuracy: 0.84987 |  0:00:14s\n",
      "epoch 23 | loss: 0.81141 | train_accuracy: 0.65338 | valid_accuracy: 0.81769 |  0:00:15s\n",
      "epoch 24 | loss: 0.83447 | train_accuracy: 0.63068 | valid_accuracy: 0.79625 |  0:00:15s\n",
      "epoch 25 | loss: 0.81574 | train_accuracy: 0.64895 | valid_accuracy: 0.83378 |  0:00:16s\n",
      "epoch 26 | loss: 0.78192 | train_accuracy: 0.66224 | valid_accuracy: 0.86327 |  0:00:17s\n",
      "epoch 27 | loss: 0.75944 | train_accuracy: 0.65006 | valid_accuracy: 0.84987 |  0:00:17s\n",
      "epoch 28 | loss: 0.78183 | train_accuracy: 0.64839 | valid_accuracy: 0.85255 |  0:00:18s\n",
      "epoch 29 | loss: 0.78314 | train_accuracy: 0.66667 | valid_accuracy: 0.85255 |  0:00:19s\n",
      "epoch 30 | loss: 0.79496 | train_accuracy: 0.67885 | valid_accuracy: 0.83646 |  0:00:19s\n",
      "epoch 31 | loss: 0.79753 | train_accuracy: 0.68051 | valid_accuracy: 0.86327 |  0:00:20s\n",
      "epoch 32 | loss: 0.73642 | train_accuracy: 0.68272 | valid_accuracy: 0.88204 |  0:00:20s\n",
      "epoch 33 | loss: 0.7722  | train_accuracy: 0.68992 | valid_accuracy: 0.83914 |  0:00:21s\n",
      "epoch 34 | loss: 0.77886 | train_accuracy: 0.66279 | valid_accuracy: 0.84182 |  0:00:22s\n",
      "epoch 35 | loss: 0.75139 | train_accuracy: 0.68771 | valid_accuracy: 0.87668 |  0:00:22s\n",
      "epoch 36 | loss: 0.75398 | train_accuracy: 0.67331 | valid_accuracy: 0.89544 |  0:00:23s\n",
      "epoch 37 | loss: 0.73121 | train_accuracy: 0.69712 | valid_accuracy: 0.87399 |  0:00:24s\n",
      "epoch 38 | loss: 0.73871 | train_accuracy: 0.69214 | valid_accuracy: 0.87936 |  0:00:24s\n",
      "epoch 39 | loss: 0.72878 | train_accuracy: 0.68605 | valid_accuracy: 0.86059 |  0:00:25s\n",
      "epoch 40 | loss: 0.7563  | train_accuracy: 0.69214 | valid_accuracy: 0.8874  |  0:00:26s\n",
      "epoch 41 | loss: 0.71609 | train_accuracy: 0.69214 | valid_accuracy: 0.86863 |  0:00:26s\n",
      "epoch 42 | loss: 0.72243 | train_accuracy: 0.70709 | valid_accuracy: 0.83646 |  0:00:27s\n",
      "epoch 43 | loss: 0.69795 | train_accuracy: 0.71705 | valid_accuracy: 0.86595 |  0:00:28s\n",
      "epoch 44 | loss: 0.70298 | train_accuracy: 0.72259 | valid_accuracy: 0.84987 |  0:00:28s\n",
      "epoch 45 | loss: 0.71106 | train_accuracy: 0.71927 | valid_accuracy: 0.82574 |  0:00:29s\n",
      "epoch 46 | loss: 0.69215 | train_accuracy: 0.71927 | valid_accuracy: 0.85523 |  0:00:30s\n",
      "epoch 47 | loss: 0.67732 | train_accuracy: 0.71207 | valid_accuracy: 0.8445  |  0:00:30s\n",
      "epoch 48 | loss: 0.69451 | train_accuracy: 0.71262 | valid_accuracy: 0.85523 |  0:00:31s\n",
      "epoch 49 | loss: 0.68477 | train_accuracy: 0.70875 | valid_accuracy: 0.81233 |  0:00:32s\n",
      "epoch 50 | loss: 0.7011  | train_accuracy: 0.72924 | valid_accuracy: 0.84718 |  0:00:32s\n",
      "epoch 51 | loss: 0.68208 | train_accuracy: 0.72425 | valid_accuracy: 0.82574 |  0:00:33s\n",
      "epoch 52 | loss: 0.67809 | train_accuracy: 0.71373 | valid_accuracy: 0.86595 |  0:00:33s\n",
      "epoch 53 | loss: 0.68297 | train_accuracy: 0.72868 | valid_accuracy: 0.86595 |  0:00:34s\n",
      "epoch 54 | loss: 0.67688 | train_accuracy: 0.73699 | valid_accuracy: 0.83914 |  0:00:35s\n",
      "epoch 55 | loss: 0.65483 | train_accuracy: 0.74363 | valid_accuracy: 0.83914 |  0:00:35s\n",
      "epoch 56 | loss: 0.63208 | train_accuracy: 0.74972 | valid_accuracy: 0.88204 |  0:00:36s\n",
      "epoch 57 | loss: 0.64503 | train_accuracy: 0.74197 | valid_accuracy: 0.87936 |  0:00:37s\n",
      "epoch 58 | loss: 0.64604 | train_accuracy: 0.74142 | valid_accuracy: 0.86595 |  0:00:37s\n",
      "epoch 59 | loss: 0.61043 | train_accuracy: 0.75526 | valid_accuracy: 0.88472 |  0:00:38s\n",
      "epoch 60 | loss: 0.60632 | train_accuracy: 0.75138 | valid_accuracy: 0.88472 |  0:00:39s\n",
      "epoch 61 | loss: 0.64315 | train_accuracy: 0.75748 | valid_accuracy: 0.86327 |  0:00:39s\n",
      "epoch 62 | loss: 0.62367 | train_accuracy: 0.73145 | valid_accuracy: 0.81233 |  0:00:40s\n",
      "epoch 63 | loss: 0.64329 | train_accuracy: 0.74474 | valid_accuracy: 0.82842 |  0:00:41s\n",
      "epoch 64 | loss: 0.61486 | train_accuracy: 0.7536  | valid_accuracy: 0.84182 |  0:00:41s\n",
      "epoch 65 | loss: 0.60649 | train_accuracy: 0.75692 | valid_accuracy: 0.83378 |  0:00:42s\n",
      "epoch 66 | loss: 0.60838 | train_accuracy: 0.75914 | valid_accuracy: 0.8445  |  0:00:42s\n",
      "epoch 67 | loss: 0.6234  | train_accuracy: 0.76689 | valid_accuracy: 0.90617 |  0:00:43s\n",
      "epoch 68 | loss: 0.63007 | train_accuracy: 0.7608  | valid_accuracy: 0.88204 |  0:00:44s\n",
      "epoch 69 | loss: 0.63497 | train_accuracy: 0.76246 | valid_accuracy: 0.84182 |  0:00:44s\n",
      "epoch 70 | loss: 0.62506 | train_accuracy: 0.75969 | valid_accuracy: 0.85255 |  0:00:45s\n",
      "epoch 71 | loss: 0.60309 | train_accuracy: 0.75581 | valid_accuracy: 0.85791 |  0:00:46s\n",
      "epoch 72 | loss: 0.57971 | train_accuracy: 0.768   | valid_accuracy: 0.89008 |  0:00:46s\n",
      "epoch 73 | loss: 0.58207 | train_accuracy: 0.76135 | valid_accuracy: 0.88204 |  0:00:47s\n",
      "epoch 74 | loss: 0.6071  | train_accuracy: 0.77021 | valid_accuracy: 0.85791 |  0:00:48s\n",
      "epoch 75 | loss: 0.58232 | train_accuracy: 0.77519 | valid_accuracy: 0.88472 |  0:00:48s\n",
      "epoch 76 | loss: 0.57798 | train_accuracy: 0.76246 | valid_accuracy: 0.88204 |  0:00:49s\n",
      "epoch 77 | loss: 0.5848  | train_accuracy: 0.76855 | valid_accuracy: 0.85523 |  0:00:49s\n",
      "epoch 78 | loss: 0.57594 | train_accuracy: 0.77243 | valid_accuracy: 0.88204 |  0:00:50s\n",
      "epoch 79 | loss: 0.57772 | train_accuracy: 0.77409 | valid_accuracy: 0.89544 |  0:00:51s\n",
      "epoch 80 | loss: 0.5739  | train_accuracy: 0.78128 | valid_accuracy: 0.89276 |  0:00:51s\n",
      "epoch 81 | loss: 0.58809 | train_accuracy: 0.78904 | valid_accuracy: 0.88204 |  0:00:52s\n",
      "epoch 82 | loss: 0.58813 | train_accuracy: 0.7907  | valid_accuracy: 0.88204 |  0:00:52s\n",
      "epoch 83 | loss: 0.55654 | train_accuracy: 0.78184 | valid_accuracy: 0.86595 |  0:00:53s\n",
      "epoch 84 | loss: 0.54582 | train_accuracy: 0.78793 | valid_accuracy: 0.87399 |  0:00:54s\n",
      "epoch 85 | loss: 0.52646 | train_accuracy: 0.78904 | valid_accuracy: 0.9008  |  0:00:54s\n",
      "epoch 86 | loss: 0.54584 | train_accuracy: 0.79457 | valid_accuracy: 0.89008 |  0:00:55s\n",
      "epoch 87 | loss: 0.56313 | train_accuracy: 0.79734 | valid_accuracy: 0.89544 |  0:00:55s\n",
      "epoch 88 | loss: 0.54608 | train_accuracy: 0.7907  | valid_accuracy: 0.86059 |  0:00:56s\n",
      "epoch 89 | loss: 0.56955 | train_accuracy: 0.79125 | valid_accuracy: 0.89276 |  0:00:57s\n",
      "epoch 90 | loss: 0.55408 | train_accuracy: 0.80288 | valid_accuracy: 0.89544 |  0:00:57s\n",
      "epoch 91 | loss: 0.5701  | train_accuracy: 0.80011 | valid_accuracy: 0.87131 |  0:00:58s\n",
      "epoch 92 | loss: 0.56528 | train_accuracy: 0.79679 | valid_accuracy: 0.87131 |  0:00:59s\n"
     ]
    },
    {
     "name": "stdout",
     "output_type": "stream",
     "text": [
      "epoch 93 | loss: 0.54975 | train_accuracy: 0.79956 | valid_accuracy: 0.88472 |  0:00:59s\n",
      "epoch 94 | loss: 0.54    | train_accuracy: 0.81285 | valid_accuracy: 0.91421 |  0:01:00s\n",
      "epoch 95 | loss: 0.5415  | train_accuracy: 0.80897 | valid_accuracy: 0.88204 |  0:01:00s\n",
      "epoch 96 | loss: 0.5204  | train_accuracy: 0.80565 | valid_accuracy: 0.87936 |  0:01:01s\n",
      "epoch 97 | loss: 0.52012 | train_accuracy: 0.81285 | valid_accuracy: 0.89544 |  0:01:02s\n",
      "epoch 98 | loss: 0.53132 | train_accuracy: 0.81008 | valid_accuracy: 0.90885 |  0:01:02s\n",
      "epoch 99 | loss: 0.52416 | train_accuracy: 0.81728 | valid_accuracy: 0.90349 |  0:01:03s\n",
      "epoch 100| loss: 0.53476 | train_accuracy: 0.81894 | valid_accuracy: 0.90617 |  0:01:03s\n",
      "epoch 101| loss: 0.50832 | train_accuracy: 0.81672 | valid_accuracy: 0.90617 |  0:01:04s\n",
      "epoch 102| loss: 0.5105  | train_accuracy: 0.81229 | valid_accuracy: 0.8874  |  0:01:05s\n",
      "epoch 103| loss: 0.50642 | train_accuracy: 0.81008 | valid_accuracy: 0.88204 |  0:01:05s\n",
      "epoch 104| loss: 0.5177  | train_accuracy: 0.81838 | valid_accuracy: 0.88472 |  0:01:06s\n",
      "epoch 105| loss: 0.49655 | train_accuracy: 0.81783 | valid_accuracy: 0.88472 |  0:01:07s\n",
      "epoch 106| loss: 0.52799 | train_accuracy: 0.82226 | valid_accuracy: 0.89008 |  0:01:07s\n",
      "epoch 107| loss: 0.50584 | train_accuracy: 0.81451 | valid_accuracy: 0.88472 |  0:01:08s\n",
      "epoch 108| loss: 0.50311 | train_accuracy: 0.8289  | valid_accuracy: 0.91421 |  0:01:09s\n",
      "epoch 109| loss: 0.51419 | train_accuracy: 0.82614 | valid_accuracy: 0.88204 |  0:01:09s\n",
      "epoch 110| loss: 0.48116 | train_accuracy: 0.8289  | valid_accuracy: 0.9008  |  0:01:10s\n",
      "epoch 111| loss: 0.50257 | train_accuracy: 0.83389 | valid_accuracy: 0.92225 |  0:01:11s\n",
      "epoch 112| loss: 0.48078 | train_accuracy: 0.82558 | valid_accuracy: 0.92225 |  0:01:11s\n",
      "epoch 113| loss: 0.48712 | train_accuracy: 0.8289  | valid_accuracy: 0.93298 |  0:01:12s\n",
      "epoch 114| loss: 0.48332 | train_accuracy: 0.82946 | valid_accuracy: 0.93566 |  0:01:13s\n",
      "epoch 115| loss: 0.4791  | train_accuracy: 0.83666 | valid_accuracy: 0.93029 |  0:01:13s\n",
      "epoch 116| loss: 0.47609 | train_accuracy: 0.83278 | valid_accuracy: 0.90349 |  0:01:14s\n",
      "epoch 117| loss: 0.49906 | train_accuracy: 0.8433  | valid_accuracy: 0.91153 |  0:01:15s\n",
      "epoch 118| loss: 0.46746 | train_accuracy: 0.84607 | valid_accuracy: 0.93029 |  0:01:15s\n",
      "epoch 119| loss: 0.48836 | train_accuracy: 0.83887 | valid_accuracy: 0.91421 |  0:01:16s\n",
      "epoch 120| loss: 0.47188 | train_accuracy: 0.83499 | valid_accuracy: 0.89544 |  0:01:17s\n",
      "epoch 121| loss: 0.47725 | train_accuracy: 0.84385 | valid_accuracy: 0.89544 |  0:01:17s\n",
      "epoch 122| loss: 0.46008 | train_accuracy: 0.84773 | valid_accuracy: 0.91153 |  0:01:18s\n",
      "epoch 123| loss: 0.46282 | train_accuracy: 0.85437 | valid_accuracy: 0.93298 |  0:01:19s\n",
      "epoch 124| loss: 0.46038 | train_accuracy: 0.85437 | valid_accuracy: 0.92761 |  0:01:19s\n",
      "epoch 125| loss: 0.49936 | train_accuracy: 0.8433  | valid_accuracy: 0.89544 |  0:01:20s\n",
      "epoch 126| loss: 0.48345 | train_accuracy: 0.84828 | valid_accuracy: 0.89544 |  0:01:20s\n",
      "epoch 127| loss: 0.45928 | train_accuracy: 0.84828 | valid_accuracy: 0.91153 |  0:01:21s\n",
      "epoch 128| loss: 0.44163 | train_accuracy: 0.84164 | valid_accuracy: 0.87668 |  0:01:22s\n",
      "epoch 129| loss: 0.42675 | train_accuracy: 0.8505  | valid_accuracy: 0.90617 |  0:01:22s\n",
      "epoch 130| loss: 0.42997 | train_accuracy: 0.84994 | valid_accuracy: 0.90617 |  0:01:23s\n",
      "epoch 131| loss: 0.43026 | train_accuracy: 0.85216 | valid_accuracy: 0.90349 |  0:01:23s\n",
      "epoch 132| loss: 0.46648 | train_accuracy: 0.85437 | valid_accuracy: 0.90617 |  0:01:24s\n",
      "epoch 133| loss: 0.43094 | train_accuracy: 0.85991 | valid_accuracy: 0.91689 |  0:01:25s\n",
      "epoch 134| loss: 0.49332 | train_accuracy: 0.85936 | valid_accuracy: 0.92493 |  0:01:25s\n",
      "epoch 135| loss: 0.44413 | train_accuracy: 0.86102 | valid_accuracy: 0.92493 |  0:01:26s\n",
      "epoch 136| loss: 0.4619  | train_accuracy: 0.86434 | valid_accuracy: 0.91689 |  0:01:27s\n",
      "epoch 137| loss: 0.45415 | train_accuracy: 0.85714 | valid_accuracy: 0.91153 |  0:01:27s\n",
      "epoch 138| loss: 0.44887 | train_accuracy: 0.85216 | valid_accuracy: 0.90349 |  0:01:28s\n",
      "epoch 139| loss: 0.42591 | train_accuracy: 0.85604 | valid_accuracy: 0.89544 |  0:01:28s\n",
      "epoch 140| loss: 0.46481 | train_accuracy: 0.85548 | valid_accuracy: 0.90349 |  0:01:29s\n",
      "epoch 141| loss: 0.4679  | train_accuracy: 0.8577  | valid_accuracy: 0.91421 |  0:01:30s\n",
      "epoch 142| loss: 0.44451 | train_accuracy: 0.85382 | valid_accuracy: 0.91957 |  0:01:30s\n",
      "epoch 143| loss: 0.44585 | train_accuracy: 0.86656 | valid_accuracy: 0.91421 |  0:01:31s\n",
      "epoch 144| loss: 0.4158  | train_accuracy: 0.86988 | valid_accuracy: 0.91689 |  0:01:31s\n",
      "epoch 145| loss: 0.43336 | train_accuracy: 0.8732  | valid_accuracy: 0.92493 |  0:01:32s\n",
      "epoch 146| loss: 0.40958 | train_accuracy: 0.86047 | valid_accuracy: 0.91689 |  0:01:33s\n",
      "epoch 147| loss: 0.45009 | train_accuracy: 0.87265 | valid_accuracy: 0.9437  |  0:01:33s\n",
      "epoch 148| loss: 0.43846 | train_accuracy: 0.88095 | valid_accuracy: 0.93566 |  0:01:34s\n",
      "epoch 149| loss: 0.43024 | train_accuracy: 0.86379 | valid_accuracy: 0.90617 |  0:01:35s\n",
      "epoch 150| loss: 0.43334 | train_accuracy: 0.86434 | valid_accuracy: 0.9008  |  0:01:35s\n",
      "epoch 151| loss: 0.39626 | train_accuracy: 0.85991 | valid_accuracy: 0.89276 |  0:01:36s\n",
      "epoch 152| loss: 0.40683 | train_accuracy: 0.86323 | valid_accuracy: 0.90885 |  0:01:36s\n",
      "epoch 153| loss: 0.42805 | train_accuracy: 0.86822 | valid_accuracy: 0.90617 |  0:01:37s\n",
      "epoch 154| loss: 0.43067 | train_accuracy: 0.86822 | valid_accuracy: 0.92493 |  0:01:38s\n",
      "epoch 155| loss: 0.45849 | train_accuracy: 0.87763 | valid_accuracy: 0.92225 |  0:01:38s\n",
      "epoch 156| loss: 0.42692 | train_accuracy: 0.88427 | valid_accuracy: 0.93029 |  0:01:39s\n",
      "epoch 157| loss: 0.41535 | train_accuracy: 0.87818 | valid_accuracy: 0.91421 |  0:01:40s\n",
      "epoch 158| loss: 0.43278 | train_accuracy: 0.87929 | valid_accuracy: 0.92761 |  0:01:40s\n",
      "epoch 159| loss: 0.38291 | train_accuracy: 0.88206 | valid_accuracy: 0.93029 |  0:01:41s\n",
      "epoch 160| loss: 0.45282 | train_accuracy: 0.88483 | valid_accuracy: 0.92493 |  0:01:42s\n",
      "epoch 161| loss: 0.42779 | train_accuracy: 0.87818 | valid_accuracy: 0.91957 |  0:01:42s\n",
      "epoch 162| loss: 0.41843 | train_accuracy: 0.88317 | valid_accuracy: 0.92225 |  0:01:43s\n",
      "epoch 163| loss: 0.42492 | train_accuracy: 0.87542 | valid_accuracy: 0.91689 |  0:01:44s\n",
      "epoch 164| loss: 0.40032 | train_accuracy: 0.86822 | valid_accuracy: 0.89544 |  0:01:44s\n",
      "epoch 165| loss: 0.4133  | train_accuracy: 0.88261 | valid_accuracy: 0.91421 |  0:01:45s\n",
      "epoch 166| loss: 0.41084 | train_accuracy: 0.88538 | valid_accuracy: 0.92493 |  0:01:45s\n",
      "epoch 167| loss: 0.39835 | train_accuracy: 0.88261 | valid_accuracy: 0.92493 |  0:01:46s\n",
      "epoch 168| loss: 0.38743 | train_accuracy: 0.88095 | valid_accuracy: 0.90885 |  0:01:47s\n",
      "epoch 169| loss: 0.37188 | train_accuracy: 0.87874 | valid_accuracy: 0.92761 |  0:01:48s\n",
      "epoch 170| loss: 0.42227 | train_accuracy: 0.88206 | valid_accuracy: 0.91957 |  0:01:49s\n",
      "epoch 171| loss: 0.40566 | train_accuracy: 0.88095 | valid_accuracy: 0.90885 |  0:01:49s\n",
      "epoch 172| loss: 0.40222 | train_accuracy: 0.88815 | valid_accuracy: 0.91957 |  0:01:50s\n",
      "epoch 173| loss: 0.38712 | train_accuracy: 0.88649 | valid_accuracy: 0.92225 |  0:01:51s\n",
      "epoch 174| loss: 0.35628 | train_accuracy: 0.88317 | valid_accuracy: 0.91421 |  0:01:52s\n",
      "epoch 175| loss: 0.39286 | train_accuracy: 0.88649 | valid_accuracy: 0.91153 |  0:01:52s\n",
      "epoch 176| loss: 0.40016 | train_accuracy: 0.89424 | valid_accuracy: 0.92493 |  0:01:53s\n",
      "epoch 177| loss: 0.39092 | train_accuracy: 0.89203 | valid_accuracy: 0.92225 |  0:01:54s\n",
      "epoch 178| loss: 0.38352 | train_accuracy: 0.88981 | valid_accuracy: 0.93298 |  0:01:54s\n",
      "epoch 179| loss: 0.40204 | train_accuracy: 0.89424 | valid_accuracy: 0.93298 |  0:01:55s\n",
      "epoch 180| loss: 0.38428 | train_accuracy: 0.89646 | valid_accuracy: 0.93566 |  0:01:56s\n",
      "epoch 181| loss: 0.41415 | train_accuracy: 0.89812 | valid_accuracy: 0.93298 |  0:01:56s\n",
      "epoch 182| loss: 0.39143 | train_accuracy: 0.90421 | valid_accuracy: 0.93298 |  0:01:57s\n",
      "epoch 183| loss: 0.3552  | train_accuracy: 0.90033 | valid_accuracy: 0.93566 |  0:01:58s\n",
      "epoch 184| loss: 0.37019 | train_accuracy: 0.90033 | valid_accuracy: 0.91689 |  0:01:58s\n",
      "epoch 185| loss: 0.36567 | train_accuracy: 0.9031  | valid_accuracy: 0.93566 |  0:01:59s\n"
     ]
    },
    {
     "name": "stdout",
     "output_type": "stream",
     "text": [
      "epoch 186| loss: 0.38779 | train_accuracy: 0.90476 | valid_accuracy: 0.9437  |  0:02:00s\n",
      "epoch 187| loss: 0.35203 | train_accuracy: 0.90642 | valid_accuracy: 0.95174 |  0:02:00s\n",
      "epoch 188| loss: 0.37299 | train_accuracy: 0.90753 | valid_accuracy: 0.93834 |  0:02:01s\n",
      "epoch 189| loss: 0.35246 | train_accuracy: 0.89646 | valid_accuracy: 0.91957 |  0:02:02s\n",
      "epoch 190| loss: 0.37485 | train_accuracy: 0.89424 | valid_accuracy: 0.91957 |  0:02:02s\n",
      "epoch 191| loss: 0.38693 | train_accuracy: 0.89812 | valid_accuracy: 0.93029 |  0:02:03s\n",
      "epoch 192| loss: 0.38277 | train_accuracy: 0.90864 | valid_accuracy: 0.9437  |  0:02:04s\n",
      "epoch 193| loss: 0.37943 | train_accuracy: 0.90698 | valid_accuracy: 0.94906 |  0:02:04s\n",
      "epoch 194| loss: 0.38214 | train_accuracy: 0.90144 | valid_accuracy: 0.94102 |  0:02:05s\n",
      "epoch 195| loss: 0.40048 | train_accuracy: 0.90033 | valid_accuracy: 0.93834 |  0:02:06s\n",
      "epoch 196| loss: 0.39441 | train_accuracy: 0.9031  | valid_accuracy: 0.93566 |  0:02:06s\n",
      "epoch 197| loss: 0.36148 | train_accuracy: 0.90144 | valid_accuracy: 0.93298 |  0:02:07s\n",
      "epoch 198| loss: 0.37957 | train_accuracy: 0.90089 | valid_accuracy: 0.93834 |  0:02:07s\n",
      "epoch 199| loss: 0.36529 | train_accuracy: 0.90421 | valid_accuracy: 0.94638 |  0:02:08s\n",
      "epoch 200| loss: 0.36494 | train_accuracy: 0.90365 | valid_accuracy: 0.94906 |  0:02:09s\n",
      "epoch 201| loss: 0.38593 | train_accuracy: 0.90199 | valid_accuracy: 0.94638 |  0:02:09s\n",
      "epoch 202| loss: 0.39731 | train_accuracy: 0.90808 | valid_accuracy: 0.94638 |  0:02:10s\n",
      "epoch 203| loss: 0.37953 | train_accuracy: 0.91085 | valid_accuracy: 0.94638 |  0:02:11s\n",
      "epoch 204| loss: 0.35766 | train_accuracy: 0.91085 | valid_accuracy: 0.93566 |  0:02:11s\n",
      "epoch 205| loss: 0.38008 | train_accuracy: 0.90476 | valid_accuracy: 0.92493 |  0:02:12s\n",
      "epoch 206| loss: 0.35512 | train_accuracy: 0.90587 | valid_accuracy: 0.93298 |  0:02:13s\n",
      "epoch 207| loss: 0.35838 | train_accuracy: 0.90698 | valid_accuracy: 0.94102 |  0:02:13s\n",
      "epoch 208| loss: 0.39022 | train_accuracy: 0.90587 | valid_accuracy: 0.94102 |  0:02:14s\n",
      "epoch 209| loss: 0.36606 | train_accuracy: 0.91085 | valid_accuracy: 0.9437  |  0:02:14s\n",
      "epoch 210| loss: 0.36144 | train_accuracy: 0.91141 | valid_accuracy: 0.93566 |  0:02:15s\n",
      "epoch 211| loss: 0.3627  | train_accuracy: 0.9103  | valid_accuracy: 0.93298 |  0:02:16s\n",
      "epoch 212| loss: 0.3686  | train_accuracy: 0.9103  | valid_accuracy: 0.93834 |  0:02:16s\n",
      "epoch 213| loss: 0.36372 | train_accuracy: 0.91085 | valid_accuracy: 0.94102 |  0:02:17s\n",
      "epoch 214| loss: 0.35209 | train_accuracy: 0.91251 | valid_accuracy: 0.94638 |  0:02:18s\n",
      "epoch 215| loss: 0.3558  | train_accuracy: 0.91251 | valid_accuracy: 0.94102 |  0:02:18s\n",
      "epoch 216| loss: 0.35065 | train_accuracy: 0.91473 | valid_accuracy: 0.94102 |  0:02:19s\n",
      "epoch 217| loss: 0.36161 | train_accuracy: 0.9103  | valid_accuracy: 0.94102 |  0:02:20s\n",
      "epoch 218| loss: 0.35586 | train_accuracy: 0.90975 | valid_accuracy: 0.93566 |  0:02:20s\n",
      "epoch 219| loss: 0.35692 | train_accuracy: 0.90919 | valid_accuracy: 0.93834 |  0:02:21s\n",
      "epoch 220| loss: 0.37266 | train_accuracy: 0.91417 | valid_accuracy: 0.9437  |  0:02:21s\n",
      "epoch 221| loss: 0.36527 | train_accuracy: 0.91251 | valid_accuracy: 0.95442 |  0:02:22s\n",
      "epoch 222| loss: 0.35212 | train_accuracy: 0.91251 | valid_accuracy: 0.95174 |  0:02:23s\n",
      "epoch 223| loss: 0.35329 | train_accuracy: 0.91141 | valid_accuracy: 0.94906 |  0:02:23s\n",
      "epoch 224| loss: 0.34076 | train_accuracy: 0.91417 | valid_accuracy: 0.95174 |  0:02:24s\n",
      "epoch 225| loss: 0.36581 | train_accuracy: 0.91417 | valid_accuracy: 0.94638 |  0:02:25s\n",
      "epoch 226| loss: 0.34651 | train_accuracy: 0.91528 | valid_accuracy: 0.9437  |  0:02:25s\n",
      "epoch 227| loss: 0.36317 | train_accuracy: 0.91528 | valid_accuracy: 0.93566 |  0:02:26s\n",
      "epoch 228| loss: 0.32006 | train_accuracy: 0.91085 | valid_accuracy: 0.93566 |  0:02:26s\n",
      "epoch 229| loss: 0.34269 | train_accuracy: 0.91141 | valid_accuracy: 0.94638 |  0:02:27s\n",
      "epoch 230| loss: 0.33603 | train_accuracy: 0.91196 | valid_accuracy: 0.9437  |  0:02:28s\n",
      "epoch 231| loss: 0.31342 | train_accuracy: 0.91085 | valid_accuracy: 0.94638 |  0:02:28s\n",
      "epoch 232| loss: 0.36482 | train_accuracy: 0.91584 | valid_accuracy: 0.95174 |  0:02:29s\n",
      "epoch 233| loss: 0.3352  | train_accuracy: 0.91805 | valid_accuracy: 0.9571  |  0:02:30s\n",
      "epoch 234| loss: 0.35489 | train_accuracy: 0.92193 | valid_accuracy: 0.9571  |  0:02:30s\n",
      "epoch 235| loss: 0.34824 | train_accuracy: 0.91971 | valid_accuracy: 0.95174 |  0:02:31s\n",
      "epoch 236| loss: 0.3988  | train_accuracy: 0.91473 | valid_accuracy: 0.9437  |  0:02:31s\n",
      "epoch 237| loss: 0.35051 | train_accuracy: 0.91971 | valid_accuracy: 0.94906 |  0:02:32s\n",
      "epoch 238| loss: 0.33576 | train_accuracy: 0.91805 | valid_accuracy: 0.94102 |  0:02:33s\n",
      "epoch 239| loss: 0.3532  | train_accuracy: 0.91639 | valid_accuracy: 0.9437  |  0:02:33s\n",
      "epoch 240| loss: 0.32974 | train_accuracy: 0.91805 | valid_accuracy: 0.94638 |  0:02:34s\n",
      "epoch 241| loss: 0.31518 | train_accuracy: 0.91805 | valid_accuracy: 0.94638 |  0:02:35s\n",
      "epoch 242| loss: 0.31849 | train_accuracy: 0.9175  | valid_accuracy: 0.9437  |  0:02:35s\n",
      "epoch 243| loss: 0.31144 | train_accuracy: 0.92193 | valid_accuracy: 0.94906 |  0:02:36s\n",
      "epoch 244| loss: 0.3481  | train_accuracy: 0.92082 | valid_accuracy: 0.9437  |  0:02:37s\n",
      "epoch 245| loss: 0.3307  | train_accuracy: 0.9175  | valid_accuracy: 0.9437  |  0:02:37s\n",
      "epoch 246| loss: 0.32423 | train_accuracy: 0.91694 | valid_accuracy: 0.94638 |  0:02:38s\n",
      "epoch 247| loss: 0.31757 | train_accuracy: 0.91473 | valid_accuracy: 0.94906 |  0:02:39s\n",
      "epoch 248| loss: 0.36519 | train_accuracy: 0.91528 | valid_accuracy: 0.96247 |  0:02:39s\n",
      "epoch 249| loss: 0.33282 | train_accuracy: 0.91584 | valid_accuracy: 0.95174 |  0:02:40s\n",
      "epoch 250| loss: 0.30463 | train_accuracy: 0.91805 | valid_accuracy: 0.94638 |  0:02:41s\n",
      "epoch 251| loss: 0.34276 | train_accuracy: 0.92193 | valid_accuracy: 0.94638 |  0:02:42s\n",
      "epoch 252| loss: 0.3349  | train_accuracy: 0.9175  | valid_accuracy: 0.94638 |  0:02:42s\n",
      "epoch 253| loss: 0.32569 | train_accuracy: 0.92137 | valid_accuracy: 0.94906 |  0:02:43s\n",
      "epoch 254| loss: 0.31516 | train_accuracy: 0.9175  | valid_accuracy: 0.9437  |  0:02:44s\n",
      "epoch 255| loss: 0.33565 | train_accuracy: 0.92027 | valid_accuracy: 0.95442 |  0:02:44s\n",
      "epoch 256| loss: 0.31343 | train_accuracy: 0.92193 | valid_accuracy: 0.95979 |  0:02:45s\n",
      "epoch 257| loss: 0.34279 | train_accuracy: 0.92303 | valid_accuracy: 0.97051 |  0:02:46s\n",
      "epoch 258| loss: 0.33967 | train_accuracy: 0.92636 | valid_accuracy: 0.96515 |  0:02:47s\n",
      "epoch 259| loss: 0.32032 | train_accuracy: 0.92303 | valid_accuracy: 0.95979 |  0:02:47s\n",
      "epoch 260| loss: 0.37052 | train_accuracy: 0.92414 | valid_accuracy: 0.96247 |  0:02:48s\n",
      "epoch 261| loss: 0.35324 | train_accuracy: 0.92303 | valid_accuracy: 0.95442 |  0:02:49s\n",
      "epoch 262| loss: 0.32438 | train_accuracy: 0.9247  | valid_accuracy: 0.95442 |  0:02:50s\n",
      "epoch 263| loss: 0.34921 | train_accuracy: 0.92802 | valid_accuracy: 0.95442 |  0:02:51s\n",
      "epoch 264| loss: 0.33079 | train_accuracy: 0.92691 | valid_accuracy: 0.94906 |  0:02:51s\n",
      "epoch 265| loss: 0.3088  | train_accuracy: 0.92636 | valid_accuracy: 0.94906 |  0:02:52s\n",
      "epoch 266| loss: 0.31685 | train_accuracy: 0.92525 | valid_accuracy: 0.94638 |  0:02:53s\n",
      "epoch 267| loss: 0.35021 | train_accuracy: 0.9247  | valid_accuracy: 0.95174 |  0:02:54s\n",
      "epoch 268| loss: 0.32352 | train_accuracy: 0.9258  | valid_accuracy: 0.94638 |  0:02:55s\n",
      "epoch 269| loss: 0.33537 | train_accuracy: 0.92746 | valid_accuracy: 0.94638 |  0:02:55s\n",
      "epoch 270| loss: 0.3215  | train_accuracy: 0.92746 | valid_accuracy: 0.94906 |  0:02:56s\n",
      "epoch 271| loss: 0.31828 | train_accuracy: 0.92746 | valid_accuracy: 0.94906 |  0:02:57s\n",
      "epoch 272| loss: 0.32363 | train_accuracy: 0.92802 | valid_accuracy: 0.94906 |  0:02:57s\n",
      "epoch 273| loss: 0.36092 | train_accuracy: 0.92857 | valid_accuracy: 0.95442 |  0:02:58s\n",
      "epoch 274| loss: 0.32946 | train_accuracy: 0.92691 | valid_accuracy: 0.95442 |  0:02:59s\n",
      "epoch 275| loss: 0.30893 | train_accuracy: 0.92968 | valid_accuracy: 0.95442 |  0:03:00s\n",
      "epoch 276| loss: 0.33089 | train_accuracy: 0.92636 | valid_accuracy: 0.95442 |  0:03:00s\n",
      "epoch 277| loss: 0.3272  | train_accuracy: 0.9247  | valid_accuracy: 0.94906 |  0:03:01s\n",
      "epoch 278| loss: 0.30929 | train_accuracy: 0.92636 | valid_accuracy: 0.95442 |  0:03:02s\n"
     ]
    },
    {
     "name": "stdout",
     "output_type": "stream",
     "text": [
      "epoch 279| loss: 0.30564 | train_accuracy: 0.92746 | valid_accuracy: 0.95174 |  0:03:02s\n",
      "epoch 280| loss: 0.31287 | train_accuracy: 0.92968 | valid_accuracy: 0.94906 |  0:03:03s\n",
      "epoch 281| loss: 0.33975 | train_accuracy: 0.92746 | valid_accuracy: 0.95442 |  0:03:04s\n",
      "epoch 282| loss: 0.31624 | train_accuracy: 0.9247  | valid_accuracy: 0.94906 |  0:03:04s\n",
      "epoch 283| loss: 0.31787 | train_accuracy: 0.9247  | valid_accuracy: 0.95174 |  0:03:05s\n",
      "epoch 284| loss: 0.32555 | train_accuracy: 0.92857 | valid_accuracy: 0.95442 |  0:03:06s\n",
      "epoch 285| loss: 0.34353 | train_accuracy: 0.92746 | valid_accuracy: 0.95174 |  0:03:06s\n",
      "epoch 286| loss: 0.31667 | train_accuracy: 0.92968 | valid_accuracy: 0.95174 |  0:03:07s\n",
      "epoch 287| loss: 0.31669 | train_accuracy: 0.92913 | valid_accuracy: 0.95174 |  0:03:08s\n",
      "epoch 288| loss: 0.34001 | train_accuracy: 0.933   | valid_accuracy: 0.9571  |  0:03:08s\n",
      "epoch 289| loss: 0.31097 | train_accuracy: 0.93355 | valid_accuracy: 0.9571  |  0:03:09s\n",
      "epoch 290| loss: 0.33194 | train_accuracy: 0.93355 | valid_accuracy: 0.9571  |  0:03:09s\n",
      "epoch 291| loss: 0.29677 | train_accuracy: 0.93134 | valid_accuracy: 0.9571  |  0:03:10s\n",
      "epoch 292| loss: 0.29898 | train_accuracy: 0.92968 | valid_accuracy: 0.9571  |  0:03:11s\n",
      "epoch 293| loss: 0.31242 | train_accuracy: 0.92857 | valid_accuracy: 0.95442 |  0:03:11s\n",
      "epoch 294| loss: 0.31588 | train_accuracy: 0.92802 | valid_accuracy: 0.95442 |  0:03:12s\n",
      "epoch 295| loss: 0.31882 | train_accuracy: 0.93189 | valid_accuracy: 0.95979 |  0:03:13s\n",
      "epoch 296| loss: 0.31872 | train_accuracy: 0.93134 | valid_accuracy: 0.9571  |  0:03:13s\n",
      "epoch 297| loss: 0.33473 | train_accuracy: 0.93466 | valid_accuracy: 0.95979 |  0:03:14s\n",
      "epoch 298| loss: 0.34798 | train_accuracy: 0.93411 | valid_accuracy: 0.9571  |  0:03:15s\n",
      "epoch 299| loss: 0.30612 | train_accuracy: 0.93245 | valid_accuracy: 0.9571  |  0:03:15s\n",
      "epoch 300| loss: 0.34593 | train_accuracy: 0.93466 | valid_accuracy: 0.96247 |  0:03:16s\n",
      "epoch 301| loss: 0.32899 | train_accuracy: 0.93355 | valid_accuracy: 0.96247 |  0:03:17s\n",
      "epoch 302| loss: 0.29091 | train_accuracy: 0.93688 | valid_accuracy: 0.95979 |  0:03:18s\n",
      "epoch 303| loss: 0.30436 | train_accuracy: 0.933   | valid_accuracy: 0.95442 |  0:03:18s\n",
      "epoch 304| loss: 0.33297 | train_accuracy: 0.93522 | valid_accuracy: 0.9571  |  0:03:19s\n",
      "epoch 305| loss: 0.31919 | train_accuracy: 0.93355 | valid_accuracy: 0.95979 |  0:03:20s\n",
      "epoch 306| loss: 0.29536 | train_accuracy: 0.93079 | valid_accuracy: 0.9571  |  0:03:21s\n",
      "epoch 307| loss: 0.30813 | train_accuracy: 0.93134 | valid_accuracy: 0.95979 |  0:03:21s\n",
      "\n",
      "Early stopping occurred at epoch 307 with best_epoch = 257 and best_valid_accuracy = 0.97051\n"
     ]
    }
   ],
   "source": [
    "clf1_tabnet = TabNetClassifier(optimizer_fn=torch.optim.Adam,\n",
    "                       optimizer_params=dict(lr=2e-2),\n",
    "                       scheduler_params={\"step_size\":10, # how to use learning rate scheduler\n",
    "                                         \"gamma\":0.9},\n",
    "                       scheduler_fn=torch.optim.lr_scheduler.StepLR,\n",
    "                       mask_type='entmax' # \"sparsemax\"\n",
    "                      )\n",
    "\n",
    "# fit the model \n",
    "clf1_tabnet.fit(\n",
    "    X_train_std,y_train,\n",
    "    eval_set=[(X_train_std, y_train), (X_test_std, y_test)],\n",
    "    eval_name=['train', 'valid'],\n",
    "    eval_metric=['accuracy'],\n",
    "    max_epochs=500 , patience=50,\n",
    "    batch_size=256, virtual_batch_size=128,\n",
    "    num_workers=0,\n",
    "    weights=1,\n",
    "    drop_last=False\n",
    ")            "
   ]
  },
  {
   "cell_type": "code",
   "execution_count": 60,
   "metadata": {},
   "outputs": [
    {
     "data": {
      "image/png": "[encoded data removed]",
      "text/plain": [
       "<Figure size 432x288 with 1 Axes>"
      ]
     },
     "metadata": {
      "needs_background": "light"
     },
     "output_type": "display_data"
    }
   ],
   "source": [
    "plt.plot(clf1_tabnet.history['loss'])\n",
    "plt.show()"
   ]
  },
  {
   "cell_type": "code",
   "execution_count": 61,
   "metadata": {},
   "outputs": [
    {
     "data": {
      "image/png": "[encoded data removed]",
      "text/plain": [
       "<Figure size 432x288 with 1 Axes>"
      ]
     },
     "metadata": {
      "needs_background": "light"
     },
     "output_type": "display_data"
    }
   ],
   "source": [
    "plt.plot(clf1_tabnet.history['train_accuracy'])\n",
    "plt.plot(clf1_tabnet.history['valid_accuracy'])\n",
    "plt.legend(['train', 'test'], loc='upper left')\n",
    "plt.show()"
   ]
  },
  {
   "cell_type": "code",
   "execution_count": 62,
   "metadata": {},
   "outputs": [
    {
     "name": "stdout",
     "output_type": "stream",
     "text": [
      "\n",
      "\n",
      "Confusion Matrix:\n",
      "[[184   5   1]\n",
      " [  1 142   3]\n",
      " [  1   0  36]]\n",
      "\n",
      "\n",
      "Classification Report: \n",
      "              precision    recall  f1-score   support\n",
      "\n",
      "           0       0.99      0.97      0.98       190\n",
      "           1       0.97      0.97      0.97       146\n",
      "           2       0.90      0.97      0.94        37\n",
      "\n",
      "    accuracy                           0.97       373\n",
      "   macro avg       0.95      0.97      0.96       373\n",
      "weighted avg       0.97      0.97      0.97       373\n",
      "\n"
     ]
    },
    {
     "data": {
      "image/png": "[encoded data removed]",
      "text/plain": [
       "<Figure size 432x288 with 1 Axes>"
      ]
     },
     "metadata": {
      "needs_background": "light"
     },
     "output_type": "display_data"
    },
    {
     "name": "stdout",
     "output_type": "stream",
     "text": [
      "\n",
      "Acuuracy Of the Model:  0.9705093833780161 \n",
      "\n",
      "\n"
     ]
    }
   ],
   "source": [
    "report_performance(clf1_tabnet) \n",
    "accuracy(clf1_tabnet)"
   ]
  },
  {
   "cell_type": "code",
   "execution_count": 63,
   "metadata": {},
   "outputs": [
    {
     "name": "stdout",
     "output_type": "stream",
     "text": [
      "Successfully saved model at tabnet_model.zip\n"
     ]
    },
    {
     "data": {
      "text/plain": [
       "'tabnet_model.zip'"
      ]
     },
     "execution_count": 63,
     "metadata": {},
     "output_type": "execute_result"
    }
   ],
   "source": [
    "clf1_tabnet.save_model('tabnet_model')"
   ]
  },
  {
   "cell_type": "code",
   "execution_count": 64,
   "metadata": {},
   "outputs": [],
   "source": [
    "model2 = TabNetClassifier()\n",
    "model2.load_model('tabnet_model.zip')"
   ]
  },
  {
   "cell_type": "code",
   "execution_count": 65,
   "metadata": {},
   "outputs": [
    {
     "name": "stdout",
     "output_type": "stream",
     "text": [
      "Nondemented\n"
     ]
    }
   ],
   "source": [
    "pred=model2.predict(test_data)\n",
    "if pred[0]==0:\n",
    "    print('Nondemented')\n",
    "elif pred[0]==1:\n",
    "    print('Demented')\n",
    "else:\n",
    "    print('Converted')"
   ]
  },
  {
   "cell_type": "code",
   "execution_count": 66,
   "metadata": {},
   "outputs": [
    {
     "name": "stdout",
     "output_type": "stream",
     "text": [
      "Demented\n"
     ]
    }
   ],
   "source": [
    "pred=model2.predict(test_data1)\n",
    "if pred[0]==0:\n",
    "    print('Nondemented')\n",
    "elif pred[0]==1:\n",
    "    print('Demented')\n",
    "else:\n",
    "    print('Converted')"
   ]
  },
  {
   "cell_type": "code",
   "execution_count": 67,
   "metadata": {},
   "outputs": [
    {
     "name": "stdout",
     "output_type": "stream",
     "text": [
      "Converted\n"
     ]
    }
   ],
   "source": [
    "pred=model2.predict(test_data2)\n",
    "if pred[0]==0:\n",
    "    print('Nondemented')\n",
    "elif pred[0]==1:\n",
    "    print('Demented')\n",
    "else:\n",
    "    print('Converted')"
   ]
  },
  {
   "cell_type": "code",
   "execution_count": 68,
   "metadata": {},
   "outputs": [],
   "source": [
    "estimator = []"
   ]
  },
  {
   "cell_type": "code",
   "execution_count": 69,
   "metadata": {},
   "outputs": [],
   "source": [
    "estimator.append(('catboost', CatBoostClassifier(iterations=1000, verbose = 0)))\n",
    "estimator.append(('xgb', XGBClassifier(random_state=0)))"
   ]
  },
  {
   "cell_type": "code",
   "execution_count": 70,
   "metadata": {},
   "outputs": [],
   "source": [
    "from sklearn.ensemble import RandomForestClassifier, VotingClassifier\n",
    "voting_cls=VotingClassifier(estimators = estimator, voting ='soft')"
   ]
  },
  {
   "cell_type": "code",
   "execution_count": 71,
   "metadata": {},
   "outputs": [],
   "source": [
    "voting_cls = voting_cls.fit(X_train_std, y_train)"
   ]
  },
  {
   "cell_type": "code",
   "execution_count": 72,
   "metadata": {},
   "outputs": [
    {
     "name": "stdout",
     "output_type": "stream",
     "text": [
      "\n",
      "\n",
      "Confusion Matrix:\n",
      "[[190   0   0]\n",
      " [  0 146   0]\n",
      " [  0   0  37]]\n",
      "\n",
      "\n",
      "Classification Report: \n",
      "              precision    recall  f1-score   support\n",
      "\n",
      "           0       1.00      1.00      1.00       190\n",
      "           1       1.00      1.00      1.00       146\n",
      "           2       1.00      1.00      1.00        37\n",
      "\n",
      "    accuracy                           1.00       373\n",
      "   macro avg       1.00      1.00      1.00       373\n",
      "weighted avg       1.00      1.00      1.00       373\n",
      "\n"
     ]
    },
    {
     "data": {
      "image/png": "[encoded data removed]",
      "text/plain": [
       "<Figure size 432x288 with 1 Axes>"
      ]
     },
     "metadata": {
      "needs_background": "light"
     },
     "output_type": "display_data"
    },
    {
     "name": "stdout",
     "output_type": "stream",
     "text": [
      "\n",
      "Acuuracy Of the Model:  1.0 \n",
      "\n",
      "\n"
     ]
    }
   ],
   "source": [
    "report_performance(voting_cls) \n",
    "accuracy(voting_cls)"
   ]
  },
  {
   "cell_type": "code",
   "execution_count": 73,
   "metadata": {},
   "outputs": [],
   "source": [
    "import pickle\n",
    "pickle.dump(voting_cls, open('voting_cls.sav', 'wb'))"
   ]
  },
  {
   "cell_type": "code",
   "execution_count": 74,
   "metadata": {},
   "outputs": [],
   "source": [
    "en_model = pickle.load(open('voting_cls.sav', 'rb'))"
   ]
  },
  {
   "cell_type": "code",
   "execution_count": 75,
   "metadata": {},
   "outputs": [
    {
     "name": "stdout",
     "output_type": "stream",
     "text": [
      "Nondemented\n"
     ]
    }
   ],
   "source": [
    "pred=en_model.predict(test_data)\n",
    "if pred[0]==0:\n",
    "    print('Nondemented')\n",
    "elif pred[0]==1:\n",
    "    print('Demented')\n",
    "else:\n",
    "    print('Converted')"
   ]
  },
  {
   "cell_type": "code",
   "execution_count": 76,
   "metadata": {},
   "outputs": [
    {
     "name": "stdout",
     "output_type": "stream",
     "text": [
      "Demented\n"
     ]
    }
   ],
   "source": [
    "pred=en_model.predict(test_data1)\n",
    "if pred[0]==0:\n",
    "    print('Nondemented')\n",
    "elif pred[0]==1:\n",
    "    print('Demented')\n",
    "else:\n",
    "    print('Converted')"
   ]
  },
  {
   "cell_type": "code",
   "execution_count": 77,
   "metadata": {},
   "outputs": [
    {
     "name": "stdout",
     "output_type": "stream",
     "text": [
      "Converted\n"
     ]
    }
   ],
   "source": [
    "pred=en_model.predict(test_data2)\n",
    "if pred[0]==0:\n",
    "    print('Nondemented')\n",
    "elif pred[0]==1:\n",
    "    print('Demented')\n",
    "else:\n",
    "    print('Converted')"
   ]
  },
  {
   "cell_type": "code",
   "execution_count": null,
   "metadata": {},
   "outputs": [],
   "source": []
  }
 ],
 "metadata": {
  "kernelspec": {
   "display_name": "Python 3 (ipykernel)",
   "language": "python",
   "name": "python3"
  },
  "language_info": {
   "codemirror_mode": {
    "name": "ipython",
    "version": 3
   },
   "file_extension": ".py",
   "mimetype": "text/x-python",
   "name": "python",
   "nbconvert_exporter": "python",
   "pygments_lexer": "ipython3",
   "version": "3.9.7"
  }
 },
 "nbformat": 4,
 "nbformat_minor": 4
}
